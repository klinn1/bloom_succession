{
 "cells": [
  {
   "cell_type": "code",
   "execution_count": 4,
   "metadata": {},
   "outputs": [],
   "source": [
    "import matplotlib.pyplot as plt\n",
    "from matplotlib.lines import Line2D\n",
    "from mpl_toolkits.axes_grid1 import make_axes_locatable\n",
    "import numpy as np\n",
    "import math\n",
    "import sys\n",
    "\n",
    "# time change (discrete time)\n",
    "T = 1095.0 #days\n",
    "dt = 1\n",
    "#time array\n",
    "t = np.linspace(0, T, int(T/dt))\n",
    "\n",
    "\n",
    "\n",
    "# array  to store  the  solution if you were using Euler's method\n",
    "N = np.zeros((len(t),len(zetas)))\n",
    "P1 = np.zeros((len(t),len(zetas)))\n",
    "P2 = np.zeros((len(t),len(zetas)))\n",
    "C = np.zeros((len(t),len(zetas)))\n",
    "light = np.zeros((len(t),len(zetas)))\n",
    "N[0,:] = 0.4\n",
    "P1[0,:] = 0.5\n",
    "P2[0,:] = 0.5\n",
    "C[0,:] = 0.5\n",
    "\n",
    "#initial light irradiance (constant)\n",
    "I_naughts = np.empty(len(t))\n",
    "\n",
    "#inital light irradiance (seasonal)\n",
    "I_max = 25\n",
    "I_min = -6\n",
    "\n",
    "i = 0\n",
    "for a in t:\n",
    "    if a>1095.0:\n",
    "        I_naughts[i] = I_min\n",
    "    else:\n",
    "        I_naughts[i] = I_min + (I_max-I_min)/2.*(np.sin(((a)/365*2*np.pi-np.pi/2))+1)\n",
    "    i = i + 1"
   ]
  },
  {
   "cell_type": "code",
   "execution_count": 8,
   "metadata": {},
   "outputs": [
    {
     "data": {
      "text/plain": [
       "Text(0, 0.5, 'Temperature (Degrees Celcius)')"
      ]
     },
     "execution_count": 8,
     "metadata": {},
     "output_type": "execute_result"
    },
    {
     "data": {
      "image/png": "[encoded data removed]",
      "text/plain": [
       "<Figure size 432x288 with 1 Axes>"
      ]
     },
     "metadata": {
      "needs_background": "light"
     },
     "output_type": "display_data"
    }
   ],
   "source": [
    "plt.plot(t, I_naughts, color = 'black')\n",
    "plt.title('Temperature Fluctuation')\n",
    "plt.xlabel('Days')\n",
    "plt.ylabel('Temperature (Degrees Celcius)')"
   ]
  },
  {
   "cell_type": "code",
   "execution_count": 17,
   "metadata": {},
   "outputs": [],
   "source": [
    "# values from tables.docx\n",
    "phi1 = 0.2 #interaction strength for p1\n",
    "phi2 = 0.1 #interaction strength for p2\n",
    "mu1 = 3.0 #resource affinity parameter for p1\n",
    "mu2 = 2.0 #resource affinity parameter for p2\n",
    "eps1 = 0.4 #transfer efficiency for p1\n",
    "eps2 = 0.3 #transfer efficiency for p2\n",
    "delta1 = 0.1 #producer mortality\n",
    "delta2 = 0.1 #producer mortality\n",
    "deltaC = 0.1 #consumer mortality\n",
    "deltaN = 0.1 #nutrient degredation\n",
    "\n",
    "\n",
    "S_R = 2 #resource supply\n",
    "\n",
    "#S_R = (m_p*m_c)/(eps1*phi1)\n",
    "\n",
    "##dR = S_R - mu1*R*P1 - mu2*R*P2 - m_r*R \n",
    "##dP1 = (mu1*R*P1) - (phi1*P1*C) - (m_p*P1) \n",
    "##dP2 = (mu2*R*P2) - (phi2*P2*C) - (m_p*P2) \n",
    "##dC = (eps1*phi1*P1*C)+(eps2*phi2*P2*C) - (m_c*C) "
   ]
  },
  {
   "cell_type": "code",
   "execution_count": 18,
   "metadata": {},
   "outputs": [
    {
     "name": "stderr",
     "output_type": "stream",
     "text": [
      "<ipython-input-18-8458eafbfd6b>:2: RuntimeWarning: overflow encountered in multiply\n",
      "  dNdt = S_R - (mu1*N[i-1]*P1[i-1]) - (mu2*N[i-1]*P2[i-1]) - deltaN*N[i-1]\n",
      "<ipython-input-18-8458eafbfd6b>:3: RuntimeWarning: overflow encountered in multiply\n",
      "  dP1dt = (mu1*N[i-1]*P1[i-1]) - (phi1*P1[i-1]*C[i-1]) - (delta1*P1[i-1])\n",
      "<ipython-input-18-8458eafbfd6b>:4: RuntimeWarning: overflow encountered in multiply\n",
      "  dP2dt = (mu2*N[i-1]*P2[i-1]) - (phi2*P2[i-1]*C[i-1]) - (delta2*P2[i-1])\n",
      "<ipython-input-18-8458eafbfd6b>:5: RuntimeWarning: overflow encountered in multiply\n",
      "  dCdt = (eps1*phi1*P1[i-1]*C[i-1]) + (eps2*phi2*P2[i-1]*C[i-1]) - (deltaC*C[i-1])\n",
      "<ipython-input-18-8458eafbfd6b>:2: RuntimeWarning: invalid value encountered in subtract\n",
      "  dNdt = S_R - (mu1*N[i-1]*P1[i-1]) - (mu2*N[i-1]*P2[i-1]) - deltaN*N[i-1]\n",
      "<ipython-input-18-8458eafbfd6b>:3: RuntimeWarning: invalid value encountered in subtract\n",
      "  dP1dt = (mu1*N[i-1]*P1[i-1]) - (phi1*P1[i-1]*C[i-1]) - (delta1*P1[i-1])\n",
      "<ipython-input-18-8458eafbfd6b>:4: RuntimeWarning: invalid value encountered in subtract\n",
      "  dP2dt = (mu2*N[i-1]*P2[i-1]) - (phi2*P2[i-1]*C[i-1]) - (delta2*P2[i-1])\n",
      "<ipython-input-18-8458eafbfd6b>:9: RuntimeWarning: invalid value encountered in add\n",
      "  C[i] = C[i-1] + dCdt * dt\n"
     ]
    }
   ],
   "source": [
    "for i in range(1, len(t)):\n",
    "        dNdt = S_R - (mu1*N[i-1]*P1[i-1]) - (mu2*N[i-1]*P2[i-1]) - deltaN*N[i-1]\n",
    "        dP1dt = (mu1*N[i-1]*P1[i-1]) - (phi1*P1[i-1]*C[i-1]) - (delta1*P1[i-1])\n",
    "        dP2dt = (mu2*N[i-1]*P2[i-1]) - (phi2*P2[i-1]*C[i-1]) - (delta2*P2[i-1])\n",
    "        dCdt = (eps1*phi1*P1[i-1]*C[i-1]) + (eps2*phi2*P2[i-1]*C[i-1]) - (deltaC*C[i-1])\n",
    "        N[i] = N[i-1] + dNdt * dt\n",
    "        P1[i] = P1[i-1] + dP1dt * dt\n",
    "        P2[i] = P2[i-1] + dP2dt * dt\n",
    "        C[i] = C[i-1] + dCdt * dt\n"
   ]
  },
  {
   "cell_type": "code",
   "execution_count": 19,
   "metadata": {},
   "outputs": [
    {
     "data": {
      "image/png": "[encoded data removed]",
      "text/plain": [
       "<Figure size 432x288 with 1 Axes>"
      ]
     },
     "metadata": {
      "needs_background": "light"
     },
     "output_type": "display_data"
    }
   ],
   "source": [
    "plt.plot(t,N)\n",
    "\n",
    "plt.show()"
   ]
  },
  {
   "cell_type": "code",
   "execution_count": null,
   "metadata": {},
   "outputs": [],
   "source": []
  }
 ],
 "metadata": {
  "kernelspec": {
   "display_name": "Python 3",
   "language": "python",
   "name": "python3"
  },
  "language_info": {
   "codemirror_mode": {
    "name": "ipython",
    "version": 3
   },
   "file_extension": ".py",
   "mimetype": "text/x-python",
   "name": "python",
   "nbconvert_exporter": "python",
   "pygments_lexer": "ipython3",
   "version": "3.8.11"
  }
 },
 "nbformat": 4,
 "nbformat_minor": 4
}
