{
 "cells": [
  {
   "cell_type": "code",
   "execution_count": 1,
   "metadata": {},
   "outputs": [],
   "source": [
    "import matplotlib.pyplot as plt\n",
    "import numpy as np\n",
    "import math\n",
    "from scipy.integrate import odeint\n",
    "import pandas as pd"
   ]
  },
  {
   "cell_type": "code",
   "execution_count": 2,
   "metadata": {},
   "outputs": [],
   "source": [
    "mu = 0.978 # prey growth rate (host growth) \n",
    "\n",
    "mu_con =  0.528\n",
    "\n",
    "lam = 0.704 # rate of predator consumption/interception of prey \n",
    "            # (lysis rate) rate of production of predators when they have captured prey\n",
    "\n",
    "phi = 0.0000000382 # ability of predator to find, recognize, and \n",
    "                    # intercept prey (adsorption & initial replication; \n",
    "                    # transfer affinity, & clearance rate)\n",
    "                    #encounter and capture \n",
    "\n",
    "beta = 257.54 # amount of predator mass product as a result of \n",
    "                # consumption (typically in units of virus particles \n",
    "                # produced by lysis of host population) (not a rate) -burst size\n",
    "\n",
    "#eps =  # amount of resource (prey debris) not consumed by predator- efficiency\n",
    " \n",
    "delta = 0.002 # predator death rate (viral decay)\n",
    "\n",
    "#different units\n",
    "    #mu = day^-1\n",
    "    #lam = day^-1\n",
    "    #phi = mL of predator^-1 day^-1\n",
    "    #beta = viruses host^-1\n",
    "    #eps = fmolC predator^-1\n",
    "    #delta = day^-1"
   ]
  },
  {
   "cell_type": "code",
   "execution_count": 3,
   "metadata": {},
   "outputs": [
    {
     "name": "stdout",
     "output_type": "stream",
     "text": [
      "[0.00000000e+00 4.27104689e-04 8.54209377e-04 ... 8.54081246e+00\n",
      " 8.54123956e+00 8.54166667e+00]\n",
      "(42043.61, 0.0, 1737401.0)\n"
     ]
    }
   ],
   "source": [
    "# time  step\n",
    "dt = 0.04\n",
    "\n",
    "# time change (discrete time)\n",
    "T = 205 / 24.0\n",
    "t = np.linspace(0, T, 20000)\n",
    "#t = np.linspace(0,T,int(T/dt))\n",
    "print(t)\n",
    "\n",
    "# array  to store  the  solution\n",
    "S = np.zeros(len(t))\n",
    "I = np.zeros(len(t))\n",
    "V = np.zeros(len(t))\n",
    "\n",
    "# define  initial  conditions, Euler’s method\n",
    "S[0] = 42043.61\n",
    "I[0] = 0.0\n",
    "V[0] = 1737401\n",
    "\n",
    "y0 = S[0], I[0], V[0]\n",
    "print(y0)"
   ]
  },
  {
   "cell_type": "code",
   "execution_count": 4,
   "metadata": {
    "scrolled": true
   },
   "outputs": [
    {
     "name": "stdout",
     "output_type": "stream",
     "text": [
      "[ 4.20436100e+04  4.20599834e+04  4.20763631e+04 ... -3.58471415e-09\n",
      " -3.62343197e-09 -3.66183822e-09]\n",
      "[0.00000000e+00 1.19183656e+00 2.38377719e+00 ... 6.17433755e+04\n",
      " 6.17248132e+04 6.17062565e+04]\n",
      "[1.73740100e+06 1.73739837e+06 1.73739583e+06 ... 3.57926174e+08\n",
      " 3.57930649e+08 3.57935122e+08]\n"
     ]
    }
   ],
   "source": [
    "# differential  equations\n",
    "##dS = mu*S - phi*S*V #dS/dt\n",
    "##dI = phi*S*V - lam*I #dI/dt\n",
    "##dV = -phi*S*V + beta*lam*I - delta*V #dV/dt\n",
    "\n",
    "def deriv(y, t, mu, lam, phi, beta, delta):\n",
    "    S,I,V = y\n",
    "    dSdt = (mu*S) - (phi*S*V)\n",
    "    dIdt = (phi*S*V) - (lam*I)\n",
    "    dVdt = (-phi*S*V) + (beta*lam*I) - (delta*V)\n",
    "    return dSdt, dIdt, dVdt\n",
    "\n",
    "integ = odeint(deriv, y0, t, args=(mu, lam, phi, beta, delta))\n",
    "S,I,V = integ.T\n",
    "\n",
    "print(S)\n",
    "print(I)\n",
    "print(V)"
   ]
  },
  {
   "cell_type": "code",
   "execution_count": 5,
   "metadata": {},
   "outputs": [
    {
     "name": "stdout",
     "output_type": "stream",
     "text": [
      "        time  abundance\n",
      "0    12.3162     4.6237\n",
      "1    22.9540     4.9014\n",
      "2    33.5975     5.1236\n",
      "3    44.2392     5.3643\n",
      "4    54.8828     5.5865\n",
      "5    66.0160     5.7626\n",
      "6    76.6673     5.9110\n",
      "7    87.3223     6.0224\n",
      "8   110.5825     6.1438\n",
      "9   131.9042     6.2558\n",
      "10  154.2099     6.2294\n",
      "11  176.0242     6.2675\n",
      "12  204.1385     6.3338\n",
      "0     4.204361e+04\n",
      "1     7.968930e+04\n",
      "2     1.329230e+05\n",
      "3     2.313662e+05\n",
      "4     3.859224e+05\n",
      "5     5.788953e+05\n",
      "6     8.147043e+05\n",
      "7     1.052931e+06\n",
      "8     1.392515e+06\n",
      "9     1.802188e+06\n",
      "10    1.695899e+06\n",
      "11    1.851399e+06\n",
      "12    2.156751e+06\n",
      "Name: abundance, dtype: float64\n"
     ]
    },
    {
     "data": {
      "text/plain": [
       "[<matplotlib.lines.Line2D at 0x15153b6860>]"
      ]
     },
     "execution_count": 5,
     "metadata": {},
     "output_type": "execute_result"
    },
    {
     "data": {
      "image/png": "[encoded data removed]",
      "text/plain": [
       "<Figure size 432x288 with 1 Axes>"
      ]
     },
     "metadata": {
      "needs_background": "light"
     },
     "output_type": "display_data"
    }
   ],
   "source": [
    "#plt.plot(t,S, 'r--')\n",
    "plt.xlabel('Time', color = 'k')\n",
    "\n",
    "\n",
    "dS_csv = pd.read_csv('Tomaru_43_fig6a_host_control.txt',delimiter=',')\n",
    "print(dS_csv)\n",
    "unlogS = 10**(dS_csv['abundance'])\n",
    "print(unlogS)\n",
    "\n",
    "dS_csv[\"time\"] = dS_csv[\"time\"]/24.0\n",
    "\n",
    "plt.plot(dS_csv[\"time\"],unlogS,'or')\n",
    "plt.plot(t,S,'r')"
   ]
  },
  {
   "cell_type": "code",
   "execution_count": 6,
   "metadata": {},
   "outputs": [
    {
     "name": "stdout",
     "output_type": "stream",
     "text": [
      "        time  abundance\n",
      "0    11.8294     4.6421\n",
      "1    22.4691     4.9013\n",
      "2    33.5966     5.1328\n",
      "3    44.2382     5.3735\n",
      "4    54.8837     5.5773\n",
      "5    66.4903     5.8643\n",
      "6    76.1987     5.7540\n",
      "7    87.3300     5.9485\n",
      "8   110.1130     5.9960\n",
      "9   132.4399     5.7664\n",
      "10  153.7932     5.5737\n",
      "11  176.7498     3.9496\n",
      "12  204.4062     3.7572\n",
      "0      43863.168483\n",
      "1      79670.950781\n",
      "2     135768.806414\n",
      "3     236319.739915\n",
      "4     377833.098659\n",
      "5     731644.310949\n",
      "6     567544.605409\n",
      "7     888177.976319\n",
      "8     990831.944893\n",
      "9     583982.724619\n",
      "10    374714.069514\n",
      "11      8904.304436\n",
      "12      5717.418729\n",
      "Name: abundance, dtype: float64\n"
     ]
    },
    {
     "data": {
      "text/plain": [
       "[<matplotlib.lines.Line2D at 0x1515920cc0>]"
      ]
     },
     "execution_count": 6,
     "metadata": {},
     "output_type": "execute_result"
    },
    {
     "data": {
      "image/png": "[encoded data removed]",
      "text/plain": [
       "<Figure size 432x288 with 1 Axes>"
      ]
     },
     "metadata": {
      "needs_background": "light"
     },
     "output_type": "display_data"
    }
   ],
   "source": [
    "#plt.plot(t,I, 'b')\n",
    "plt.xlabel('Time', color = 'k')\n",
    "\n",
    "dI_csv = pd.read_csv('Tomaru_43_fig6a_host_infected.txt',delimiter=',')\n",
    "print(dI_csv)\n",
    "\n",
    "\n",
    "unlogI = 10**(dI_csv['abundance'])\n",
    "print(unlogI)\n",
    "\n",
    "dI_csv[\"time\"] = dI_csv[\"time\"]/24.0\n",
    "\n",
    "plt.plot(dI_csv['time'],unlogI,'ob')\n",
    "plt.plot(t,S+I,'b')"
   ]
  },
  {
   "cell_type": "code",
   "execution_count": 7,
   "metadata": {},
   "outputs": [
    {
     "name": "stdout",
     "output_type": "stream",
     "text": [
      "        time   virus\n",
      "0    10.0075  6.2399\n",
      "1    21.0455  6.3080\n",
      "2    34.5436  5.8576\n",
      "3    45.1304  6.5130\n",
      "4    57.7231  6.6040\n",
      "5    68.7337  7.0060\n",
      "6    79.6864  7.4426\n",
      "7   102.8934  7.8550\n",
      "8   126.7774  8.4976\n",
      "9   150.8706  8.3801\n",
      "10  174.6940  8.4241\n",
      "11  204.6597  8.6055\n",
      "0     1.737401e+06\n",
      "1     2.032357e+06\n",
      "2     7.204436e+05\n",
      "3     3.258367e+06\n",
      "4     4.017908e+06\n",
      "5     1.013911e+07\n",
      "6     2.770767e+07\n",
      "7     7.161434e+07\n",
      "8     3.144850e+08\n",
      "9     2.399385e+08\n",
      "10    2.655217e+08\n",
      "11    4.031809e+08\n",
      "Name: virus, dtype: float64\n"
     ]
    },
    {
     "data": {
      "text/plain": [
       "[<matplotlib.lines.Line2D at 0x1515b21278>]"
      ]
     },
     "execution_count": 7,
     "metadata": {},
     "output_type": "execute_result"
    },
    {
     "data": {
      "image/png": "[encoded data removed]",
      "text/plain": [
       "<Figure size 432x288 with 1 Axes>"
      ]
     },
     "metadata": {
      "needs_background": "light"
     },
     "output_type": "display_data"
    }
   ],
   "source": [
    "#plt.plot(t,V, 'g')\n",
    "plt.xlabel('Time', color = 'k')\n",
    "\n",
    "\n",
    "\n",
    "dV_csv = pd.read_csv('Tomaru_43_fig6b_viral_abundance.txt',delimiter=',')\n",
    "print(dV_csv)\n",
    "\n",
    "unlogV = 10**(dV_csv['virus'])\n",
    "print(unlogV)\n",
    "\n",
    "dV_csv[\"time\"] = dV_csv[\"time\"]/24.0\n",
    "\n",
    "plt.plot(dV_csv['time'],unlogV,'og')\n",
    "plt.plot(t,V,'g')"
   ]
  },
  {
   "cell_type": "code",
   "execution_count": 8,
   "metadata": {},
   "outputs": [
    {
     "data": {
      "text/plain": [
       "15622843389.955963"
      ]
     },
     "execution_count": 8,
     "metadata": {},
     "output_type": "execute_result"
    }
   ],
   "source": [
    "np.exp(.978*24)"
   ]
  },
  {
   "cell_type": "code",
   "execution_count": 9,
   "metadata": {},
   "outputs": [],
   "source": [
    "#PLOTTING WITH 2 EQUATION SYSTEM (BLACK LINE) WITHOUT OPTIMIZING PARAMETERS\n",
    "\n",
    "#dHdt = (mu*H) - (lam*((phi*H*Z)/(lam+phi*H)))\n",
    "#dZdt = ((beta - 1)*lam*((phi*H*Z)/(lam+phi*H))) - (delta*Z)\n",
    "\n",
    "#mu = 0.978\n",
    "#lam = 0.704\n",
    "#phi = 0.0000000191\n",
    "#beta = 128.77\n",
    "#delta = 0.002\n",
    "\n",
    "\n",
    "#H = np.zeros(len(t))\n",
    "#Z = np.zeros(len(t))\n",
    "#H[0] = S[0]+ I[0]\n",
    "#Z[0] = V[0]\n",
    "#y0 = H[0],V[0]\n",
    "\n",
    "#def hz_model(y, t, mu, lam, phi, beta, delta):\n",
    "    #H,Z = y\n",
    "    #dHdt = (mu*H) - (lam*((phi*H*Z)/(lam+phi*H)))\n",
    "    #dZdt = ((beta - 1)*lam*((phi*H*Z)/(lam+phi*H))) - (delta*Z)\n",
    "    #return dHdt, dZdt\n",
    "\n",
    "\n",
    "#integ_hz = odeint(hz_model, y0, t, args=(mu, lam, phi, beta, delta))\n",
    "#H, Z = integ_hz.T\n",
    "\n",
    "#print(H)\n",
    "#print(Z)"
   ]
  },
  {
   "cell_type": "code",
   "execution_count": 10,
   "metadata": {},
   "outputs": [],
   "source": [
    "#PLOTTING WITH 2 EQUATION SYSTEM (BLACK LINE) WITHOUT OPTIMIZING PARAMETERS\n",
    "\n",
    "\n",
    "#plt.plot(t,I, 'b')\n",
    "#plt.xlabel('Time', color = 'k')\n",
    "\n",
    "#dI_csv = pd.read_csv('Tomaru 43 - Fig 6a_HOST abundance (cell per ml) as a function of time (hr) HOST INFECTED y-log.txt',delimiter=',')\n",
    "#print(dI_csv)\n",
    "\n",
    "\n",
    "#unlogI = 10**(dI_csv['abundance'])\n",
    "#print(unlogI)\n",
    "\n",
    "#dI_csv[\"time\"] = dI_csv[\"time\"]/24.0\n",
    "\n",
    "#plt.plot(dI_csv['time'],unlogI,'ob')\n",
    "#plt.plot(t,S+I,'b')\n",
    "\n",
    "\n",
    "\n",
    "#plt.plot(t, H, color = 'black')"
   ]
  },
  {
   "cell_type": "code",
   "execution_count": 10,
   "metadata": {},
   "outputs": [],
   "source": [
    "#PLOTTING WITH 2 EQUATION SYSTEM (BLACK LINE) WITHOUT OPTIMIZING PARAMETERS\n",
    "\n",
    "#plt.xlabel('Time', color = 'k')\n",
    "\n",
    "#dV_csv = pd.read_csv('Tomaru 43 - 6b_VIRUS titer (infectious units per ml) as a funciton of time (hr) VIRUS y-log.txt',delimiter=',')\n",
    "#print(dV_csv)\n",
    "\n",
    "#unlogV = 10**(dV_csv['virus'])\n",
    "#print(unlogV)\n",
    "\n",
    "#dV_csv[\"time\"] = dV_csv[\"time\"]/24.0\n",
    "\n",
    "#plt.plot(dV_csv['time'],unlogV,'og')\n",
    "#plt.plot(t,V,'g')\n",
    "\n",
    "#plt.plot(t,Z,color = 'black')"
   ]
  },
  {
   "cell_type": "code",
   "execution_count": null,
   "metadata": {},
   "outputs": [],
   "source": []
  }
 ],
 "metadata": {
  "kernelspec": {
   "display_name": "Python 3",
   "language": "python",
   "name": "python3"
  },
  "language_info": {
   "codemirror_mode": {
    "name": "ipython",
    "version": 3
   },
   "file_extension": ".py",
   "mimetype": "text/x-python",
   "name": "python",
   "nbconvert_exporter": "python",
   "pygments_lexer": "ipython3",
   "version": "3.7.1"
  }
 },
 "nbformat": 4,
 "nbformat_minor": 2
}
