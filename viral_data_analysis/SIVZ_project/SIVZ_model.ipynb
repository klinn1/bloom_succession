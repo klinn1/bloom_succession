{
 "cells": [
  {
   "cell_type": "code",
   "execution_count": 33,
   "metadata": {},
   "outputs": [],
   "source": [
    "import matplotlib.pyplot as plt\n",
    "import numpy as np\n",
    "import math\n",
    "from scipy.integrate import odeint\n",
    "import pandas as pd"
   ]
  },
  {
   "cell_type": "code",
   "execution_count": 34,
   "metadata": {},
   "outputs": [],
   "source": [
    "# r values \n",
    "r_prey_low = 1 #micrometer\n",
    "r_prey_high = 7 #micrometer\n",
    "r_pred = 11 #nanometer"
   ]
  },
  {
   "cell_type": "code",
   "execution_count": 35,
   "metadata": {},
   "outputs": [
    {
     "name": "stdout",
     "output_type": "stream",
     "text": [
      "1.9656845732314846e-13\n"
     ]
    }
   ],
   "source": [
    "# carbon quota for virus\n",
    "Q_v = ((41*((r_pred - 2.5)**3)+130*(7.5*(r_pred**2)-18.75*r_pred+15.63))*1000000)/(6.022*10**23)\n",
    "print(Q_v)"
   ]
  },
  {
   "cell_type": "code",
   "execution_count": 36,
   "metadata": {},
   "outputs": [
    {
     "name": "stdout",
     "output_type": "stream",
     "text": [
      "2.786257079226697e-05 5.271405050443314e-08\n"
     ]
    }
   ],
   "source": [
    "#low and high carbon quota for host\n",
    "Q_h_high = 10**((-0.538+0.158)+((0.86+0.06)*math.log(((4/3)*3.14*(r_prey_high**3)),10)))/(1000000*12.0107)\n",
    "Q_h_low = 10**((-0.538-0.158)+((0.86-0.06)*math.log(((4/3)*3.14*(r_prey_low**3)),10)))/(1000000*12.0107)\n",
    "print(Q_h_high,Q_h_low)"
   ]
  },
  {
   "cell_type": "code",
   "execution_count": 37,
   "metadata": {},
   "outputs": [],
   "source": [
    "mu = 0.978 # prey growth rate (host growth) \n",
    "\n",
    "mu_con =  0.528\n",
    "\n",
    "lam = 0.704 # rate of predator consumption/interception of prey \n",
    "            # (lysis rate) rate of production of predators when they have captured prey\n",
    "\n",
    "phi = 0.0000000382 # ability of predator to find, recognize, and \n",
    "                    # intercept prey (adsorption & initial replication; \n",
    "                    # transfer affinity, & clearance rate)\n",
    "                    #encounter and capture \n",
    "\n",
    "beta = 257.54 # amount of predator mass product as a result of \n",
    "                # consumption (typically in units of virus particles \n",
    "                # produced by lysis of host population) (not a rate) -burst size\n",
    "\n",
    "#eps =  # amount of resource (prey debris) not consumed by predator- efficiency\n",
    " \n",
    "delta_v = 0.002 # predator death rate (viral decay)\n",
    "delta_z = 0.002\n",
    "\n",
    "#different units\n",
    "    #mu = day^-1\n",
    "    #lam = day^-1\n",
    "    #phi = mL of predator^-1 day^-1\n",
    "    #beta = viruses host^-1\n",
    "    #eps = fmolC predator^-1\n",
    "    #delta = day^-1"
   ]
  },
  {
   "cell_type": "code",
   "execution_count": 38,
   "metadata": {},
   "outputs": [
    {
     "name": "stdout",
     "output_type": "stream",
     "text": [
      "4.643761798711161e-06 3.2761409553858077e-14\n",
      "4.643761798711161e-06 8.78567508407219e-09\n",
      "0.0009603557308643218 1166005.9966956293\n"
     ]
    }
   ],
   "source": [
    "#quota conversion from carbon to nitrogen (micromol N cell^-1)\n",
    "Q_h_high = (Q_h_high/6)\n",
    "Q_v = (Q_v/6)\n",
    "Q_h_low = (Q_h_low/6)\n",
    "print(Q_h_high,Q_v)\n",
    "print(Q_h_high, Q_h_low)\n",
    "\n",
    "\n",
    "#conversion of parameters\n",
    "eps = ((beta*Q_v)/(Q_h_low))\n",
    "phi = (phi/Q_v)\n",
    "\n",
    "print(eps, phi)"
   ]
  },
  {
   "cell_type": "code",
   "execution_count": 39,
   "metadata": {},
   "outputs": [
    {
     "name": "stdout",
     "output_type": "stream",
     "text": [
      "(0.00038536754644955364, 0.0, 5.691970572028258e-08, 5.691970572028258e-08)\n",
      "0.0663687182\n"
     ]
    }
   ],
   "source": [
    "# time  step\n",
    "dt = 0.04\n",
    "\n",
    "# time change (discrete time)\n",
    "T = 205 / 24.0\n",
    "t = np.linspace(0, T, 20000)\n",
    "#t = np.linspace(0,T,int(T/dt))\n",
    "#print(t)\n",
    "\n",
    "# array  to store  the  solution\n",
    "S = np.zeros(len(t))\n",
    "I = np.zeros(len(t))\n",
    "V = np.zeros(len(t))\n",
    "Z = np.zeros(len(t))\n",
    "\n",
    "\n",
    "# define  initial  conditions... convert using carbon/nitrogen quota\n",
    "S[0] = 43863.168483*Q_h_low\n",
    "I[0] = 0.0\n",
    "V[0] = 1.737401e+06*Q_v\n",
    "Z[0] = V[0]\n",
    "\n",
    "y0 = S[0], I[0], V[0], Z[0]\n",
    "print(y0)\n",
    "\n",
    "print(phi*V[0])"
   ]
  },
  {
   "cell_type": "code",
   "execution_count": 40,
   "metadata": {},
   "outputs": [],
   "source": [
    "# new parameters\n",
    "\n",
    "\n",
    "gmax = 5 #day^-1\n",
    "\n",
    "k_g = 0.005 # micromol N L^-1\n",
    "\n",
    "k_g = k_g*(1/1000) # conversion to micromol N to mL\n",
    "\n",
    "eps_z = 0.2"
   ]
  },
  {
   "cell_type": "code",
   "execution_count": 41,
   "metadata": {},
   "outputs": [],
   "source": [
    "# differential equations \n",
    "\n",
    "#dSdt = mu*S - phi*S*V - g_S*Z\n",
    "#dIdt = phi*S*V - lam*I -g_I*Z\n",
    "#dVdt = eps*lam*I - delta_v*V\n",
    "#dZdt = eps_z*f*Z - delta_z*Z\n",
    "\n",
    "def sivz_model(y, t, mu, lam, phi, delta_v, delta_z, eps, eps_z, k_g,gmax):\n",
    "    S,I,V,Z = y[0],y[1],y[2],y[3]\n",
    "    f = ((S+I)/((S+I)+k_g))*gmax\n",
    "    g_I = (I/((S+I)))*f\n",
    "    g_S = (S/((S+I)))*f\n",
    "    dSdt = mu*S - phi*S*V - g_S*Z\n",
    "    #print(mu,phi*V,g_S)\n",
    "    dIdt = phi*S*V - lam*I -g_I*Z\n",
    "    dVdt = eps*lam*I - delta_v*V\n",
    "    dZdt = eps_z*f*Z - delta_z*Z\n",
    "    #print(eps_z*f,delta_z,Z)\n",
    "    return dSdt, dIdt, dVdt, dZdt\n",
    "\n",
    "\n",
    "\n",
    "integ_sivz = odeint(sivz_model, y0, t, args=(mu, lam, phi, delta_v, delta_z, eps, eps_z, k_g,gmax))"
   ]
  },
  {
   "cell_type": "code",
   "execution_count": 42,
   "metadata": {},
   "outputs": [
    {
     "name": "stdout",
     "output_type": "stream",
     "text": [
      "[[ 3.85367546e-04  0.00000000e+00  5.69197057e-08  5.69197057e-08]\n",
      " [ 3.85517503e-04  1.09242559e-08  5.69196587e-08  5.69436615e-08]\n",
      " [ 3.85667518e-04  2.18494664e-08  5.69196148e-08  5.69676275e-08]\n",
      " ...\n",
      " [ 2.46103709e-19 -2.02867026e-12  1.11805029e-05  2.13312197e-04]\n",
      " [ 2.45297310e-19 -2.02203585e-12  1.11804934e-05  2.13312015e-04]\n",
      " [ 2.44490910e-19 -2.01540143e-12  1.11804838e-05  2.13311833e-04]]\n"
     ]
    }
   ],
   "source": [
    "print(integ_sivz)\n"
   ]
  },
  {
   "cell_type": "code",
   "execution_count": 43,
   "metadata": {},
   "outputs": [
    {
     "name": "stdout",
     "output_type": "stream",
     "text": [
      "0     0.000369\n",
      "1     0.000700\n",
      "2     0.001168\n",
      "3     0.002033\n",
      "4     0.003391\n",
      "5     0.005086\n",
      "6     0.007158\n",
      "7     0.009251\n",
      "8     0.012234\n",
      "9     0.015833\n",
      "10    0.014900\n",
      "11    0.016266\n",
      "12    0.018949\n",
      "Name: abundance, dtype: float64\n"
     ]
    },
    {
     "data": {
      "text/plain": [
       "[<matplotlib.lines.Line2D at 0x1520922e10>]"
      ]
     },
     "execution_count": 43,
     "metadata": {},
     "output_type": "execute_result"
    },
    {
     "data": {
      "image/png": "[encoded data removed]",
      "text/plain": [
       "<Figure size 432x288 with 1 Axes>"
      ]
     },
     "metadata": {
      "needs_background": "light"
     },
     "output_type": "display_data"
    }
   ],
   "source": [
    "#steady states\n",
    "plt.plot(t,integ_sivz[:,0],'r')\n",
    "\n",
    "\n",
    "\n",
    "#plt.plot(t,S, 'r--')\n",
    "plt.xlabel('Time', color = 'k')\n",
    "\n",
    "\n",
    "dS_csv = pd.read_csv('Tomaru_43_fig6a_host_control.txt',delimiter=',')\n",
    "#print(dS_csv)\n",
    "unlogS = (10**(dS_csv['abundance']))*Q_h_low\n",
    "print(unlogS)\n",
    "\n",
    "dS_csv[\"time\"] = dS_csv[\"time\"]/24.0\n",
    "plt.plot(dS_csv['time'],unlogS,'or')\n"
   ]
  },
  {
   "cell_type": "code",
   "execution_count": 44,
   "metadata": {},
   "outputs": [
    {
     "data": {
      "text/plain": [
       "[<matplotlib.lines.Line2D at 0x1520ba9ac8>]"
      ]
     },
     "execution_count": 44,
     "metadata": {},
     "output_type": "execute_result"
    },
    {
     "data": {
      "image/png": "[encoded data removed]",
      "text/plain": [
       "<Figure size 432x288 with 1 Axes>"
      ]
     },
     "metadata": {
      "needs_background": "light"
     },
     "output_type": "display_data"
    }
   ],
   "source": [
    "plt.plot(t,integ_sivz[:,1]+integ_sivz[:,0],'b')\n",
    "\n",
    "\n",
    "#plt.plot(t,I, 'b')\n",
    "plt.xlabel('Time', color = 'k')\n",
    "\n",
    "dI_csv = pd.read_csv('Tomaru_43_fig6a_host_infected.txt',delimiter=',')\n",
    "#print(dI_csv)\n",
    "\n",
    "\n",
    "unlogI = (10**(dI_csv['abundance']))*Q_h_low\n",
    "#print(unlogI)\n",
    "\n",
    "dI_csv[\"time\"] = dI_csv[\"time\"]/24.0\n",
    "\n",
    "plt.plot(dI_csv['time'],unlogI,'ob')\n",
    "#plt.plot(t,S+I,'b')\n"
   ]
  },
  {
   "cell_type": "code",
   "execution_count": 45,
   "metadata": {},
   "outputs": [
    {
     "data": {
      "text/plain": [
       "[<matplotlib.lines.Line2D at 0x1520bb3860>]"
      ]
     },
     "execution_count": 45,
     "metadata": {},
     "output_type": "execute_result"
    },
    {
     "data": {
      "image/png": "[encoded data removed]",
      "text/plain": [
       "<Figure size 432x288 with 1 Axes>"
      ]
     },
     "metadata": {
      "needs_background": "light"
     },
     "output_type": "display_data"
    }
   ],
   "source": [
    "plt.plot(t,integ_sivz[:,2],'g')\n",
    "\n",
    "\n",
    "#plt.plot(t,V, 'g')\n",
    "plt.xlabel('Time', color = 'k')\n",
    "\n",
    "\n",
    "\n",
    "dV_csv = pd.read_csv('Tomaru_43_fig6b_viral_abundance.txt',delimiter=',')\n",
    "#print(dV_csv)\n",
    "\n",
    "unlogV = (10**(dV_csv['virus']))*Q_v\n",
    "#print(unlogV)\n",
    "\n",
    "dV_csv[\"time\"] = dV_csv[\"time\"]/24.0\n",
    "\n",
    "plt.plot(dV_csv['time'],unlogV,'og')\n",
    "#plt.plot(t,V,'g')"
   ]
  },
  {
   "cell_type": "code",
   "execution_count": 46,
   "metadata": {},
   "outputs": [
    {
     "data": {
      "text/plain": [
       "[<matplotlib.lines.Line2D at 0x151fc1d6a0>]"
      ]
     },
     "execution_count": 46,
     "metadata": {},
     "output_type": "execute_result"
    },
    {
     "data": {
      "image/png": "[encoded data removed]",
      "text/plain": [
       "<Figure size 432x288 with 1 Axes>"
      ]
     },
     "metadata": {
      "needs_background": "light"
     },
     "output_type": "display_data"
    }
   ],
   "source": [
    "plt.plot(t,integ_sivz[:,3],'c')"
   ]
  },
  {
   "cell_type": "code",
   "execution_count": 47,
   "metadata": {},
   "outputs": [
    {
     "data": {
      "text/plain": [
       "[]"
      ]
     },
     "execution_count": 47,
     "metadata": {},
     "output_type": "execute_result"
    },
    {
     "data": {
      "image/png": "[encoded data removed]",
      "text/plain": [
       "<Figure size 432x288 with 1 Axes>"
      ]
     },
     "metadata": {
      "needs_background": "light"
     },
     "output_type": "display_data"
    }
   ],
   "source": [
    "plt.plot(t,integ_sivz[:,0],'r') # host\n",
    "plt.plot(t,integ_sivz[:,1],'b') # infected\n",
    "plt.plot(t,integ_sivz[:,2],'g') # virus\n",
    "plt.plot(t,integ_sivz[:,3],'c') # grazer\n",
    "\n",
    "plt.semilogy()"
   ]
  },
  {
   "cell_type": "code",
   "execution_count": 48,
   "metadata": {},
   "outputs": [
    {
     "data": {
      "text/plain": [
       "[<matplotlib.lines.Line2D at 0x151fcea828>]"
      ]
     },
     "execution_count": 48,
     "metadata": {},
     "output_type": "execute_result"
    },
    {
     "data": {
      "image/png": "[encoded data removed]",
      "text/plain": [
       "<Figure size 432x288 with 1 Axes>"
      ]
     },
     "metadata": {
      "needs_background": "light"
     },
     "output_type": "display_data"
    }
   ],
   "source": [
    "plt.plot(t,integ_sivz[:,0],'r') # host\n",
    "plt.plot(t,integ_sivz[:,1],'b') # infected\n",
    "plt.plot(t,integ_sivz[:,2],'g') # virus\n",
    "plt.plot(t,integ_sivz[:,3],'c') # grazer"
   ]
  },
  {
   "cell_type": "code",
   "execution_count": null,
   "metadata": {},
   "outputs": [],
   "source": []
  },
  {
   "cell_type": "code",
   "execution_count": null,
   "metadata": {},
   "outputs": [],
   "source": []
  },
  {
   "cell_type": "code",
   "execution_count": null,
   "metadata": {},
   "outputs": [],
   "source": []
  }
 ],
 "metadata": {
  "kernelspec": {
   "display_name": "Python 3",
   "language": "python",
   "name": "python3"
  },
  "language_info": {
   "codemirror_mode": {
    "name": "ipython",
    "version": 3
   },
   "file_extension": ".py",
   "mimetype": "text/x-python",
   "name": "python",
   "nbconvert_exporter": "python",
   "pygments_lexer": "ipython3",
   "version": "3.7.1"
  }
 },
 "nbformat": 4,
 "nbformat_minor": 2
}
