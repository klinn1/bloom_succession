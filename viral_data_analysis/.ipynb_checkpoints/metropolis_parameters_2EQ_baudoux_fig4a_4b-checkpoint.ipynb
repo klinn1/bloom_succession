{
 "cells": [
  {
   "cell_type": "code",
   "execution_count": 1,
   "metadata": {},
   "outputs": [],
   "source": [
    "from scipy.integrate import *\n",
    "from numpy import *\n",
    "from pylab import *\n",
    "from scipy import *\n",
    "import pandas as pd"
   ]
  },
  {
   "cell_type": "code",
   "execution_count": 2,
   "metadata": {},
   "outputs": [],
   "source": [
    "# function to be integrated\n",
    "\n",
    "def hz_model(y, t, mu, lam, phi, beta, delta):\n",
    "    H,Z = y\n",
    "    dHdt = (mu*H) - (lam*((phi*H*Z)/(lam+phi*H)))\n",
    "    dZdt = ((beta - 1)*lam*((phi*H*Z)/(lam+phi*H))) - (delta*Z)\n",
    "    return dHdt, dZdt"
   ]
  },
  {
   "cell_type": "code",
   "execution_count": 3,
   "metadata": {},
   "outputs": [],
   "source": [
    "# calling odeint\n",
    "\n",
    "def integrate(params,inits,htimes,vtimes,forshow=False,delt=900.0 / 86400.0):\n",
    "    days = amax(htimes)\n",
    "    times = arange(0,days,delt)\n",
    "    mu, lam, phi, beta, delta = exp(params[0]),exp(params[1]),exp(params[2]),exp(params[3]), exp(params[4]) # parameters\n",
    "    u = odeint(hz_model,inits,times,args=(mu, lam, phi, beta, delta))\n",
    "    u = u.T\n",
    "    if forshow==False:\n",
    "        hinds = r_[[where(abs(a-times)==min(abs(a-times)))[0][0] for a in htimes]] # get time indices where host abundances were measured\n",
    "        vinds = r_[[where(abs(a-times)==min(abs(a-times)))[0][0] for a in vtimes]] # same for viruses\n",
    "        hnt = u[0][hinds]  # host density\n",
    "        vnt = u[1][vinds] # virus density\n",
    "    else:\n",
    "        hnt = u[0]\n",
    "        vnt = u[1]\n",
    "    return hnt,vnt"
   ]
  },
  {
   "cell_type": "code",
   "execution_count": 4,
   "metadata": {},
   "outputs": [],
   "source": [
    "# load in the data\n",
    "\n",
    "#host data\n",
    "\n",
    "dS_csv = pd.read_csv('Baudoux_32_33_34_fig4b_host_control.txt',delimiter=',')\n",
    "#print(dS_csv)\n",
    "#unlogS = 10**(dS_csv['abundance'])\n",
    "#print(unlogS)\n",
    "unlogS = (dS_csv['abundance'])\n",
    "\n",
    "#times, host = read.text(\"...\"), unpack = True, ...\n",
    "\n",
    "dS_csv[\"time\"] = dS_csv[\"time\"]/24.0\n",
    "\n",
    "dI_csv = pd.read_csv('Baudoux_32_33_34_fig4b_host_infected.txt',delimiter=',')\n",
    "#print(dI_csv)\n",
    "\n",
    "#hhtemp = 10**(dI_csv['abundance'])\n",
    "#print(unlogI)\n",
    "\n",
    "hhtemp = (dI_csv['abundance'])\n",
    "htimes = dI_csv[\"time\"]/24.0\n",
    "#print(htimes)\n",
    "\n",
    "hhtempsd = ma.mean(hhtemp)*0.1 # these data did not come with standard deviations so i made them up\n",
    "\n",
    "\n",
    "#virus data\n",
    "\n",
    "dV_csv = pd.read_csv('Baudoux_32_33_34_fig4a_viral_abundance.txt',delimiter=',')\n",
    "#print(dV_csv)\n",
    "\n",
    "#vhtemp = 10**(dV_csv['virus'])\n",
    "#print(unlogV)\n",
    "\n",
    "vhtemp = (dV_csv['virus'])\n",
    "vtimes = dV_csv[\"time\"]/24.0\n",
    "\n",
    "vhtempsd = ma.mean(vhtemp)*0.1 # these data did not come with standard deviations so i made them up\n"
   ]
  },
  {
   "cell_type": "code",
   "execution_count": 5,
   "metadata": {},
   "outputs": [],
   "source": [
    "# generic arrays and optimization parameters\n",
    "\n",
    "\n",
    "stds = zeros(5) + .05 # this controls how large the random steps are in the parameter search (see below)\n",
    "\n",
    "\n",
    "opt = r_[[1,1,1,1,1]] # this allows you to control whether each parameter is imposed or fitted\n",
    "\n",
    "\n",
    "names = ['muh','lam','phi','beta','delta'] # name each parameter array - useful for printing the output\n",
    "\n",
    "\n",
    "\n",
    "nits = 1000 # number of iterations\n",
    "\n",
    "\n",
    "pits = 100  # frequency with which to print results to the user about the progress of the algorithm\n",
    "\n",
    "\n",
    "burnin = 100 # burnin period - don't 'store' the results for the first number of iterations as these are likely to be very far from the optimal ssolutions\n"
   ]
  },
  {
   "cell_type": "code",
   "execution_count": 6,
   "metadata": {},
   "outputs": [],
   "source": [
    "# MODEL FITTING\n",
    "\n",
    "## set up first guess params, MHA parameters, etc. \n",
    "\n",
    "mu = 1.441\n",
    "lam = 1.616\n",
    "phi = 0.0000000524\n",
    "#phi = 0.0000000382\n",
    "#beta = 257.54\n",
    "beta = 141.892\n",
    "delta = 1.103\n",
    "\n",
    "# put in arrays for ease manipulating\n",
    "\n",
    "\n",
    "params = r_[[mu,lam,phi,beta,delta]] # put inside a single array ready for the algorithm\n",
    "\n",
    "\n",
    "params = log(params) # we do the parameter search in log space (I will explain later)\n",
    "\n",
    "\n",
    "npars = params.shape[0] # number of parameters being searched through\n",
    "\n",
    "\n",
    "# initial conditions\n",
    "\n",
    "\n",
    "inits = r_[[hhtemp[0]+unlogS[0],vhtemp[0]]]\n"
   ]
  },
  {
   "cell_type": "code",
   "execution_count": 7,
   "metadata": {},
   "outputs": [],
   "source": [
    "# first run just to get error\n",
    "\n",
    "\n",
    "hnt,vnt = integrate(params,inits,htimes,vtimes)\n",
    "\n",
    "\n",
    "chi =   sum((hnt - hhtemp) ** 2 / (hhtempsd ** 2)) + sum((vnt - vhtemp) ** 2 / (vhtempsd ** 2))"
   ]
  },
  {
   "cell_type": "code",
   "execution_count": 8,
   "metadata": {},
   "outputs": [],
   "source": [
    "# distribution arrays and acceptance ratios - these are containers to be added to\n",
    "\n",
    "ar = 0.0\n",
    "\n",
    "\n",
    "ars = r_[[]]\n",
    "\n",
    "\n",
    "mus,lams,phis,betas,deltas= r_[[]],r_[[]],r_[[]],r_[[]],r_[[]]\n",
    "\n",
    "\n",
    "pall = [mus,lams,phis,betas,deltas]"
   ]
  },
  {
   "cell_type": "code",
   "execution_count": 9,
   "metadata": {},
   "outputs": [
    {
     "name": "stdout",
     "output_type": "stream",
     "text": [
      "100 133.34379559031845 0.44\n",
      "200 101.62330021539276 0.11\n",
      "300 100.36063711967915 0.09\n",
      "400 99.94475480334425 0.06\n",
      "500 101.54125805839136 0.05\n",
      "600 98.75156165661372 0.11\n",
      "700 99.22491420776691 0.06\n",
      "800 99.38158270710765 0.04\n",
      "900 99.96582598391996 0.11\n"
     ]
    }
   ],
   "source": [
    "# now actually do the fitting\n",
    "\n",
    "for it in arange(1,nits,1):\n",
    "        parsnew = params + opt*normal(0,stds,npars) # this is where we randomly change the parameter values \n",
    "        sus,vir = hhtemp[0],vhtemp[0] # have to reassign initial conditions because it's in a loop\n",
    "        inits = r_[[sus,vir]] # put initial conditions in an array\n",
    "        hnt,vnt = integrate(parsnew,inits,htimes,vtimes) # call the integration function\n",
    "        chinew = sum((hnt - hhtemp) ** 2 / (hhtempsd ** 2)) +sum((vnt - vhtemp) ** 2 / (vhtempsd ** 2)) # calculate the error\n",
    "        if exp(chi-chinew) > rand(): # KEY STEP\n",
    "            chi = chinew \n",
    "            params = parsnew #  new parameters can be a little bit 'wrong'\n",
    "            if it > burnin: # only store the parameters if you've gone through the burnin period\n",
    "                pall = append(pall,params[:,None],1)\n",
    "            ar = ar + 1.0 # acceptance ratio - I can explain this another time\n",
    "        if (it % pits == 0):\n",
    "            print(it,chi,ar/pits)\n",
    "            ars = append(ars,ar/pits)\n",
    "            ar = 0.0\n"
   ]
  },
  {
   "cell_type": "code",
   "execution_count": 10,
   "metadata": {},
   "outputs": [
    {
     "name": "stdout",
     "output_type": "stream",
     "text": [
      "Optimal parameters\n",
      "muh = 1.6363044532025164\n",
      "lam = 1.7292597830558487\n",
      "phi = 2.3052851805328996e-08\n",
      "beta = 61.06603759141108\n",
      "delta = 0.9522585385089719\n",
      " \n",
      "Standard deviations\n",
      "muhstd = 0.16419870363687292\n",
      "lamstd = 0.24770800169202675\n",
      "phistd = 1.9362911427726985e-09\n",
      "betastd = 8.29052768544583\n",
      "deltastd = 0.06834358410475128\n",
      " \n"
     ]
    }
   ],
   "source": [
    "# print output to screen\n",
    "\n",
    "\n",
    "print('Optimal parameters')\n",
    "\n",
    "\n",
    "pars = r_[[ mean(p) for p in pall]]\n",
    "\n",
    "\n",
    "for (p,l) in zip(pars,names):\n",
    "    print(l,'=',exp(p))\n",
    "\n",
    "\n",
    "print (' ')\n",
    "\n",
    "\n",
    "print('Standard deviations')\n",
    "\n",
    "\n",
    "for (p,l) in zip(pall,names):\n",
    "    print(l+'std','=',std(exp(p)))\n",
    "\n",
    "\n",
    "print(' ')"
   ]
  },
  {
   "cell_type": "code",
   "execution_count": 11,
   "metadata": {},
   "outputs": [
    {
     "name": "stderr",
     "output_type": "stream",
     "text": [
      "/Users/kylabeth/anaconda3/lib/python3.7/site-packages/ipykernel_launcher.py:5: DeprecationWarning: object of type <class 'numpy.float64'> cannot be safely interpreted as an integer.\n",
      "  \"\"\"\n"
     ]
    }
   ],
   "source": [
    "# redefine times for nicer looking plots\n",
    "\n",
    "delt = 900.0 / 86400.0\n",
    "\n",
    "ftimes = linspace(0,amax(htimes)/24.0,(amax(htimes) / delt))*24.0\n",
    "\n",
    "n = ftimes.shape[0]"
   ]
  },
  {
   "cell_type": "code",
   "execution_count": 12,
   "metadata": {},
   "outputs": [],
   "source": [
    "\n",
    "# run again just for nicer looking plots (more even timesteps)\n",
    "\n",
    "\n",
    "sus,vir = hhtemp[0],vhtemp[0]\n",
    "\n",
    "\n",
    "inits = r_[[sus,vir]]\n",
    "\n",
    "\n",
    "hnt,vnt = integrate(pars,inits,ftimes,ftimes,forshow=True,delt=delt)"
   ]
  },
  {
   "cell_type": "code",
   "execution_count": 13,
   "metadata": {},
   "outputs": [
    {
     "data": {
      "text/plain": [
       "[<matplotlib.lines.Line2D at 0x1522abce80>]"
      ]
     },
     "execution_count": 13,
     "metadata": {},
     "output_type": "execute_result"
    },
    {
     "data": {
      "image/png": "[encoded data removed]",
      "text/plain": [
       "<Figure size 684x288 with 2 Axes>"
      ]
     },
     "metadata": {
      "needs_background": "light"
     },
     "output_type": "display_data"
    }
   ],
   "source": [
    "# set up figures\n",
    "\n",
    "f1,ax1 = subplots(1,2,figsize=[9.5,4.0])\n",
    "#f2,ax2 = subplots(4,1,figsize=[6,15])\n",
    "f1.subplots_adjust(bottom=0.13,wspace=0.3,hspace=0.3)\n",
    "#f2.subplots_adjust(hspace=0.45)\n",
    "\n",
    "\n",
    "# plot\n",
    "\n",
    "ax1[0].errorbar(htimes,hhtemp/1e+6,yerr=hhtempsd/1e+6,c='blue',fmt='o')\n",
    "ax1[1].errorbar(vtimes,vhtemp/1e+8,yerr=vhtempsd/1e+8,c='green',fmt='o')\n",
    "ax1[0].plot(ftimes,hnt/1e+6,c='black',lw=1.5,label='model fit')\n",
    "ax1[1].plot(ftimes,vnt/1e+8,c='black',lw=1.5,label='model fit')\n",
    "\n",
    "\n",
    "\n",
    "# high temp\n",
    "\n",
    "#ax2[0].hist(exp(pall[1]),label='25 C',color='maroon')\n",
    "#ax2[1].hist(exp(pall[0])*1e+9,label='25 C',color='maroon')\n",
    "#ax2[2].hist(exp(pall[2]),label='25 C',color='maroon')\n",
    "#ax2[3].hist(exp(pall[3]),label='25 C',color='maroon')\n"
   ]
  },
  {
   "cell_type": "code",
   "execution_count": null,
   "metadata": {},
   "outputs": [],
   "source": []
  }
 ],
 "metadata": {
  "kernelspec": {
   "display_name": "Python 3",
   "language": "python",
   "name": "python3"
  },
  "language_info": {
   "codemirror_mode": {
    "name": "ipython",
    "version": 3
   },
   "file_extension": ".py",
   "mimetype": "text/x-python",
   "name": "python",
   "nbconvert_exporter": "python",
   "pygments_lexer": "ipython3",
   "version": "3.7.1"
  }
 },
 "nbformat": 4,
 "nbformat_minor": 2
}
