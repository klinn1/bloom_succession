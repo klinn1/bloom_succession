{
 "cells": [
  {
   "cell_type": "code",
   "execution_count": 1,
   "metadata": {},
   "outputs": [],
   "source": [
    "import matplotlib.pyplot as plt\n",
    "import numpy as np\n",
    "import math\n",
    "from scipy.integrate import odeint\n",
    "import pandas as pd\n",
    "\n",
    "\n",
    "from scipy.integrate import *\n",
    "from numpy import *\n",
    "from pylab import *\n",
    "from scipy import *\n",
    "import pandas as pd"
   ]
  },
  {
   "cell_type": "code",
   "execution_count": 2,
   "metadata": {},
   "outputs": [],
   "source": [
    "#mu = 0.978 # prey growth rate (host growth) \n",
    "\n",
    "#mu_con =  0.528\n",
    "\n",
    "#lam = 0.704 # rate of predator consumption/interception of prey \n",
    "            # (lysis rate) rate of production of predators when they have captured prey\n",
    "\n",
    "#phi = 0.0000000382 # ability of predator to find, recognize, and \n",
    "                    # intercept prey (adsorption & initial replication; \n",
    "                    # transfer affinity, & clearance rate)\n",
    "                    #encounter and capture \n",
    "\n",
    "#beta = 257.54 # amount of predator mass product as a result of \n",
    "                # consumption (typically in units of virus particles \n",
    "                # produced by lysis of host population) (not a rate) -burst size\n",
    "\n",
    "#eps =  # amount of resource (prey debris) not consumed by predator- efficiency\n",
    " \n",
    "#delta = 0.002 # predator death rate (viral decay)\n",
    "\n",
    "#different units\n",
    "    #mu = day^-1\n",
    "    #lam = day^-1\n",
    "    #phi = mL of predator^-1 day^-1\n",
    "    #beta = viruses host^-1\n",
    "    #eps = fmolC predator^-1\n",
    "    #delta = day^-1"
   ]
  },
  {
   "cell_type": "code",
   "execution_count": 3,
   "metadata": {},
   "outputs": [],
   "source": [
    "# time  step\n",
    "#dt = 0.04\n",
    "\n",
    "# time change (discrete time)\n",
    "#T = 205 / 24.0\n",
    "#t = np.linspace(0, T, 20000)\n",
    "#t = np.linspace(0,T,int(T/dt))\n",
    "#print(t)\n",
    "\n",
    "# array  to store  the  solution\n",
    "#S = np.zeros(len(t))\n",
    "#I = np.zeros(len(t))\n",
    "#V = np.zeros(len(t))\n",
    "\n",
    "# define  initial  conditions, Euler’s method\n",
    "#S[0] = 1500000.0\n",
    "#I[0] = 0.0\n",
    "#V[0] = 25500000.0\n",
    "\n",
    "#y0 = S[0], I[0], V[0]\n",
    "#print(y0)"
   ]
  },
  {
   "cell_type": "code",
   "execution_count": 4,
   "metadata": {},
   "outputs": [],
   "source": [
    "# differential  equations\n",
    "##dS = mu*S - phi*S*V #dS/dt\n",
    "##dI = phi*S*V - lam*I #dI/dt\n",
    "##dV = -phi*S*V + beta*lam*I - delta*V #dV/dt\n",
    "\n",
    "def deriv(y, t, mu, lam, phi, beta, delta):\n",
    "    S,I,V = y\n",
    "    dSdt = (mu*S) - (phi*S*V)\n",
    "    dIdt = (phi*S*V) - (lam*I)\n",
    "    dVdt = (-phi*S*V) + (beta*lam*I) - (delta*V)\n",
    "    return dSdt, dIdt, dVdt\n",
    "\n",
    "# calling odeint\n",
    "\n",
    "def integrate(params,inits,htimes,vtimes,forshow=False,delt=900.0 / 86400.0):\n",
    "    days = amax(htimes)\n",
    "    times = arange(0,days,delt)\n",
    "    mu, lam, phi, beta, delta = exp(params[0]),exp(params[1]),exp(params[2]),exp(params[3]), exp(params[4]) # parameters\n",
    "    u = odeint(deriv,inits,times,args=(mu, lam, phi, beta, delta))\n",
    "    u = u.T\n",
    "    if forshow==False:\n",
    "        hinds = r_[[where(abs(a-times)==min(abs(a-times)))[0][0] for a in htimes]] # get time indices where host abundances were measured\n",
    "        vinds = r_[[where(abs(a-times)==min(abs(a-times)))[0][0] for a in vtimes]] # same for viruses\n",
    "        hnt = u[0][hinds] # host density\n",
    "        inf = u[1][hinds]\n",
    "        vnt = u[2][vinds] # virus density\n",
    "    else:\n",
    "        hnt = u[0]\n",
    "        inf = u[1]\n",
    "        vnt = u[2]\n",
    "    return hnt,inf, vnt\n",
    "\n",
    "#integ = odeint(deriv, y0, t, args=(mu, lam, phi, beta, delta))\n",
    "#S,I,V = integ.T\n",
    "\n",
    "#print(S)\n",
    "#print(I)\n",
    "#print(V)"
   ]
  },
  {
   "cell_type": "code",
   "execution_count": 5,
   "metadata": {},
   "outputs": [],
   "source": [
    "#plt.plot(t,S, 'r--')\n",
    "#plt.xlabel('Time', color = 'k')\n",
    "\n",
    "\n",
    "#dS_csv = pd.read_csv('Baudoux_32_33_34_fig4b_host_control.txt',delimiter=',')\n",
    "#print(dS_csv)\n",
    "#unlogS = 10**(dS_csv['abundance'])\n",
    "#print(unlogS)\n",
    "\n",
    "#unlogS = (dS_csv['abundance'])\n",
    "#dS_csv[\"time\"] = dS_csv[\"time\"]/24.0\n",
    "\n",
    "#plt.plot(dS_csv[\"time\"],unlogS,'or')\n",
    "#plt.plot(t,S,'r')"
   ]
  },
  {
   "cell_type": "code",
   "execution_count": 6,
   "metadata": {},
   "outputs": [],
   "source": [
    "#plt.plot(t,I, 'b')\n",
    "#plt.xlabel('Time', color = 'k')\n",
    "\n",
    "#dI_csv = pd.read_csv('Baudoux_32_33_34_fig4b_host_infected.txt',delimiter=',')\n",
    "#print(dI_csv)\n",
    "\n",
    "\n",
    "#unlogI = 10**(dI_csv['abundance'])\n",
    "#print(unlogI)\n",
    "#unlogI = (dI_csv['abundance'])\n",
    "\n",
    "#dI_csv[\"time\"] = dI_csv[\"time\"]/24.0\n",
    "\n",
    "#plt.plot(dI_csv['time'],unlogI,'ob')\n",
    "#plt.plot(t,S+I,'b')"
   ]
  },
  {
   "cell_type": "code",
   "execution_count": 7,
   "metadata": {},
   "outputs": [],
   "source": [
    "#plt.plot(t,V, 'g')\n",
    "#plt.xlabel('Time', color = 'k')\n",
    "\n",
    "#dV_csv = pd.read_csv('Baudoux_32_33_34_fig4a_viral_abundance.txt',delimiter=',')\n",
    "#print(dV_csv)\n",
    "\n",
    "#unlogV = 10**(dV_csv['virus'])\n",
    "#print(unlogV)\n",
    "\n",
    "#unlogV = (dV_csv['virus'])\n",
    "#dV_csv[\"time\"] = dV_csv[\"time\"]/24.0\n",
    "\n",
    "#plt.plot(dV_csv['time'],unlogV,'og')\n",
    "#plt.plot(t,V,'g')"
   ]
  },
  {
   "cell_type": "code",
   "execution_count": 8,
   "metadata": {},
   "outputs": [],
   "source": [
    "# load in the data\n",
    "\n",
    "#host data\n",
    "\n",
    "dS_csv = pd.read_csv('Kimura_66_67_fig7a_host_control.txt',delimiter=',')\n",
    "#print(dS_csv)\n",
    "unlogS = 10**(dS_csv['abundance'])\n",
    "#print(unlogS)\n",
    "#unlogS = (dS_csv['abundance'])\n",
    "\n",
    "#times, host = read.text(\"...\"), unpack = True, ...\n",
    "\n",
    "#dS_csv[\"time\"] = dS_csv[\"time\"]/24.0\n",
    "dS_csv[\"time\"] = dS_csv[\"time\"]\n",
    "\n",
    "dI_csv = pd.read_csv('Kimura_66_67_fig7c_host_infected.txt',delimiter=',')\n",
    "#print(dI_csv)\n",
    "\n",
    "hhtemp = 10**(dI_csv['abundance'])\n",
    "#print(unlogI)\n",
    "\n",
    "#hhtemp = (dI_csv['abundance'])\n",
    "#htimes = dI_csv[\"time\"]/24.0\n",
    "#print(htimes)\n",
    "htimes = dI_csv[\"time\"]\n",
    "\n",
    "hhtempsd = ma.mean(hhtemp)*0.1 # these data did not come with standard deviations so i made them up\n",
    "\n",
    "\n",
    "#virus data\n",
    "\n",
    "dV_csv = pd.read_csv('Kimura_66_67_fig7c_viral_abundance.txt',delimiter=',')\n",
    "#print(dV_csv)\n",
    "\n",
    "vhtemp = 10**(dV_csv['virus'])\n",
    "#print(unlogV)\n",
    "\n",
    "#vhtemp = (dV_csv['virus'])\n",
    "#vtimes = dV_csv[\"time\"]/24.0\n",
    "vtimes = dV_csv[\"time\"]\n",
    "\n",
    "vhtempsd = ma.mean(vhtemp)*0.1 # these data did not come with standard deviations so i made them up\n"
   ]
  },
  {
   "cell_type": "code",
   "execution_count": 9,
   "metadata": {},
   "outputs": [],
   "source": [
    "# generic arrays and optimization parameters\n",
    "\n",
    "\n",
    "stds = zeros(5) + .05 # this controls how large the random steps are in the parameter search (see below)\n",
    "\n",
    "\n",
    "opt = r_[[1,1,1,1,1]] # this allows you to control whether each parameter is imposed or fitted\n",
    "\n",
    "\n",
    "names = ['muh','lam','phi','beta','delta'] # name each parameter array - useful for printing the output\n",
    "\n",
    "\n",
    "\n",
    "nits = 1000 # number of iterations\n",
    "\n",
    "\n",
    "pits = 100  # frequency with which to print results to the user about the progress of the algorithm\n",
    "\n",
    "\n",
    "burnin = 100 # burnin period - don't 'store' the results for the first number of iterations as these are likely to be very far from the optimal ssolutions\n"
   ]
  },
  {
   "cell_type": "code",
   "execution_count": 10,
   "metadata": {},
   "outputs": [
    {
     "name": "stderr",
     "output_type": "stream",
     "text": [
      "/Users/kylabeth/anaconda3/lib/python3.7/site-packages/numpy/lib/scimath.py:262: RuntimeWarning: divide by zero encountered in log\n",
      "  return nx.log(x)\n"
     ]
    }
   ],
   "source": [
    "# MODEL FITTING\n",
    "\n",
    "## set up first guess params, MHA parameters, etc. \n",
    "\n",
    "mu = 1.312\n",
    "lam = 0.204\n",
    "#phi = 0.000000114\n",
    "phi = 0.0000000382\n",
    "#phi = 0.000000800\n",
    "beta = 1551.51\n",
    "#beta = 128.77\n",
    "delta = 0\n",
    "\n",
    "# put in arrays for ease manipulating\n",
    "\n",
    "\n",
    "params = r_[[mu,lam,phi,beta,delta]] # put inside a single array ready for the algorithm\n",
    "\n",
    "\n",
    "params = log(params) # we do the parameter search in log space (I will explain later)\n",
    "\n",
    "\n",
    "npars = params.shape[0] # number of parameters being searched through\n",
    "\n",
    "\n",
    "# initial conditions\n",
    "\n",
    "\n",
    "inits = r_[[hhtemp[0]+unlogS[0],0,vhtemp[0]]]"
   ]
  },
  {
   "cell_type": "code",
   "execution_count": 11,
   "metadata": {},
   "outputs": [],
   "source": [
    "# first run just to get error\n",
    "\n",
    "\n",
    "hnt,inf, vnt = integrate(params,inits,htimes,vtimes)\n",
    "\n",
    "\n",
    "chi =   sum((hnt - hhtemp) ** 2 / (hhtempsd ** 2)) + sum((vnt - vhtemp) ** 2 / (vhtempsd ** 2))"
   ]
  },
  {
   "cell_type": "code",
   "execution_count": 12,
   "metadata": {},
   "outputs": [],
   "source": [
    "# distribution arrays and acceptance ratios - these are containers to be added to\n",
    "\n",
    "ar = 0.0\n",
    "\n",
    "\n",
    "ars = r_[[]]\n",
    "\n",
    "\n",
    "mus,lams,phis,betas,deltas= r_[[]],r_[[]],r_[[]],r_[[]],r_[[]]\n",
    "\n",
    "\n",
    "pall = [mus,lams,phis,betas,deltas]"
   ]
  },
  {
   "cell_type": "code",
   "execution_count": 13,
   "metadata": {},
   "outputs": [
    {
     "name": "stdout",
     "output_type": "stream",
     "text": [
      "100 22515.365201944795 0.48\n",
      "200 306.91072810974026 0.35\n",
      "300 283.4401131783966 0.15\n",
      "400 282.1265160346116 0.2\n",
      "500 280.5205578630725 0.16\n",
      "600 280.05158254912845 0.18\n",
      "700 279.9901114897446 0.09\n",
      "800 280.87993861231695 0.17\n",
      "900 279.5804647316584 0.19\n"
     ]
    }
   ],
   "source": [
    "# now actually do the fitting\n",
    "\n",
    "for it in arange(1,nits,1):\n",
    "        parsnew = params + opt*normal(0,stds,npars) # this is where we randomly change the parameter values \n",
    "        sus,inf,vir = hhtemp[0],0,vhtemp[0] # have to reassign initial conditions because it's in a loop\n",
    "        inits = r_[[sus,inf,vir]] # put initial conditions in an array\n",
    "        hnt,inf,vnt = integrate(parsnew,inits,htimes,vtimes) # call the integration function\n",
    "        chinew = sum((hnt - hhtemp) ** 2 / (hhtempsd ** 2)) +sum((vnt - vhtemp) ** 2 / (vhtempsd ** 2)) # calculate the error\n",
    "        if exp(chi-chinew) > rand(): # KEY STEP\n",
    "            chi = chinew \n",
    "            params = parsnew #  new parameters can be a little bit 'wrong'\n",
    "            if it > burnin: # only store the parameters if you've gone through the burnin period\n",
    "                pall = append(pall,params[:,None],1)\n",
    "            ar = ar + 1.0 # acceptance ratio - I can explain this another time\n",
    "        if (it % pits == 0):\n",
    "            print(it,chi,ar/pits)\n",
    "            ars = append(ars,ar/pits)\n",
    "            ar = 0.0\n"
   ]
  },
  {
   "cell_type": "code",
   "execution_count": 14,
   "metadata": {},
   "outputs": [
    {
     "name": "stdout",
     "output_type": "stream",
     "text": [
      "Optimal parameters\n",
      "muh = 0.08426055182374517\n",
      "lam = 0.1383861036836021\n",
      "phi = 3.7994276096949986e-08\n",
      "beta = 281.46795676810905\n",
      "delta = 0.0\n",
      " \n",
      "Standard deviations\n",
      "muhstd = 0.053933681178905415\n",
      "lamstd = 0.03678821216708311\n",
      "phistd = 4.371005179345634e-09\n",
      "betastd = 59.94661290917378\n",
      "deltastd = 0.0\n",
      " \n"
     ]
    }
   ],
   "source": [
    "# print output to screen\n",
    "\n",
    "\n",
    "print('Optimal parameters')\n",
    "\n",
    "\n",
    "pars = r_[[ mean(p) for p in pall]]\n",
    "\n",
    "\n",
    "for (p,l) in zip(pars,names):\n",
    "    print(l,'=',exp(p))\n",
    "\n",
    "\n",
    "print (' ')\n",
    "\n",
    "\n",
    "print('Standard deviations')\n",
    "\n",
    "\n",
    "for (p,l) in zip(pall,names):\n",
    "    print(l+'std','=',std(exp(p)))\n",
    "\n",
    "\n",
    "print(' ')"
   ]
  },
  {
   "cell_type": "code",
   "execution_count": 15,
   "metadata": {},
   "outputs": [
    {
     "name": "stderr",
     "output_type": "stream",
     "text": [
      "/Users/kylabeth/anaconda3/lib/python3.7/site-packages/ipykernel_launcher.py:5: DeprecationWarning: object of type <class 'numpy.float64'> cannot be safely interpreted as an integer.\n",
      "  \"\"\"\n"
     ]
    }
   ],
   "source": [
    "# redefine times for nicer looking plots\n",
    "\n",
    "delt = 900.0 / 86400.0\n",
    "\n",
    "ftimes = linspace(0,amax(htimes)/24.0,(amax(htimes) / delt)+1)*24.0\n",
    "\n",
    "n = ftimes.shape[0]"
   ]
  },
  {
   "cell_type": "code",
   "execution_count": 16,
   "metadata": {},
   "outputs": [],
   "source": [
    "# run again just for nicer looking plots (more even timesteps)\n",
    "\n",
    "\n",
    "sus,inf,vir = hhtemp[0],0,vhtemp[0]\n",
    "\n",
    "\n",
    "inits = r_[[sus,inf,vir]]\n",
    "\n",
    "\n",
    "hnt,inf,vnt = integrate(pars,inits,ftimes,ftimes,forshow=True,delt=delt)"
   ]
  },
  {
   "cell_type": "code",
   "execution_count": 17,
   "metadata": {},
   "outputs": [
    {
     "data": {
      "text/plain": [
       "[<matplotlib.lines.Line2D at 0x1518203fd0>]"
      ]
     },
     "execution_count": 17,
     "metadata": {},
     "output_type": "execute_result"
    },
    {
     "data": {
      "image/png": "[encoded data removed]",
      "text/plain": [
       "<Figure size 684x288 with 2 Axes>"
      ]
     },
     "metadata": {
      "needs_background": "light"
     },
     "output_type": "display_data"
    }
   ],
   "source": [
    "# set up figures\n",
    "\n",
    "f1,ax1 = subplots(1,2,figsize=[9.5,4.0])\n",
    "#f2,ax2 = subplots(4,1,figsize=[6,15])\n",
    "f1.subplots_adjust(bottom=0.13,wspace=0.3,hspace=0.3)\n",
    "#f2.subplots_adjust(hspace=0.45)\n",
    "\n",
    "\n",
    "# plot\n",
    "\n",
    "ax1[0].errorbar(htimes,hhtemp/1e+6,yerr=hhtempsd/1e+6,c='blue',fmt='o')\n",
    "ax1[1].errorbar(vtimes,vhtemp/1e+8,yerr=vhtempsd/1e+8,c='green',fmt='o')\n",
    "ax1[0].plot(ftimes,hnt/1e+6,c='black',lw=1.5,label='model fit')\n",
    "ax1[1].plot(ftimes,vnt/1e+8,c='black',lw=1.5,label='model fit')\n",
    "\n",
    "\n",
    "\n",
    "# high temp\n",
    "\n",
    "#ax2[0].hist(exp(pall[1]),label='25 C',color='maroon')\n",
    "#ax2[1].hist(exp(pall[0])*1e+9,label='25 C',color='maroon')\n",
    "#ax2[2].hist(exp(pall[2]),label='25 C',color='maroon')\n",
    "#ax2[3].hist(exp(pall[3]),label='25 C',color='maroon')"
   ]
  },
  {
   "cell_type": "code",
   "execution_count": null,
   "metadata": {},
   "outputs": [],
   "source": []
  }
 ],
 "metadata": {
  "kernelspec": {
   "display_name": "Python 3",
   "language": "python",
   "name": "python3"
  },
  "language_info": {
   "codemirror_mode": {
    "name": "ipython",
    "version": 3
   },
   "file_extension": ".py",
   "mimetype": "text/x-python",
   "name": "python",
   "nbconvert_exporter": "python",
   "pygments_lexer": "ipython3",
   "version": "3.7.1"
  }
 },
 "nbformat": 4,
 "nbformat_minor": 2
}
