{
 "cells": [
  {
   "cell_type": "code",
   "execution_count": 1,
   "metadata": {},
   "outputs": [],
   "source": [
    "from scipy.integrate import *\n",
    "from pandas import *\n",
    "from numpy import *\n",
    "from pylab import *\n",
    "from scipy import integrate\n",
    "import math\n",
    "from scipy.interpolate import InterpolatedUnivariateSpline"
   ]
  },
  {
   "cell_type": "code",
   "execution_count": 4,
   "metadata": {},
   "outputs": [
    {
     "name": "stdout",
     "output_type": "stream",
     "text": [
      "[0.4  0.43 0.46 0.49 0.52 0.55 0.58 0.61 0.64 0.67]\n"
     ]
    }
   ],
   "source": [
    "S_r = np.arange(0.4,0.7,0.03)\n",
    "print(S_r)"
   ]
  },
  {
   "cell_type": "code",
   "execution_count": 7,
   "metadata": {},
   "outputs": [
    {
     "name": "stdout",
     "output_type": "stream",
     "text": [
      "[ 1  2  3  4  5  6  7  8  9 10]\n"
     ]
    }
   ],
   "source": [
    "t = np.arange(1,11)\n",
    "print(t)"
   ]
  },
  {
   "cell_type": "code",
   "execution_count": 10,
   "metadata": {},
   "outputs": [
    {
     "data": {
      "text/plain": [
       "0.4"
      ]
     },
     "execution_count": 10,
     "metadata": {},
     "output_type": "execute_result"
    }
   ],
   "source": [
    "S_r[0]"
   ]
  },
  {
   "cell_type": "code",
   "execution_count": 23,
   "metadata": {},
   "outputs": [
    {
     "data": {
      "image/png": "[encoded data removed]",
      "text/plain": [
       "<Figure size 432x288 with 1 Axes>"
      ]
     },
     "metadata": {
      "needs_background": "light"
     },
     "output_type": "display_data"
    }
   ],
   "source": [
    "plt.hlines(S_r[0],0,1,linestyle = 'dashed')\n",
    "plt.hlines(S_r[1],1,2,linestyle = 'dashed')\n",
    "plt.hlines(S_r[2],2,3,linestyle = 'dashed')\n",
    "plt.hlines(S_r[3],3,4,linestyle = 'dashed')\n",
    "plt.hlines(S_r[4],4,5,linestyle = 'dashed')\n",
    "plt.hlines(S_r[5],5,6,linestyle = 'dashed')\n",
    "plt.hlines(S_r[6],6,7,linestyle = 'dashed')\n",
    "plt.hlines(S_r[7],7,8,linestyle = 'dashed')\n",
    "plt.hlines(S_r[8],8,9,linestyle = 'dashed')\n",
    "plt.hlines(S_r[9],9,10,linestyle = 'dashed')\n",
    "\n",
    "plt.vlines(1,S_r[0],S_r[1],linestyle = 'dashed')\n",
    "plt.vlines(2,S_r[1],S_r[2],linestyle = 'dashed')\n",
    "plt.vlines(3,S_r[2],S_r[3],linestyle = 'dashed')\n",
    "plt.vlines(4,S_r[3],S_r[4],linestyle = 'dashed')\n",
    "plt.vlines(5,S_r[4],S_r[5],linestyle = 'dashed')\n",
    "plt.vlines(6,S_r[5],S_r[6],linestyle = 'dashed')\n",
    "plt.vlines(7,S_r[6],S_r[7],linestyle = 'dashed')\n",
    "plt.vlines(8,S_r[7],S_r[8],linestyle = 'dashed')\n",
    "plt.vlines(9,S_r[8],S_r[9],linestyle = 'dashed')\n",
    "\n",
    "plt.title('Supply Rate')\n",
    "plt.xlabel('Time (years)')\n",
    "plt.ylabel('S$_{R}$ (mmol C/ m$^{3}$ day)')\n",
    "\n",
    "plt.show()\n"
   ]
  },
  {
   "cell_type": "code",
   "execution_count": null,
   "metadata": {},
   "outputs": [],
   "source": []
  }
 ],
 "metadata": {
  "kernelspec": {
   "display_name": "Python 3",
   "language": "python",
   "name": "python3"
  },
  "language_info": {
   "codemirror_mode": {
    "name": "ipython",
    "version": 3
   },
   "file_extension": ".py",
   "mimetype": "text/x-python",
   "name": "python",
   "nbconvert_exporter": "python",
   "pygments_lexer": "ipython3",
   "version": "3.8.11"
  }
 },
 "nbformat": 4,
 "nbformat_minor": 4
}
