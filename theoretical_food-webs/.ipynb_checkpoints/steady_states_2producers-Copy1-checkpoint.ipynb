{
 "cells": [
  {
   "cell_type": "code",
   "execution_count": 1,
   "metadata": {},
   "outputs": [],
   "source": [
    "import matplotlib.pyplot as plt\n",
    "import numpy as np"
   ]
  },
  {
   "cell_type": "code",
   "execution_count": 2,
   "metadata": {},
   "outputs": [],
   "source": [
    "# values from tables.docx\n",
    "phi1 = 0.2 #interaction strength for p1\n",
    "phi2 = 0.1 #interaction strength for p2\n",
    "mu1 = 3.0 #resource affinity parameter for p1\n",
    "mu2 = 2.0 #resource affinity parameter for p2\n",
    "eps1 = 0.4 #transfer efficiency for p1\n",
    "eps2 = 0.3 #transfer efficiency for p2\n",
    "m_p = 0.1 #producer mortality\n",
    "m_c = 0.1 #consumer mortality\n",
    "\n",
    "\n",
    "S_R = 0.4 #resource supply\n",
    "\n",
    "#S_R = (m_p*m_c)/(eps1*phi1)\n",
    "\n",
    "##dR = S_R - mu1*R*P1 - mu2*R*P2 - m_r*R \n",
    "##dP1 = (mu1*R*P1) - (phi1*P1*C) - (m_p*P1) \n",
    "##dP2 = (mu2*R*P2) - (phi2*P2*C) - (m_p*P2) \n",
    "##dC = (eps1*phi1*P1*C)+(eps2*phi2*P2*C) - (m_c*C) "
   ]
  },
  {
   "cell_type": "code",
   "execution_count": 3,
   "metadata": {},
   "outputs": [
    {
     "name": "stdout",
     "output_type": "stream",
     "text": [
      "(0.03333333333333333,4.0,0,0)\n"
     ]
    }
   ],
   "source": [
    "#steady-state solutions #1 (R*,P1*,0,0)\n",
    "R_star1 = (m_p/mu1)\n",
    "P1_star1 = S_R/m_p\n",
    "P2_star1 = 0\n",
    "C_star1 = 0\n",
    "print('('+ str(R_star1) + ',' + str(P1_star1) + ',' + str(P2_star1) + ','+ str(C_star1) + ')')"
   ]
  },
  {
   "cell_type": "code",
   "execution_count": 4,
   "metadata": {},
   "outputs": [
    {
     "name": "stdout",
     "output_type": "stream",
     "text": [
      "(0.10666666666666667,1.2499999999999998,0,1.1000000000000003)\n"
     ]
    }
   ],
   "source": [
    "#steady-state solutions #2 (R*,P1*,0,C*)\n",
    "R_star2 = (S_R*eps1*phi1)/(mu1*m_c)\n",
    "P1_star2 = m_c/(eps1*phi1)\n",
    "P2_star2 = 0\n",
    "C_star2 =((S_R*eps1)/m_c)-(m_p/phi1)\n",
    "print('('+ str(R_star2) + ',' + str(P1_star2) + ',' + str(P2_star2) + ','+ str(C_star2) + ')')"
   ]
  },
  {
   "cell_type": "code",
   "execution_count": 5,
   "metadata": {},
   "outputs": [
    {
     "name": "stdout",
     "output_type": "stream",
     "text": [
      "(0.06,0,3.3333333333333335,0.19999999999999996)\n"
     ]
    }
   ],
   "source": [
    "#steady-state solutions #3 (R*,0,P2*,C*)\n",
    "R_star3 = (S_R*eps2*phi2)/(mu2*m_c)\n",
    "P1_star3 = 0\n",
    "P2_star3 = m_c/(eps2*phi2)\n",
    "C_star3 =((S_R*eps2)/m_c)-(m_p/phi2)\n",
    "print('('+ str(R_star3) + ',' + str(P1_star3) + ',' + str(P2_star3) + ','+ str(C_star3) + ')')"
   ]
  },
  {
   "cell_type": "code",
   "execution_count": 6,
   "metadata": {},
   "outputs": [
    {
     "name": "stdout",
     "output_type": "stream",
     "text": [
      "(0.05,0,4.0,0)\n"
     ]
    }
   ],
   "source": [
    "#steady-state solutions #4 (R*,0,P2*,0)\n",
    "R_star4 = (m_p/mu2)\n",
    "P1_star4 = 0\n",
    "P2_star4 = S_R/m_p\n",
    "C_star4 =0\n",
    "print('('+ str(R_star4) + ',' + str(P1_star4) + ',' + str(P2_star4) + ','+ str(C_star4) + ')')"
   ]
  },
  {
   "cell_type": "code",
   "execution_count": 7,
   "metadata": {},
   "outputs": [
    {
     "name": "stdout",
     "output_type": "stream",
     "text": [
      "(0.10000000000000005,1.1428571428571432,0.2857142857142844,1.0000000000000002)\n"
     ]
    }
   ],
   "source": [
    "#steady-state solutions #5 (R*,P1*,P2*,C*)\n",
    "R_star5 = (m_p*(phi1-phi2)/(mu2*phi1-mu1*phi2))\n",
    "P1_star5 = (m_c*m_p*mu2*(phi1-phi2)+S_R*eps2*phi2*(-mu2*phi1+mu1*phi2))/(m_p*(phi1-phi2)*(eps1*mu2*phi1-eps2*mu1*phi2))\n",
    "P2_star5 = (m_c*m_p*mu1*(phi2-phi1)+S_R*eps1*phi1*(mu2*phi1-mu1*phi2))/(m_p*(phi1-phi2)*(eps1*mu2*phi1-eps2*mu1*phi2))\n",
    "C_star5 = (m_p*(mu2-mu1)/((mu1*phi2)-(mu2*phi1)))\n",
    "print('('+ str(R_star5) + ',' + str(P1_star5) + ',' + str(P2_star5) + ','+ str(C_star5) + ')')"
   ]
  },
  {
   "cell_type": "code",
   "execution_count": 8,
   "metadata": {},
   "outputs": [
    {
     "name": "stdout",
     "output_type": "stream",
     "text": [
      "[0.4        0.376      0.35298624 ... 0.03333338 0.03333338 0.03333338]\n"
     ]
    }
   ],
   "source": [
    "# differential  equation\n",
    "\n",
    "##dR = S_R - mu1*R*P1 - mu2*R*P2 #dR/dt\n",
    "def g(R):\n",
    "    return S_R - (mu1*R*P1[i-1]) - (mu2*R*P2[i-1])\n",
    "\n",
    "##dP1 = (mu1*R*P1) - (phi1*P1*C) - (m_p*P1) #dP1/dt\n",
    "def f(P1):\n",
    "    return  (mu1*R[i-1]*P1) - (m_p*P1)\n",
    "\n",
    "#- (phi1*P1*C[i-1])\n",
    "\n",
    "##dP2 = (mu2*R*P2) - (phi2*P2*C) - (m_p*P2) #dP2/dt\n",
    "def j(P2):\n",
    "    return  (mu2*R[i-1]*P2) - (m_p*P2)\n",
    "#- (phi2*P2*C[i-1])\n",
    "\n",
    "##dC = (eps1*phi1*P1*C)+(eps2*phi2*P2*C) - (m_c*C) #dC/dt\n",
    "#def h(C):\n",
    "    #return (eps1*phi1*P1[i-1]*C) + (eps2*phi2*P2[i-1]*C) - (m_c*C)\n",
    "\n",
    "\n",
    "# define  initial  condition\n",
    "P1_0 = 0.5\n",
    "P2_0 = 0.5\n",
    "R0 = 0.4\n",
    "C0 = 0.5\n",
    "# time  step\n",
    "dt = 0.04\n",
    "# time change (discrete time)\n",
    "T = 350\n",
    "t = np.linspace(0, 150, int(T/dt))\n",
    "# array  to store  the  solution\n",
    "P1 = np.zeros(len(t))\n",
    "P2 = np.zeros(len(t))\n",
    "R = np.zeros(len(t))\n",
    "C = np.zeros(len(t))\n",
    "# Euler’s method\n",
    "P1[0] = P1_0\n",
    "P2[0] = P2_0\n",
    "R[0] = R0\n",
    "C[0] = C0\n",
    "for i in  range(1, len(t)):\n",
    "    P1[i] = P1[i-1] + f(P1[i -1])* dt\n",
    "    P2[i] = P2[i-1] + j(P2[i -1])* dt\n",
    "    R[i] = R[i-1] + g(R[i -1])* dt\n",
    "    #C[i] = C[i-1] + h(C[i -1])* dt\n",
    "print(R)"
   ]
  },
  {
   "cell_type": "code",
   "execution_count": 9,
   "metadata": {},
   "outputs": [
    {
     "name": "stdout",
     "output_type": "stream",
     "text": [
      "[0.7        0.39200048 0.21678773 ... 0.03333333 0.03333333 0.03333333]\n"
     ]
    }
   ],
   "source": [
    "S_R1 = 0.7#resource supply\n",
    "\n",
    "# differential  equation\n",
    "\n",
    "##dR = S_R - mu1*R*P1 - mu2*R*P2 #dR/dt\n",
    "def g(R_1):\n",
    "    return S_R1 - (mu1*R_1*P1_1[i-1]) - (mu2*R_1*P2_1[i-1])\n",
    "\n",
    "##dP1 = (mu1*R*P1) - (phi1*P1*C) - (m_p*P1) #dP1/dt\n",
    "def f(P1_1):\n",
    "    return  (mu1*R_1[i-1]*P1_1) - (phi1*P1_1*C_1[i-1]) - (m_p*P1_1)\n",
    "\n",
    "\n",
    "\n",
    "##dP2 = (mu2*R*P2) - (phi2*P2*C) - (m_p*P2) #dP2/dt\n",
    "def j(P2_1):\n",
    "    return  (mu2*R_1[i-1]*P2_1) - (phi2*P2_1*C_1[i-1]) - (m_p*P2_1)\n",
    "\n",
    "\n",
    "##dC = (eps1*phi1*P1*C)+(eps2*phi2*P2*C) - (m_c*C) #dC/dt\n",
    "#def h(C_1):\n",
    "    #return (eps1*phi1*P1_1[i-1]*C_1) + (eps2*phi2*P2_1[i-1]*C_1) - (m_c*C_1)\n",
    "\n",
    "\n",
    "# time  step\n",
    "dt = 0.04\n",
    "# time change (discrete time)\n",
    "T = 350\n",
    "t1 = np.linspace(150, T, int(T/dt))\n",
    "\n",
    "# Euler’s method\n",
    "\n",
    "P1_1 = np.zeros(len(t))\n",
    "P2_1 = np.zeros(len(t))\n",
    "R_1 = np.zeros(len(t))\n",
    "C_1 = np.zeros(len(t))\n",
    "\n",
    "P1_1[0] = P1[-1]\n",
    "P2_1[0] = P2[-1]\n",
    "R_1[0] = 0.7\n",
    "C_1[0] = C[-1]\n",
    "for i in  range(1, len(t1)):\n",
    "    P1_1[i] = P1_1[i-1] + f(P1_1[i -1])* dt\n",
    "    P2_1[i] = P2_1[i-1] + j(P2_1[i -1])* dt\n",
    "    R_1[i] = R_1[i-1] + g(R_1[i -1])* dt\n",
    "    #C_1[i] = C_1[i-1] + h(C_1[i -1])* dt\n",
    "print(R_1)"
   ]
  },
  {
   "cell_type": "code",
   "execution_count": 11,
   "metadata": {},
   "outputs": [
    {
     "data": {
      "image/png": "[encoded data removed]",
      "text/plain": [
       "<Figure size 432x288 with 1 Axes>"
      ]
     },
     "metadata": {
      "needs_background": "light"
     },
     "output_type": "display_data"
    }
   ],
   "source": [
    "plt.figure()\n",
    "plt.plot(t,P1, '--', color = 'orange')\n",
    "plt.plot(t,P2, 'blue')\n",
    "#plt.axhline(P1_star1,0,350, color = 'black',linestyle = 'dotted')\n",
    "#plt.axhline(P2_star1,0,350, color = 'black',linestyle = 'dotted')\n",
    "#plt.plot(t,R,'b')\n",
    "#plt.plot(t,C, 'g')\n",
    "plt.plot(t1,P1_1, '--', color = 'orange')\n",
    "plt.plot(t1,P2_1, 'blue')\n",
    "\n",
    "plt.plot(t,R, 'red')\n",
    "plt.plot(t1,R_1, 'red')\n",
    "#plt.plot(t, C, 'red')\n",
    "#plt.plot(t1, C_1, 'red')\n",
    "#plt.axhline(P1_star3,0,350, color = 'black',linestyle = 'dotted')\n",
    "#plt.axhline(P2_star3,0,350, color = 'black',linestyle = 'dotted')\n",
    "#plt.plot(t,R,'b')\n",
    "#plt.plot(t,C, 'g')\n",
    "plt.vlines(150,-1,8, color = 'black',linestyle = 'dotted')\n",
    "\n",
    "\n",
    "\n",
    "plt.xlabel('Time (days)', color = 'k')\n",
    "plt.ylabel('P (mmol C/ m$^{3}$ day)', color = 'k')\n",
    "\n",
    "\n",
    "\n",
    "plt.savefig(\"no_consumer\", bbox_inches='tight', dpi=300)"
   ]
  },
  {
   "cell_type": "code",
   "execution_count": 11,
   "metadata": {},
   "outputs": [
    {
     "data": {
      "image/png": "[encoded data removed]",
      "text/plain": [
       "<Figure size 432x288 with 1 Axes>"
      ]
     },
     "metadata": {
      "needs_background": "light"
     },
     "output_type": "display_data"
    }
   ],
   "source": [
    "\n",
    "plt.figure()\n",
    "plt.plot(t,P1, '--', color = 'orange')\n",
    "plt.plot(t,P2, 'blue')\n",
    "#plt.axhline(P1_star1,0,350, color = 'black',linestyle = 'dotted')\n",
    "#plt.axhline(P2_star1,0,350, color = 'black',linestyle = 'dotted')\n",
    "#plt.plot(t,R,'b')\n",
    "#plt.plot(t,C, 'g')\n",
    "\n",
    "\n",
    "plt.xlabel('Time (days)', color = 'k')\n",
    "plt.ylabel('P (mmol C/ m$^{3}$ day)', color = 'k')\n",
    "\n",
    "plt.savefig('coexist1.png')"
   ]
  },
  {
   "cell_type": "code",
   "execution_count": 12,
   "metadata": {},
   "outputs": [
    {
     "name": "stdout",
     "output_type": "stream",
     "text": [
      "0.4 0.7\n"
     ]
    },
    {
     "data": {
      "image/png": "[encoded data removed]",
      "text/plain": [
       "<Figure size 432x288 with 1 Axes>"
      ]
     },
     "metadata": {
      "needs_background": "light"
     },
     "output_type": "display_data"
    }
   ],
   "source": [
    "S_R= 0.4\n",
    "S_R1 = 0.7\n",
    "plt.figure()\n",
    "plt.xlim(0,350)\n",
    "plt.hlines(S_R,0,150, color = 'black',linestyle = 'dotted')\n",
    "plt.hlines(S_R1,150,350, color = 'black',linestyle = 'dotted')\n",
    "plt.vlines(150,S_R,S_R1, color = 'black',linestyle = 'dotted')\n",
    "print(S_R, S_R1)\n",
    "\n",
    "plt.xlabel('Time (days)', color = 'k')\n",
    "plt.ylabel('S$_{R}$ (mmol C/ m$^{3}$ day)', color = 'k')\n",
    "\n",
    "\n",
    "\n",
    "plt.savefig(\"resource_supply\", bbox_inches='tight', dpi=300)"
   ]
  },
  {
   "cell_type": "code",
   "execution_count": 34,
   "metadata": {},
   "outputs": [
    {
     "data": {
      "image/png": "[encoded data removed]",
      "text/plain": [
       "<Figure size 432x288 with 1 Axes>"
      ]
     },
     "metadata": {
      "needs_background": "light"
     },
     "output_type": "display_data"
    }
   ],
   "source": [
    "plt.rc_context({'axes.edgecolor':'black'})\n",
    "\n",
    "P1_star_seg1 = []\n",
    "P2_star_seg1 = []\n",
    "S_R = []\n",
    "for r in [0,0.3775]:\n",
    "    S_R.append(r)\n",
    "    P1_star_seg1.append(P1_star2)\n",
    "    P2_star_seg1.append(P2_star2)\n",
    "plt.plot(S_R,P1_star_seg1, color='red')\n",
    "plt.plot(S_R,P2_star_seg1, color = 'purple')\n",
    "\n",
    "\n",
    "P1_star_seg3 = []\n",
    "P2_star_seg3 = []\n",
    "S_R = []\n",
    "for r in [0.6665,1]:\n",
    "    S_R.append(r)\n",
    "    P1_star_seg3.append(P1_star3)\n",
    "    P2_star_seg3.append(P2_star3)\n",
    "plt.plot(S_R,P1_star_seg3, color = 'red')\n",
    "plt.plot(S_R,P2_star_seg3, color = 'purple')\n",
    "\n",
    "P1_star_seg2 = []\n",
    "P2_star_seg2 = []\n",
    "for S_R in [0.3775,0.5,0.665]:\n",
    "    P1_star5 = (m_c*m_p*mu2*(phi1-phi2)+S_R*eps2*phi2*(-mu2*phi1+mu1*phi2))/(m_p*(phi1-phi2)*(eps1*mu2*phi1-eps2*mu1*phi2))\n",
    "    P2_star5 = (m_c*m_p*mu1*(phi2-phi1)+S_R*eps1*phi1*(mu2*phi1-mu1*phi2))/(m_p*(phi1-phi2)*(eps1*mu2*phi1-eps2*mu1*phi2))\n",
    "    P1_star_seg2.append(P1_star5)\n",
    "    P2_star_seg2.append(P2_star5)\n",
    "\n",
    "S_R = []\n",
    "for r in [0.3775,0.5,0.665]:\n",
    "    S_R.append(r)\n",
    "plt.plot(S_R,P1_star_seg2, color = 'red')\n",
    "plt.plot(S_R,P2_star_seg2, color = 'purple')\n",
    "\n",
    "\n",
    "plt.xlabel('S$_{R}$ (mmol C/m$^{3}$ day)', color = 'k')\n",
    "plt.ylabel('P (mmol C/ m$^{3}$ day)', color = 'k')\n",
    "plt.rc('font', size=14)          # controls default text sizes\n",
    "plt.rc('axes', titlesize=14)     # fontsize of the axes title\n",
    "plt.rc('axes', labelsize=14)    # fontsize of the x and y labels\n",
    "plt.rc('xtick', labelsize=10)    # fontsize of the tick labels\n",
    "plt.rc('ytick', labelsize=10)    # fontsize of the tick labels\n",
    "\n",
    "\n",
    "plt.savefig('pstars.png')"
   ]
  },
  {
   "cell_type": "code",
   "execution_count": 31,
   "metadata": {},
   "outputs": [],
   "source": [
    "#coexistence during resource levels of 0.3775 to 0.665"
   ]
  },
  {
   "cell_type": "code",
   "execution_count": 45,
   "metadata": {},
   "outputs": [
    {
     "data": {
      "image/png": "[encoded data removed]",
      "text/plain": [
       "<Figure size 432x288 with 1 Axes>"
      ]
     },
     "metadata": {
      "needs_background": "light"
     },
     "output_type": "display_data"
    }
   ],
   "source": [
    "C_star_seg1 = []\n",
    "S_R = []\n",
    "for r in [0,0.3775]:\n",
    "    S_R.append(r)\n",
    "    C_star2 =((r*eps1)/m_c)-(m_p/phi1)\n",
    "    C_star_seg1.append(C_star2)\n",
    "plt.plot(S_R,C_star_seg1, color='green')\n",
    "\n",
    "\n",
    "C_star_seg2 = []\n",
    "S_R = []\n",
    "for r in [0.3775,0.5,0.665]:\n",
    "    S_R.append(r)\n",
    "    C_star_seg2.append(C_star5)\n",
    "plt.plot(S_R,C_star_seg2, color='green')\n",
    "\n",
    "C_star_seg3 = []\n",
    "S_R = []\n",
    "for r in [0.665,1]:\n",
    "    S_R.append(r)\n",
    "    C_star3 =((r*eps2)/m_c)-(m_p/phi2)\n",
    "    C_star_seg3.append(C_star3)\n",
    "plt.plot(S_R,C_star_seg3, color='green')\n",
    "\n",
    "\n",
    "plt.xlabel('S$_{R}$ (mmol C/ m$^{3}$ day)')\n",
    "plt.ylabel('C (mmol C/ m$^{3}$ day)', color = 'k')\n",
    "\n",
    "plt.savefig('consumer.png')"
   ]
  },
  {
   "cell_type": "code",
   "execution_count": 112,
   "metadata": {},
   "outputs": [
    {
     "data": {
      "text/plain": [
       "Text(0, 0.5, 'C')"
      ]
     },
     "execution_count": 112,
     "metadata": {},
     "output_type": "execute_result"
    },
    {
     "data": {
      "image/png": "[encoded data removed]",
      "text/plain": [
       "<Figure size 432x288 with 1 Axes>"
      ]
     },
     "metadata": {
      "needs_background": "light"
     },
     "output_type": "display_data"
    }
   ],
   "source": [
    "plt.ylim(0,5)\n",
    "plt.xlim(0,5)\n",
    "\n",
    "plt.plot(P1_star2,C_star2,'or')\n",
    "plt.plot(P2_star5,C_star5,'or')\n",
    "plt.plot(P2_star3,C_star3,'or')\n",
    "\n",
    "#print(C_star2, P1_star2, C_star5, P2_star5, C_star3, P2_star3)\n",
    "\n",
    "plt.plot([P1_star2,P1_star2],[C_star2,0],'r')\n",
    "plt.plot([P1_star2,P2_star5],[C_star2,C_star5],'r')\n",
    "plt.plot([P2_star5,P2_star3],[C_star5,C_star3],'r')\n",
    "\n",
    "plt.xlabel('P')\n",
    "plt.ylabel('C')"
   ]
  },
  {
   "cell_type": "code",
   "execution_count": null,
   "metadata": {},
   "outputs": [],
   "source": []
  },
  {
   "cell_type": "code",
   "execution_count": null,
   "metadata": {},
   "outputs": [],
   "source": []
  },
  {
   "cell_type": "code",
   "execution_count": null,
   "metadata": {},
   "outputs": [],
   "source": []
  }
 ],
 "metadata": {
  "kernelspec": {
   "display_name": "Python 3",
   "language": "python",
   "name": "python3"
  },
  "language_info": {
   "codemirror_mode": {
    "name": "ipython",
    "version": 3
   },
   "file_extension": ".py",
   "mimetype": "text/x-python",
   "name": "python",
   "nbconvert_exporter": "python",
   "pygments_lexer": "ipython3",
   "version": "3.8.11"
  }
 },
 "nbformat": 4,
 "nbformat_minor": 2
}
