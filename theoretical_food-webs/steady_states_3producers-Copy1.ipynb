{
 "cells": [
  {
   "cell_type": "code",
   "execution_count": 2,
   "metadata": {},
   "outputs": [],
   "source": [
    "import matplotlib.pyplot as plt\n",
    "import numpy as np\n",
    "import math"
   ]
  },
  {
   "cell_type": "code",
   "execution_count": 3,
   "metadata": {},
   "outputs": [],
   "source": [
    "# values\n",
    "phi1 = 0.2  #interaction strength for p1\n",
    "phi2 = 0.1  #interaction strength for p2\n",
    "phi3 = 0.07 #interaction strength for p3\n",
    "mu1 = 3.0   #resource affinity parameter for p1\n",
    "mu2 = 2.0   #resource affinity parameter for p2\n",
    "mu3 = 1.6   #resource affinity parameter for p3\n",
    "eps1 = 0.4  #transfer efficiency for p1\n",
    "eps2 = 0.3  #transfer efficiency for p2\n",
    "eps3 = 0.2  #transfer efficiency for p3\n",
    "m_p = 0.1   #producer mortality\n",
    "m_c = 0.1   #consumer mortality\n",
    "\n",
    "\n",
    "S_R = 1.1   #resource supply\n",
    "\n",
    "# S_R = (m_p*m_c)/(eps1*phi1)\n",
    "\n",
    "## dR = S_R - mu1*R*P1 - mu2*R*P2                   #dR/dt\n",
    "## dP1 = (mu1*R*P1) - (phi1*P1*C) - (m_p*P1)        #dP1/dt\n",
    "## dP2 = (mu2*R*P2) - (phi2*P2*C) - (m_p*P2)        #dP2/dt\n",
    "## dC = (eps1*phi1*P1*C)+(eps2*phi2*P2*C) - (m_c*C) #dC/dt"
   ]
  },
  {
   "cell_type": "code",
   "execution_count": 4,
   "metadata": {},
   "outputs": [
    {
     "name": "stdout",
     "output_type": "stream",
     "text": [
      "(0.03333333333333333,11.0,0,0,0)\n"
     ]
    }
   ],
   "source": [
    "#steady-state solutions #1 (R*,P1*,0, 0, 0)\n",
    "R_star1 = (m_p/mu1)\n",
    "P1_star1 = S_R/m_p\n",
    "P2_star1 = 0\n",
    "P3_star1 =0\n",
    "C_star1 = 0\n",
    "print('('+ str(R_star1) + ',' + str(P1_star1) + ',' + str(P2_star1) + ','+ str(P3_star1) + ',' + str(C_star1) + ')')"
   ]
  },
  {
   "cell_type": "code",
   "execution_count": 5,
   "metadata": {},
   "outputs": [
    {
     "name": "stdout",
     "output_type": "stream",
     "text": [
      "(0.2933333333333334,1.2499999999999998,0,0,3.9000000000000004)\n"
     ]
    }
   ],
   "source": [
    "#steady-state solutions #2 (R*,P1*,0,0,C*)\n",
    "R_star2 = (S_R*eps1*phi1)/(mu1*m_c)\n",
    "P1_star2 = m_c/(eps1*phi1)\n",
    "P2_star2 = 0\n",
    "P3_star2 =0\n",
    "C_star2 =((S_R*eps1)/m_c)-(m_p/phi1)\n",
    "print('('+ str(R_star2) + ',' + str(P1_star2) + ',' + str(P2_star2) + ','+ str(P3_star2) + ',' + str(C_star2) + ')')"
   ]
  },
  {
   "cell_type": "code",
   "execution_count": 6,
   "metadata": {},
   "outputs": [
    {
     "name": "stdout",
     "output_type": "stream",
     "text": [
      "(0.165,0,3.3333333333333335,0,2.3)\n"
     ]
    }
   ],
   "source": [
    "#steady-state solutions #3 (R*,0,P2*,0,C*)\n",
    "R_star3 = (S_R*eps2*phi2)/(mu2*m_c)\n",
    "P1_star3 = 0\n",
    "P2_star3 = m_c/(eps2*phi2)\n",
    "P3_star3 = 0\n",
    "C_star3 =((S_R*eps2)/m_c)-(m_p/phi2)\n",
    "print('('+ str(R_star3) + ',' + str(P1_star3) + ',' + str(P2_star3) + ','+ str(P3_star3) + ',' + str(C_star3) + ')')"
   ]
  },
  {
   "cell_type": "code",
   "execution_count": 7,
   "metadata": {},
   "outputs": [
    {
     "name": "stdout",
     "output_type": "stream",
     "text": [
      "(0.05,0,11.0,0,0)\n"
     ]
    }
   ],
   "source": [
    "#steady-state solutions #4 (R*,0,P2*,0,0)\n",
    "R_star4 = (m_p/mu2)\n",
    "P1_star4 = 0\n",
    "P2_star4 = S_R/m_p\n",
    "P3_star4 = 0\n",
    "C_star4 =0\n",
    "print('('+ str(R_star4) + ',' + str(P1_star4) + ',' + str(P2_star4) + ','+ str(P3_star4) + ',' + str(C_star4) + ')')"
   ]
  },
  {
   "cell_type": "code",
   "execution_count": 8,
   "metadata": {},
   "outputs": [
    {
     "name": "stdout",
     "output_type": "stream",
     "text": [
      "(0.10000000000000005,-1.8571428571428548,8.28571428571428,0,1.0000000000000002)\n"
     ]
    }
   ],
   "source": [
    "#steady-state solutions #5 (R*,P1*,P2*,0,C*)\n",
    "R_star5 = (m_p*(phi1-phi2)/(mu2*phi1-mu1*phi2))\n",
    "P1_star5 = (m_c*m_p*mu2*(phi1-phi2)+S_R*eps2*phi2*(-mu2*phi1+mu1*phi2))/(m_p*(phi1-phi2)*(eps1*mu2*phi1-eps2*mu1*phi2))\n",
    "P2_star5 = (m_c*m_p*mu1*(phi2-phi1)+S_R*eps1*phi1*(mu2*phi1-mu1*phi2))/(m_p*(phi1-phi2)*(eps1*mu2*phi1-eps2*mu1*phi2))\n",
    "P3_star5 = 0\n",
    "C_star5 = (m_p*(mu2-mu1)/((mu1*phi2)-(mu2*phi1)))\n",
    "print('('+ str(R_star5) + ',' + str(P1_star5) + ',' + str(P2_star5) + ','+ str(P3_star5) + ',' + str(C_star5) + ')')"
   ]
  },
  {
   "cell_type": "code",
   "execution_count": 9,
   "metadata": {},
   "outputs": [
    {
     "name": "stdout",
     "output_type": "stream",
     "text": [
      "(0.0625,0,0,11.0,0)\n"
     ]
    }
   ],
   "source": [
    "#steady-state solutions #6 (R*,0,0,P3*, 0)\n",
    "R_star6 = (m_p/mu3)\n",
    "P1_star6 = 0\n",
    "P2_star6 = 0\n",
    "P3_star6 = S_R/m_p\n",
    "C_star6 =0\n",
    "print('('+ str(R_star6) + ',' + str(P1_star6) + ',' + str(P2_star6) + ','+ str(P3_star6) + ',' + str(C_star6) + ')')"
   ]
  },
  {
   "cell_type": "code",
   "execution_count": 10,
   "metadata": {},
   "outputs": [
    {
     "name": "stdout",
     "output_type": "stream",
     "text": [
      "(0.09625,0,0,7.142857142857142,0.7714285714285716)\n"
     ]
    }
   ],
   "source": [
    "#steady-state solutions #7 (R*,0,0,P3*, C*)\n",
    "R_star7 = (S_R*eps3*phi3)/(mu3*m_c)\n",
    "P1_star7 = 0\n",
    "P2_star7 = 0\n",
    "P3_star7 = m_c/(eps3*phi3)\n",
    "C_star7 =((S_R*eps3)/m_c)-(m_p/phi3)\n",
    "print('('+ str(R_star7) + ',' + str(P1_star7) + ',' + str(P2_star7) + ','+ str(P3_star7) + ',' + str(C_star7) + ')')"
   ]
  },
  {
   "cell_type": "code",
   "execution_count": 11,
   "metadata": {},
   "outputs": [
    {
     "name": "stdout",
     "output_type": "stream",
     "text": [
      "(0.14999999999999988,0,2.8666666666666636,1.00000000000001,1.999999999999998)\n"
     ]
    }
   ],
   "source": [
    "#steady-state solutions #8 (R*,0,P2*,P3*,C*)\n",
    "R_star8 = (m_p*(phi2-phi3)/(mu3*phi2-mu2*phi3))\n",
    "P1_star8 = 0\n",
    "P2_star8 = (m_c*m_p*mu3*(phi2-phi3)+S_R*eps3*phi3*(-mu3*phi2+mu2*phi3))/(m_p*(phi2-phi3)*(eps2*mu3*phi2-eps3*mu2*phi3))\n",
    "P3_star8  = (m_c*m_p*mu2*(phi3-phi2)+S_R*eps2*phi2*(mu3*phi2-mu2*phi3))/(m_p*(phi2-phi3)*(eps2*mu3*phi2-eps3*mu2*phi3))\n",
    "C_star8 = (m_p*(mu3-mu2)/((mu2*phi3)-(mu3*phi2)))\n",
    "print('('+ str(R_star8) + ',' + str(P1_star8) + ',' + str(P2_star8) + ','+ str(P3_star8) + ',' + str(C_star8) + ')')"
   ]
  },
  {
   "cell_type": "code",
   "execution_count": 12,
   "metadata": {},
   "outputs": [],
   "source": [
    "# differential  equation\n",
    "\n",
    "##dR = S_R - mu1*R*P1 - mu2*R*P2 #dR/dt\n",
    "def g(R):\n",
    "    return S_R - (mu1*R*P1[i-1]) - (mu2*R*P2[i-1]) - (mu3*R*P3[i-1])\n",
    "\n",
    "##dP1 = (mu1*R*P1) - (phi1*P1*C) - (m_p*P1) #dP1/dt\n",
    "def f(P1):\n",
    "    return  (mu1*R[i-1]*P1) - (phi1*P1*C[i-1]) - (m_p*P1)\n",
    "\n",
    "##dP2 = (mu2*R*P2) - (phi2*P2*C) - (m_p*P2) #dP2/dt\n",
    "def j(P2):\n",
    "    return  (mu2*R[i-1]*P2) - (phi2*P2*C[i-1]) - (m_p*P2)\n",
    "\n",
    "##dP3 = (mu3*R*P3) - (phi3*P3*C) - (m_p*P3) #dP3/dt\n",
    "def k(P3):\n",
    "    return  (mu3*R[i-1]*P3) - (phi3*P3*C[i-1]) - (m_p*P3)\n",
    "\n",
    "##dC = (eps1*phi1*P1*C)+(eps2*phi2*P2*C) - (m_c*C) #dC/dt\n",
    "def h(C):\n",
    "    return (eps1*phi1*P1[i-1]*C) + (eps2*phi2*P2[i-1]*C) + (eps3*phi3*P3[i-1]*C) - (m_c*C)\n",
    "\n",
    "# time  step\n",
    "dt = 0.04\n",
    "# time change (discrete time)\n",
    "T = 2000\n",
    "t = np.linspace(0, T, int(T/dt))\n",
    "# array  to store  the  solution\n",
    "P1 = np.zeros(len(t))\n",
    "P2 = np.zeros(len(t))\n",
    "P3 = np.zeros(len(t))\n",
    "R = np.zeros(len(t))\n",
    "C = np.zeros(len(t))\n",
    "#define  initial  conditions, Euler’s method\n",
    "P1[0] = 2\n",
    "P2[0] = 2\n",
    "P3[0] = 2\n",
    "R[0] = 2\n",
    "C[0] = 2\n",
    "for i in  range(1, len(t)):\n",
    "    P1[i] = P1[i-1] + f(P1[i -1])* dt\n",
    "    P2[i] = P2[i-1] + j(P2[i -1])* dt\n",
    "    P3[i] = P3[i-1] + k(P3[i -1])* dt\n",
    "    R[i] = R[i-1] + g(R[i -1])* dt\n",
    "    C[i] = C[i-1] + h(C[i -1])* dt"
   ]
  },
  {
   "cell_type": "code",
   "execution_count": 13,
   "metadata": {},
   "outputs": [
    {
     "data": {
      "text/plain": [
       "Text(0, 0.5, 'mmol C/ m^(3) day')"
      ]
     },
     "execution_count": 13,
     "metadata": {},
     "output_type": "execute_result"
    },
    {
     "data": {
      "image/png": "[encoded data removed]",
      "text/plain": [
       "<Figure size 432x288 with 1 Axes>"
      ]
     },
     "metadata": {
      "needs_background": "light"
     },
     "output_type": "display_data"
    }
   ],
   "source": [
    "plt.figure()\n",
    "plt.plot(t,P1, 'r')\n",
    "plt.plot(t,P2, 'purple')\n",
    "plt.plot(t,P3, 'c')\n",
    "plt.plot(t,R,'b')\n",
    "plt.plot(t,C, 'g')\n",
    "plt.xlabel('Time (days)')\n",
    "plt.ylabel('mmol C/ m^(3) day')"
   ]
  },
  {
   "cell_type": "code",
   "execution_count": 14,
   "metadata": {},
   "outputs": [
    {
     "data": {
      "image/png": "[encoded data removed]",
      "text/plain": [
       "<Figure size 432x288 with 1 Axes>"
      ]
     },
     "metadata": {
      "needs_background": "light"
     },
     "output_type": "display_data"
    }
   ],
   "source": [
    "plt.rc_context({'axes.edgecolor':'black'})\n",
    "\n",
    "P1_star_seg1 = []\n",
    "P2_star_seg1 = []\n",
    "P3_star_seg1 = []\n",
    "S_R = []\n",
    "for r in [0,0.3775]:\n",
    "    S_R.append(r)\n",
    "    P1_star_seg1.append(P1_star2)\n",
    "    P2_star_seg1.append(P2_star2)\n",
    "    P3_star_seg1.append(P3_star2)\n",
    "plt.plot(S_R,P1_star_seg1, color='red')\n",
    "plt.plot(S_R,P2_star_seg1, color = 'purple')\n",
    "plt.plot(S_R,P3_star_seg1,'c--')\n",
    "\n",
    "\n",
    "P1_star_seg3 = []\n",
    "P2_star_seg3 = []\n",
    "P3_star_seg3 = []\n",
    "S_R = []\n",
    "for r in [0.6665,1.0086]:\n",
    "    S_R.append(r)\n",
    "    P1_star_seg3.append(P1_star3)\n",
    "    P2_star_seg3.append(P2_star3)\n",
    "    P3_star_seg3.append(P3_star3)\n",
    "plt.plot(S_R,P1_star_seg3, color = 'red')\n",
    "plt.plot(S_R,P2_star_seg3, color = 'purple')\n",
    "plt.plot(S_R,P3_star_seg3, 'c--')\n",
    "\n",
    "P1_star_seg2 = []\n",
    "P2_star_seg2 = []\n",
    "P3_star_seg2 = []\n",
    "for S_R in [0.3775,0.5,0.665]:\n",
    "    P1_star5 = (m_c*m_p*mu2*(phi1-phi2)+S_R*eps2*phi2*(-mu2*phi1+mu1*phi2))/(m_p*(phi1-phi2)*(eps1*mu2*phi1-eps2*mu1*phi2))\n",
    "    P2_star5 = (m_c*m_p*mu1*(phi2-phi1)+S_R*eps1*phi1*(mu2*phi1-mu1*phi2))/(m_p*(phi1-phi2)*(eps1*mu2*phi1-eps2*mu1*phi2))\n",
    "    P3_star5=0\n",
    "    P1_star_seg2.append(P1_star5)\n",
    "    P2_star_seg2.append(P2_star5)\n",
    "    P3_star_seg2.append(P3_star5)\n",
    "\n",
    "S_R = []\n",
    "for r in [0.3775,0.5,0.665]:\n",
    "    S_R.append(r)\n",
    "plt.plot(S_R,P1_star_seg2, color = 'red')\n",
    "plt.plot(S_R,P2_star_seg2, color = 'purple')\n",
    "plt.plot(S_R,P3_star_seg2, 'c--')\n",
    "\n",
    "P1_star_seg4 = []\n",
    "P2_star_seg4 = []\n",
    "P3_star_seg4 = []\n",
    "for S_R in [1.0086,1.4,1.71]:\n",
    "    P1_star8 = 0\n",
    "    P2_star8 = (m_c*m_p*mu3*(phi2-phi3)+S_R*eps3*phi3*(-mu3*phi2+mu2*phi3))/(m_p*(phi2-phi3)*(eps2*mu3*phi2-eps3*mu2*phi3))\n",
    "    P3_star8  = (m_c*m_p*mu2*(phi3-phi2)+S_R*eps2*phi2*(mu3*phi2-mu2*phi3))/(m_p*(phi2-phi3)*(eps2*mu3*phi2-eps3*mu2*phi3))\n",
    "    P1_star_seg4.append(P1_star8)\n",
    "    P2_star_seg4.append(P2_star8)\n",
    "    P3_star_seg4.append(P3_star8)\n",
    "    \n",
    "S_R = []\n",
    "for r in [1.0086,1.4,1.71]:\n",
    "    S_R.append(r)\n",
    "plt.plot(S_R,P1_star_seg4, color = 'red')\n",
    "plt.plot(S_R,P2_star_seg4, color = 'purple')\n",
    "plt.plot(S_R,P3_star_seg4, 'c--')\n",
    "\n",
    "\n",
    "P1_star_seg7 = []\n",
    "P2_star_seg7 = []\n",
    "P3_star_seg7 = []\n",
    "S_R = []\n",
    "for r in [1.71,2.5]:\n",
    "    S_R.append(r)\n",
    "    P1_star7 = 0\n",
    "    P2_star7 = 0\n",
    "    P3_star7 = m_c/(eps3*phi3)\n",
    "    P1_star_seg7.append(P1_star7)\n",
    "    P2_star_seg7.append(P2_star7)\n",
    "    P3_star_seg7.append(P3_star7)\n",
    "plt.plot(S_R,P1_star_seg7, color = 'red')\n",
    "plt.plot(S_R,P2_star_seg7, color = 'purple')\n",
    "plt.plot(S_R,P3_star_seg7, 'c--')\n",
    "\n",
    "plt.xlabel('S$_{R}$ (mmol C/m$^{3}$ day)', color = 'k')\n",
    "plt.ylabel('P (mmol C/ m$^{3}$ day)', color = 'k')\n",
    "plt.rc('font', size=14)          # controls default text sizes\n",
    "plt.rc('axes', titlesize=14)     # fontsize of the axes title\n",
    "plt.rc('axes', labelsize=14)    # fontsize of the x and y labels\n",
    "plt.rc('xtick', labelsize=10)    # fontsize of the tick labels\n",
    "plt.rc('ytick', labelsize=10)    # fontsize of the tick labels\n"
   ]
  },
  {
   "cell_type": "code",
   "execution_count": 21,
   "metadata": {
    "scrolled": true
   },
   "outputs": [
    {
     "name": "stdout",
     "output_type": "stream",
     "text": [
      "0.37500000000000006 0.666666666666667\n",
      "1.1249387366082995 1.3590219426416674\n"
     ]
    },
    {
     "data": {
      "image/png": "[encoded data removed]",
      "text/plain": [
       "<Figure size 432x288 with 1 Axes>"
      ]
     },
     "metadata": {
      "needs_background": "light"
     },
     "output_type": "display_data"
    }
   ],
   "source": [
    "Srl = -1*(m_c*mu1*m_p*(mu2-mu1))/(eps1*phi1*((mu2*phi1)-(mu1*phi2))*10)\n",
    "Sru = -1*(m_c*mu2*m_p*(mu2-mu1))/(eps2*phi2*((mu2*phi1)-(mu1*phi2))*10)\n",
    "\n",
    "print(Srl, Sru)\n",
    "\n",
    "Srl2 = math.log(-1*(m_c*mu2*m_p*(mu3-mu2))/(eps2*phi2*((mu3*phi2)-(mu2*phi3))),10)\n",
    "Sru2 = math.log(-1*(m_c*mu3*m_p*(mu3-mu2))/(eps3*phi3*((mu3*phi2)-(mu2*phi3))),10)\n",
    "\n",
    "print(Srl2,Sru2)\n",
    "\n",
    "#S_R = (m_p*m_c)/(eps1*phi1) from my calculation for just 1 producer\n",
    "\n",
    "\n",
    "S_R = np.arange(0,2.5,0.1)\n",
    "P1_star_tot = []\n",
    "P2_star_tot = []\n",
    "P3_star_tot = []\n",
    "\n",
    "for i in S_R:\n",
    "        P1_star = m_c/(eps1*phi1)\n",
    "        P1_star_tot.append(P1_star)\n",
    "        P2_star = 0\n",
    "        P2_star_tot.append(P2_star)\n",
    "        P3_star = 0\n",
    "        P3_star_tot.append(P3_star)\n",
    "    \n",
    "        \n",
    "plt.plot(S_R,P1_star_tot,color = 'red')\n",
    "plt.plot(S_R,P2_star_tot,color = 'purple')\n",
    "#plt.plot(S_R,P3_star_tot,'c--')\n",
    " \n",
    "    \n",
    "plt.xlabel('S$_{R}$ (mmol C/m$^{3}$ day)', color = 'k')\n",
    "plt.ylabel('P (mmol C/ m$^{3}$ day)', color = 'k')\n",
    "plt.rc('font', size=14)          # controls default text sizes\n",
    "plt.rc('axes', titlesize=14)     # fontsize of the axes title\n",
    "plt.rc('axes', labelsize=14)    # fontsize of the x and y labels\n",
    "plt.rc('xtick', labelsize=10)    # fontsize of the tick labels\n",
    "plt.rc('ytick', labelsize=10)    # fontsize of the tick labels"
   ]
  },
  {
   "cell_type": "code",
   "execution_count": 16,
   "metadata": {},
   "outputs": [
    {
     "data": {
      "text/plain": [
       "Text(0, 0.5, 'C (mmol C/ m$^{3}$ day)')"
      ]
     },
     "execution_count": 16,
     "metadata": {},
     "output_type": "execute_result"
    },
    {
     "data": {
      "image/png": "[encoded data removed]",
      "text/plain": [
       "<Figure size 432x288 with 1 Axes>"
      ]
     },
     "metadata": {
      "needs_background": "light"
     },
     "output_type": "display_data"
    }
   ],
   "source": [
    "C_star_seg1 = []\n",
    "S_R = []\n",
    "for r in [0,0.3775]:\n",
    "    S_R.append(r)\n",
    "    C_star2 =((r*eps1)/m_c)-(m_p/phi1)\n",
    "    C_star_seg1.append(C_star2)\n",
    "plt.plot(S_R,C_star_seg1, color='green')\n",
    "\n",
    "\n",
    "C_star_seg2 = []\n",
    "S_R = []\n",
    "for r in [0.3775,0.5,0.665]:\n",
    "    S_R.append(r)\n",
    "    C_star_seg2.append(C_star5)\n",
    "plt.plot(S_R,C_star_seg2, color='green')\n",
    "\n",
    "C_star_seg3 = []\n",
    "S_R = []\n",
    "for r in [0.665,1.0086]:\n",
    "    S_R.append(r)\n",
    "    C_star3 =((r*eps2)/m_c)-(m_p/phi2)\n",
    "    C_star_seg3.append(C_star3)\n",
    "plt.plot(S_R,C_star_seg3, color='green')\n",
    "\n",
    "C_star_seg4 = []\n",
    "S_R = []\n",
    "for r in [1.0086,1.71]:\n",
    "    S_R.append(r)\n",
    "    C_star8 = (m_p*(mu3-mu2)/((mu2*phi3)-(mu3*phi2)))\n",
    "    C_star_seg4.append(C_star8)\n",
    "plt.plot(S_R,C_star_seg4, color='green')\n",
    "\n",
    "C_star_seg5 = []\n",
    "S_R = []\n",
    "for r in [1.71,2.5]:\n",
    "    S_R.append(r)\n",
    "    C_star7 = ((r*eps3)/m_c)-(m_p/phi3)\n",
    "    C_star_seg5.append(C_star7)\n",
    "plt.plot(S_R,C_star_seg5, color='green')\n",
    "\n",
    "plt.xlabel('S$_{R}$ (mmol C/ m$^{3}$ day)')\n",
    "plt.ylabel('C (mmol C/ m$^{3}$ day)', color = 'k')"
   ]
  },
  {
   "cell_type": "code",
   "execution_count": 17,
   "metadata": {},
   "outputs": [
    {
     "name": "stdout",
     "output_type": "stream",
     "text": [
      "0.37500000000000006 0.666666666666667\n",
      "1.1249387366082995 1.3590219426416674\n"
     ]
    },
    {
     "data": {
      "text/plain": [
       "Text(0, 0.5, 'C (mmol C/ m$^{3}$ day)')"
      ]
     },
     "execution_count": 17,
     "metadata": {},
     "output_type": "execute_result"
    },
    {
     "data": {
      "image/png": "[encoded data removed]",
      "text/plain": [
       "<Figure size 432x288 with 1 Axes>"
      ]
     },
     "metadata": {
      "needs_background": "light"
     },
     "output_type": "display_data"
    }
   ],
   "source": [
    "Srl = -1*(m_c*mu1*m_p*(mu2-mu1))/(eps1*phi1*((mu2*phi1)-(mu1*phi2))*10)\n",
    "Sru = -1*(m_c*mu2*m_p*(mu2-mu1))/(eps2*phi2*((mu2*phi1)-(mu1*phi2))*10)\n",
    "\n",
    "print(Srl, Sru)\n",
    "\n",
    "Srl2 = math.log(-1*(m_c*mu2*m_p*(mu3-mu2))/(eps2*phi2*((mu3*phi2)-(mu2*phi3))),10)\n",
    "Sru2 = math.log(-1*(m_c*mu3*m_p*(mu3-mu2))/(eps3*phi3*((mu3*phi2)-(mu2*phi3))),10)\n",
    "\n",
    "print(Srl2,Sru2)\n",
    "\n",
    "S_R = np.arange(0,2.5,0.1)\n",
    "C_star_tot = []\n",
    "\n",
    "for i in S_R:\n",
    "    if i < Srl:\n",
    "        C_star =((i*eps1)/m_c)-(m_p/phi1)\n",
    "        C_star_tot.append(C_star)\n",
    "    elif i > Srl and i < Sru:\n",
    "        C_star = m_p*(mu2-mu1)/((mu1*phi2)-(mu2*phi1))\n",
    "        C_star_tot.append(C_star)\n",
    "    elif i > Sru and i < Srl2:\n",
    "        C_star =((i*eps2)/m_c)-(m_p/phi2)\n",
    "        C_star_tot.append(C_star)\n",
    "    elif i > Srl2 and i < Sru2:\n",
    "        C_star = m_p*(mu3-mu2)/((mu2*phi3)-(mu3*phi2))\n",
    "        C_star_tot.append(C_star)\n",
    "    elif i > Sru2: \n",
    "        C_star = ((i*eps3)/m_c)-(m_p/phi3)\n",
    "        C_star_tot.append(C_star)\n",
    "\n",
    "        \n",
    "plt.plot(S_R,C_star_tot,color = 'green')\n",
    "plt.xlabel('S$_{R}$ (mmol C/ m$^{3}$ day)')\n",
    "plt.ylabel('C (mmol C/ m$^{3}$ day)', color = 'k')"
   ]
  },
  {
   "cell_type": "code",
   "execution_count": 18,
   "metadata": {},
   "outputs": [
    {
     "data": {
      "text/plain": [
       "Text(0, 0.5, 'C')"
      ]
     },
     "execution_count": 18,
     "metadata": {},
     "output_type": "execute_result"
    },
    {
     "data": {
      "image/png": "[encoded data removed]",
      "text/plain": [
       "<Figure size 432x288 with 1 Axes>"
      ]
     },
     "metadata": {
      "needs_background": "light"
     },
     "output_type": "display_data"
    }
   ],
   "source": [
    "plt.ylim(0,10)\n",
    "plt.xlim(0,10)\n",
    "\n",
    "plt.plot(P1_star2,C_star2,'or')\n",
    "plt.plot(P2_star5,C_star5,'or')\n",
    "plt.plot(P2_star3,C_star3,'or')\n",
    "plt.plot(P3_star8,C_star8,'or')\n",
    "plt.plot(P3_star7,C_star7,'or')\n",
    "\n",
    "#print(C_star2, P1_star2, C_star5, P2_star5, C_star3, P2_star3)\n",
    "\n",
    "plt.plot([P1_star2,P1_star2],[C_star2,0],'r')\n",
    "plt.plot([P1_star2,P2_star5],[C_star2,C_star5],'r')\n",
    "plt.plot([P2_star5,P2_star3],[C_star5,C_star3],'r')\n",
    "plt.plot([P3_star8,P2_star3],[C_star8,C_star3],'r')\n",
    "plt.plot([P3_star7,P3_star8],[C_star7,C_star8],'r')\n",
    "\n",
    "plt.xlabel('P')\n",
    "plt.ylabel('C')"
   ]
  },
  {
   "cell_type": "code",
   "execution_count": 19,
   "metadata": {},
   "outputs": [
    {
     "data": {
      "image/png": "[encoded data removed]",
      "text/plain": [
       "<Figure size 432x288 with 1 Axes>"
      ]
     },
     "metadata": {
      "needs_background": "light"
     },
     "output_type": "display_data"
    }
   ],
   "source": [
    "#as S_R goes from zero to 140 show Ps pulling from \n",
    "    #the function for value at end of numerical integration\n",
    "#as S_R goes from zero to 140 show C pulling from \n",
    "    #function for value at end of numerical integration\n",
    "    \n",
    "# values\n",
    "phi1 = 0.2  #interaction strength for p1\n",
    "phi2 = 0.1  #interaction strength for p2\n",
    "phi3 = 0.07 #interaction strength for p3\n",
    "mu1 = 3.0   #resource affinity parameter for p1\n",
    "mu2 = 2.0   #resource affinity parameter for p2\n",
    "mu3 = 1.6   #resource affinity parameter for p3\n",
    "eps1 = 0.4  #transfer efficiency for p1\n",
    "eps2 = 0.3  #transfer efficiency for p2\n",
    "eps3 = 0.2  #transfer efficiency for p3\n",
    "m_p = 0.1   #producer mortality\n",
    "m_c = 0.1   #consumer mortality\n",
    "\n",
    "S_R = np.arange(0,3,0.1)\n",
    "#S_R = 0.4\n",
    "\n",
    "# time  step\n",
    "dt = 0.04\n",
    "# time change (discrete time)\n",
    "T = 5000\n",
    "t = np.linspace(0, T, int(T/dt))\n",
    "# array  to store  the  solution\n",
    "P1 = np.zeros(len(t))\n",
    "P2 = np.zeros(len(t))\n",
    "P3 = np.zeros(len(t))\n",
    "R = np.zeros(len(t))\n",
    "C = np.zeros(len(t))\n",
    "# define  initial  conditions, Euler’s method\n",
    "P1[0] = 2\n",
    "P2[0] = 2\n",
    "P3[0] = 2\n",
    "R[0] = 2\n",
    "C[0] = 2\n",
    "\n",
    "# put S_R in a loop as S_R increases pull the P1...P3 at time (T) to get final number and put it into an array\n",
    "\n",
    "P1_end = []\n",
    "P2_end = []\n",
    "P3_end = []\n",
    "C_end = []\n",
    "\n",
    "for r in S_R:\n",
    "    for i in  range(1, len(t)):\n",
    "        P1[i] = P1[i-1] + ((mu1*R[i-1]*P1[i-1]) - (phi1*P1[i-1]*C[i-1]) - (m_p*P1[i-1]))* dt\n",
    "        P2[i] = P2[i-1] + ((mu2*R[i-1]*P2[i-1]) - (phi2*P2[i-1]*C[i-1]) - (m_p*P2[i-1]))* dt\n",
    "        P3[i] = P3[i-1] + ((mu3*R[i-1]*P3[i-1]) - (phi3*P3[i-1]*C[i-1]) - (m_p*P3[i-1]))* dt\n",
    "        R[i] = R[i-1] + (r - (mu1*R[i-1]*P1[i-1]) - (mu2*R[i-1]*P2[i-1]) - (mu3*R[i-1]*P3[i-1]))* dt\n",
    "        C[i] = C[i-1] + ((eps1*phi1*P1[i-1]*C[i-1]) + (eps2*phi2*P2[i-1]*C[i-1]) + (eps3*phi3*P3[i-1]*C[i-1]) - (m_c*C[i-1]))* dt\n",
    "    #print(r)\n",
    "    P1_end.append(P1[T])\n",
    "    P2_end.append(P2[T])\n",
    "    P3_end.append(P3[T])\n",
    "    C_end.append(C[T])\n",
    "\n",
    "plt.plot(S_R,P1_end,color = 'red')\n",
    "plt.plot(S_R,P2_end,color = 'purple')\n",
    "plt.plot(S_R,P3_end,'c--')\n",
    "#plt.plot(S_R,C_end,color = 'green')\n",
    " \n",
    "    \n",
    "plt.xlabel('S$_{R}$ (mmol C/m$^{3}$ day)', color = 'k')\n",
    "plt.ylabel('P (mmol C/ m$^{3}$ day)', color = 'k')\n",
    "plt.rc('font', size=14)          # controls default text sizes\n",
    "plt.rc('axes', titlesize=14)     # fontsize of the axes title\n",
    "plt.rc('axes', labelsize=14)    # fontsize of the x and y labels\n",
    "plt.rc('xtick', labelsize=10)    # fontsize of the tick labels\n",
    "plt.rc('ytick', labelsize=10)    # fontsize of the tick labels"
   ]
  },
  {
   "cell_type": "code",
   "execution_count": 75,
   "metadata": {},
   "outputs": [
    {
     "data": {
      "image/png": "[encoded data removed]",
      "text/plain": [
       "<Figure size 432x288 with 1 Axes>"
      ]
     },
     "metadata": {
      "needs_background": "light"
     },
     "output_type": "display_data"
    }
   ],
   "source": [
    "plt.plot(S_R,C_end,color = 'green')\n",
    "plt.xlabel('S$_{R}$ (mmol C/m$^{3}$ day)', color = 'k')\n",
    "plt.ylabel('C (mmol C/ m$^{3}$ day)', color = 'k')\n",
    "plt.rc('font', size=14)          # controls default text sizes\n",
    "plt.rc('axes', titlesize=14)     # fontsize of the axes title\n",
    "plt.rc('axes', labelsize=14)    # fontsize of the x and y labels\n",
    "plt.rc('xtick', labelsize=10)    # fontsize of the tick labels\n",
    "plt.rc('ytick', labelsize=10)    # fontsize of the tick labels"
   ]
  },
  {
   "cell_type": "code",
   "execution_count": 83,
   "metadata": {},
   "outputs": [
    {
     "data": {
      "text/plain": [
       "Text(0.5, 0, 'P (mmol C/ m$^{3}$ day)')"
      ]
     },
     "execution_count": 83,
     "metadata": {},
     "output_type": "execute_result"
    },
    {
     "data": {
      "image/png": "[encoded data removed]",
      "text/plain": [
       "<Figure size 432x288 with 1 Axes>"
      ]
     },
     "metadata": {
      "needs_background": "light"
     },
     "output_type": "display_data"
    }
   ],
   "source": [
    "plt.plot(P1_end,C_end,'or')\n",
    "plt.plot(P2_end,C_end,'o',color = 'purple')\n",
    "plt.plot(P3_end,C_end,'oc')\n",
    "\n",
    "plt.ylim(0,10)\n",
    "plt.xlim(0,10)\n",
    "plt.ylabel('C (mmol C/ m$^{3}$ day)', color = 'k')\n",
    "plt.xlabel('P (mmol C/ m$^{3}$ day)', color = 'k')"
   ]
  },
  {
   "cell_type": "code",
   "execution_count": null,
   "metadata": {},
   "outputs": [],
   "source": []
  },
  {
   "cell_type": "code",
   "execution_count": null,
   "metadata": {},
   "outputs": [],
   "source": []
  },
  {
   "cell_type": "code",
   "execution_count": null,
   "metadata": {},
   "outputs": [],
   "source": []
  }
 ],
 "metadata": {
  "kernelspec": {
   "display_name": "Python 3",
   "language": "python",
   "name": "python3"
  },
  "language_info": {
   "codemirror_mode": {
    "name": "ipython",
    "version": 3
   },
   "file_extension": ".py",
   "mimetype": "text/x-python",
   "name": "python",
   "nbconvert_exporter": "python",
   "pygments_lexer": "ipython3",
   "version": "3.7.4"
  }
 },
 "nbformat": 4,
 "nbformat_minor": 2
}
