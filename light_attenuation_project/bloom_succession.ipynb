{
 "cells": [
  {
   "cell_type": "code",
   "execution_count": 19,
   "metadata": {},
   "outputs": [],
   "source": [
    "from scipy.integrate import *\n",
    "from pandas import *\n",
    "from numpy import *\n",
    "from pylab import *\n",
    "from scipy import *"
   ]
  },
  {
   "cell_type": "code",
   "execution_count": 20,
   "metadata": {},
   "outputs": [
    {
     "ename": "TypeError",
     "evalue": "read_excel() got an unexpected keyword argument `sheetname`",
     "output_type": "error",
     "traceback": [
      "\u001b[0;31m---------------------------------------------------------------------------\u001b[0m",
      "\u001b[0;31mTypeError\u001b[0m                                 Traceback (most recent call last)",
      "\u001b[0;32m<ipython-input-20-3b8462385a91>\u001b[0m in \u001b[0;36m<module>\u001b[0;34m\u001b[0m\n\u001b[1;32m      1\u001b[0m \u001b[0;31m# iimport data\u001b[0m\u001b[0;34m\u001b[0m\u001b[0;34m\u001b[0m\u001b[0;34m\u001b[0m\u001b[0m\n\u001b[0;32m----> 2\u001b[0;31m \u001b[0md2004\u001b[0m \u001b[0;34m=\u001b[0m \u001b[0mread_excel\u001b[0m\u001b[0;34m(\u001b[0m\u001b[0;34m\"ke_2008_data.xlsx\"\u001b[0m\u001b[0;34m,\u001b[0m \u001b[0msheetname\u001b[0m \u001b[0;34m=\u001b[0m \u001b[0;34m\"t2004\"\u001b[0m\u001b[0;34m)\u001b[0m\u001b[0;34m\u001b[0m\u001b[0;34m\u001b[0m\u001b[0m\n\u001b[0m\u001b[1;32m      3\u001b[0m \u001b[0md2005\u001b[0m \u001b[0;34m=\u001b[0m \u001b[0mread_excel\u001b[0m\u001b[0;34m(\u001b[0m\u001b[0;34m\"ke_2008_data.xlsx\"\u001b[0m\u001b[0;34m,\u001b[0m \u001b[0msheetname\u001b[0m \u001b[0;34m=\u001b[0m \u001b[0;34m\"t2005\"\u001b[0m\u001b[0;34m)\u001b[0m\u001b[0;34m\u001b[0m\u001b[0;34m\u001b[0m\u001b[0m\n\u001b[1;32m      4\u001b[0m \u001b[0mT4\u001b[0m\u001b[0;34m,\u001b[0m\u001b[0mM4\u001b[0m\u001b[0;34m,\u001b[0m\u001b[0mD4\u001b[0m\u001b[0;34m,\u001b[0m\u001b[0mZ4\u001b[0m \u001b[0;34m=\u001b[0m\u001b[0marray\u001b[0m\u001b[0;34m(\u001b[0m\u001b[0md2004\u001b[0m\u001b[0;34m[\u001b[0m\u001b[0;34m'T'\u001b[0m\u001b[0;34m]\u001b[0m\u001b[0;34m)\u001b[0m\u001b[0;34m,\u001b[0m\u001b[0marray\u001b[0m\u001b[0;34m(\u001b[0m\u001b[0md2004\u001b[0m\u001b[0;34m[\u001b[0m\u001b[0;34m'M'\u001b[0m\u001b[0;34m]\u001b[0m\u001b[0;34m)\u001b[0m\u001b[0;34m,\u001b[0m\u001b[0marray\u001b[0m\u001b[0;34m(\u001b[0m\u001b[0md2004\u001b[0m\u001b[0;34m[\u001b[0m\u001b[0;34m'E'\u001b[0m\u001b[0;34m]\u001b[0m\u001b[0;34m)\u001b[0m\u001b[0;34m,\u001b[0m\u001b[0marray\u001b[0m\u001b[0;34m(\u001b[0m\u001b[0md2004\u001b[0m\u001b[0;34m[\u001b[0m\u001b[0;34m'Z'\u001b[0m\u001b[0;34m]\u001b[0m\u001b[0;34m)\u001b[0m\u001b[0;34m\u001b[0m\u001b[0;34m\u001b[0m\u001b[0m\n\u001b[1;32m      5\u001b[0m \u001b[0mT5\u001b[0m\u001b[0;34m,\u001b[0m\u001b[0mM5\u001b[0m\u001b[0;34m,\u001b[0m\u001b[0mD5\u001b[0m\u001b[0;34m,\u001b[0m\u001b[0mZ5\u001b[0m \u001b[0;34m=\u001b[0m\u001b[0marray\u001b[0m\u001b[0;34m(\u001b[0m\u001b[0md2005\u001b[0m\u001b[0;34m[\u001b[0m\u001b[0;34m'T'\u001b[0m\u001b[0;34m]\u001b[0m\u001b[0;34m)\u001b[0m\u001b[0;34m,\u001b[0m\u001b[0marray\u001b[0m\u001b[0;34m(\u001b[0m\u001b[0md2005\u001b[0m\u001b[0;34m[\u001b[0m\u001b[0;34m'M'\u001b[0m\u001b[0;34m]\u001b[0m\u001b[0;34m)\u001b[0m\u001b[0;34m,\u001b[0m\u001b[0marray\u001b[0m\u001b[0;34m(\u001b[0m\u001b[0md2005\u001b[0m\u001b[0;34m[\u001b[0m\u001b[0;34m'E'\u001b[0m\u001b[0;34m]\u001b[0m\u001b[0;34m)\u001b[0m\u001b[0;34m,\u001b[0m\u001b[0marray\u001b[0m\u001b[0;34m(\u001b[0m\u001b[0md2005\u001b[0m\u001b[0;34m[\u001b[0m\u001b[0;34m'Z'\u001b[0m\u001b[0;34m]\u001b[0m\u001b[0;34m)\u001b[0m\u001b[0;34m\u001b[0m\u001b[0;34m\u001b[0m\u001b[0m\n",
      "\u001b[0;32m/Library/Frameworks/Python.framework/Versions/3.7/lib/python3.7/site-packages/pandas/util/_decorators.py\u001b[0m in \u001b[0;36mwrapper\u001b[0;34m(*args, **kwargs)\u001b[0m\n\u001b[1;32m    206\u001b[0m                 \u001b[0;32melse\u001b[0m\u001b[0;34m:\u001b[0m\u001b[0;34m\u001b[0m\u001b[0;34m\u001b[0m\u001b[0m\n\u001b[1;32m    207\u001b[0m                     \u001b[0mkwargs\u001b[0m\u001b[0;34m[\u001b[0m\u001b[0mnew_arg_name\u001b[0m\u001b[0;34m]\u001b[0m \u001b[0;34m=\u001b[0m \u001b[0mnew_arg_value\u001b[0m\u001b[0;34m\u001b[0m\u001b[0;34m\u001b[0m\u001b[0m\n\u001b[0;32m--> 208\u001b[0;31m             \u001b[0;32mreturn\u001b[0m \u001b[0mfunc\u001b[0m\u001b[0;34m(\u001b[0m\u001b[0;34m*\u001b[0m\u001b[0margs\u001b[0m\u001b[0;34m,\u001b[0m \u001b[0;34m**\u001b[0m\u001b[0mkwargs\u001b[0m\u001b[0;34m)\u001b[0m\u001b[0;34m\u001b[0m\u001b[0;34m\u001b[0m\u001b[0m\n\u001b[0m\u001b[1;32m    209\u001b[0m \u001b[0;34m\u001b[0m\u001b[0m\n\u001b[1;32m    210\u001b[0m         \u001b[0;32mreturn\u001b[0m \u001b[0mwrapper\u001b[0m\u001b[0;34m\u001b[0m\u001b[0;34m\u001b[0m\u001b[0m\n",
      "\u001b[0;32m/Library/Frameworks/Python.framework/Versions/3.7/lib/python3.7/site-packages/pandas/io/excel/_base.py\u001b[0m in \u001b[0;36mread_excel\u001b[0;34m(io, sheet_name, header, names, index_col, usecols, squeeze, dtype, engine, converters, true_values, false_values, skiprows, nrows, na_values, keep_default_na, verbose, parse_dates, date_parser, thousands, comment, skip_footer, skipfooter, convert_float, mangle_dupe_cols, **kwds)\u001b[0m\n\u001b[1;32m    304\u001b[0m         \u001b[0;32mif\u001b[0m \u001b[0marg\u001b[0m \u001b[0;32min\u001b[0m \u001b[0mkwds\u001b[0m\u001b[0;34m:\u001b[0m\u001b[0;34m\u001b[0m\u001b[0;34m\u001b[0m\u001b[0m\n\u001b[1;32m    305\u001b[0m             raise TypeError(\n\u001b[0;32m--> 306\u001b[0;31m                 \u001b[0;34m\"read_excel() got an unexpected keyword argument \"\u001b[0m \u001b[0;34m\"`{}`\"\u001b[0m\u001b[0;34m.\u001b[0m\u001b[0mformat\u001b[0m\u001b[0;34m(\u001b[0m\u001b[0marg\u001b[0m\u001b[0;34m)\u001b[0m\u001b[0;34m\u001b[0m\u001b[0;34m\u001b[0m\u001b[0m\n\u001b[0m\u001b[1;32m    307\u001b[0m             )\n\u001b[1;32m    308\u001b[0m \u001b[0;34m\u001b[0m\u001b[0m\n",
      "\u001b[0;31mTypeError\u001b[0m: read_excel() got an unexpected keyword argument `sheetname`"
     ]
    }
   ],
   "source": [
    "# iimport data\n",
    "d2004 = read_excel(\"ke_2008_data.xlsx\", sheetname = \"t2004\")\n",
    "d2005 = read_excel(\"ke_2008_data.xlsx\", sheetname = \"t2005\")\n",
    "T4,M4,D4,Z4 =array(d2004['T']),array(d2004['M']),array(d2004['E']),array(d2004['Z'])\n",
    "T5,M5,D5,Z5 =array(d2005['T']),array(d2005['M']),array(d2005['E']),array(d2005['Z'])\n",
    "\n",
    "f1,ax1 = subplots(1,2,figsize=[9,5])\n",
    "f2,ax2 = subplots(2,2,figsize=[12,12])\n",
    "ax2 = ax2.flatten()"
   ]
  },
  {
   "cell_type": "code",
   "execution_count": 21,
   "metadata": {},
   "outputs": [],
   "source": [
    "# time array\n",
    "ndays,delt = 360*5,1.0/24.0\n",
    "times = linspace(0,ndays,ndays/delt)"
   ]
  },
  {
   "cell_type": "code",
   "execution_count": 22,
   "metadata": {},
   "outputs": [],
   "source": [
    "#params\n",
    "Sr = 1.1\n",
    "mumD = 2.0\n",
    "mumM = 0.8\n",
    "KsD = mumD/0.1\n",
    "KsM = mumM/0.1\n",
    "gmaxD = 5.0\n",
    "gmaxM = 5.0\n",
    "KgD = gmaxD/0.25\n",
    "KgM = gmaxM/0.25\n",
    "epsD = 0.25\n",
    "epsM = 0.25\n",
    "phiM = 8/1.0\n",
    "phiD = 8/1.0\n",
    "delD = 0.1\n",
    "delM = 0.1\n",
    "delV = 0.1\n",
    "delP = 0.1\n",
    "delZ = 0.1\n",
    "betaV = 0.01\n",
    "betaP = 0.01\n",
    "\n",
    "params = r_[[Sr,mumD,mumM,KsD,KsM,KgD,KgM,gmaxD,gmaxM,epsD,epsM,phiM,phiD,delD,delM,delV,delP,betaV,betaP]]\n",
    "\n",
    "inits = r_[[10.0,1e+0,1e+0,1e-1,1e-1,1e+0]]"
   ]
  },
  {
   "cell_type": "code",
   "execution_count": 23,
   "metadata": {},
   "outputs": [],
   "source": [
    "def bloom(u,t):\n",
    "    n,m = 1,2\n",
    "    N,D,M,V,P,Z = u[0],u[1],u[2],u[3],u[4],u[5]\n",
    "    sfac = sin((t-100)/180.0*3.142)*0.5+0.5\n",
    "    gamma = 1.0\n",
    "    dNdt = Sr - sfac*mumD*N/(KsD+N)*D  - sfac*mumM*N/(KsM+N)*M - 0.1*N\n",
    "    dDdt = sfac*mumD*N/(KsD+N)*D - phiD*D*V - (gmaxD*D**m/(KgD**m+D**m)*Z) - (delD*D)**n\n",
    "    dMdt = sfac*mumM*N/(KsM+N)*M - phiM*M*P*gamma - (gmaxM*M**m/(KgM**m+M**m)*Z) - (delM*M)**n\n",
    "    dVdt = betaV*phiD*D*V - (delV*V)**n\n",
    "    dPdt = betaP*phiM*M*P*gamma - (delP*P)**n\n",
    "    dZdt = epsD*(gmaxD*D**m/(KgD*m+D**m)*Z) + epsM*(gmaxM*M**m/(KgM**m+M**m)*Z) - (delZ*Z)**n\n",
    "    return concatenate([r_[[dNdt]],r_[[dDdt]],r_[[dMdt]],r_[[dVdt]],r_[[dPdt]],r_[[dZdt]]])"
   ]
  },
  {
   "cell_type": "code",
   "execution_count": 24,
   "metadata": {},
   "outputs": [],
   "source": [
    "def bloom_switch(u,t):\n",
    "    n,m = 1,2\n",
    "    N,D,M,V,P,Z = u[0],u[1],u[2],u[3],u[4],u[5]\n",
    "    sfac = sin((t-100)/180.0*3.142)*0.5+0.5\n",
    "    if ((mod(t,360)>140) and (mod(t,360)<240.0)):\n",
    "        gamma = 0.0\n",
    "    else:\n",
    "        gamma = 1.0\n",
    "    dNdt = Sr - sfac*mumD*N/(KsD+N)*D  - sfac*mumM*N/(KsM+N)*M - 0.1*N\n",
    "    dDdt = sfac*mumD*N/(KsD+N)*D - phiD*D*V - (gmaxD*D**m/(KgD**m+D**m)*Z) - (delD*D)**n\n",
    "    dMdt = sfac*mumM*N/(KsM+N)*M - phiM*M*P*gamma - (gmaxM*M**m/(KgM**m+M**m)*Z) - (delM*M)**n\n",
    "    dVdt = betaV*phiD*D*V - (delV*V)**n\n",
    "    dPdt = betaP*phiM*M*P*gamma - (delP*P)**n\n",
    "    dZdt = epsD*(gmaxD*D**m/(KgD*m+D**m)*Z) + epsM*(gmaxM*M**m/(KgM**m+M**m)*Z) - (delZ*Z)**n\n",
    "    return concatenate([r_[[dNdt]],r_[[dDdt]],r_[[dMdt]],r_[[dVdt]],r_[[dPdt]],r_[[dZdt]]])"
   ]
  },
  {
   "cell_type": "code",
   "execution_count": 25,
   "metadata": {},
   "outputs": [
    {
     "ename": "NameError",
     "evalue": "name 'ax2' is not defined",
     "output_type": "error",
     "traceback": [
      "\u001b[0;31m---------------------------------------------------------------------------\u001b[0m",
      "\u001b[0;31mNameError\u001b[0m                                 Traceback (most recent call last)",
      "\u001b[0;32m<ipython-input-25-94251d68a646>\u001b[0m in \u001b[0;36m<module>\u001b[0;34m\u001b[0m\n\u001b[1;32m      2\u001b[0m \u001b[0mcols\u001b[0m \u001b[0;34m=\u001b[0m \u001b[0;34m[\u001b[0m\u001b[0;34m'C0'\u001b[0m\u001b[0;34m,\u001b[0m\u001b[0;34m'C1'\u001b[0m\u001b[0;34m,\u001b[0m\u001b[0;34m'C2'\u001b[0m\u001b[0;34m,\u001b[0m\u001b[0;34m'C3'\u001b[0m\u001b[0;34m,\u001b[0m\u001b[0;34m'C4'\u001b[0m\u001b[0;34m,\u001b[0m\u001b[0;34m'C5'\u001b[0m\u001b[0;34m]\u001b[0m\u001b[0;34m\u001b[0m\u001b[0;34m\u001b[0m\u001b[0m\n\u001b[1;32m      3\u001b[0m \u001b[0;34m\u001b[0m\u001b[0m\n\u001b[0;32m----> 4\u001b[0;31m \u001b[0max2t1\u001b[0m \u001b[0;34m=\u001b[0m \u001b[0max2\u001b[0m\u001b[0;34m[\u001b[0m\u001b[0;36m0\u001b[0m\u001b[0;34m]\u001b[0m\u001b[0;34m.\u001b[0m\u001b[0mtwinx\u001b[0m\u001b[0;34m(\u001b[0m\u001b[0;34m)\u001b[0m\u001b[0;34m\u001b[0m\u001b[0;34m\u001b[0m\u001b[0m\n\u001b[0m\u001b[1;32m      5\u001b[0m \u001b[0max2t2\u001b[0m \u001b[0;34m=\u001b[0m \u001b[0max2\u001b[0m\u001b[0;34m[\u001b[0m\u001b[0;36m1\u001b[0m\u001b[0;34m]\u001b[0m\u001b[0;34m.\u001b[0m\u001b[0mtwinx\u001b[0m\u001b[0;34m(\u001b[0m\u001b[0;34m)\u001b[0m\u001b[0;34m\u001b[0m\u001b[0;34m\u001b[0m\u001b[0m\n\u001b[1;32m      6\u001b[0m \u001b[0;34m\u001b[0m\u001b[0m\n",
      "\u001b[0;31mNameError\u001b[0m: name 'ax2' is not defined"
     ]
    }
   ],
   "source": [
    "labs = ['Nutrient','Eukaryotic algae','Microcystis','Viruses of Eukaryotes','Cyanophage','Microzooplankton']\n",
    "cols = ['C0','C1','C2','C3','C4','C5']\n",
    "\n",
    "ax2t1 = ax2[0].twinx()\n",
    "ax2t2 = ax2[1].twinx()\n",
    "\n",
    "u = odeint(bloom,inits,times).T\n",
    "\n",
    "w = 360*4\n",
    "\n",
    "for (tseries,lab,c) in zip(u[0:],labs[0:],cols[0:]):\n",
    "    ax1[0].plot(times-w,tseries,lw=2.0,label=lab,c=c)\n",
    "\n",
    "for i in r_[[1,2,3,4,5]]:\n",
    "    if i in [1,2,5]:\n",
    "        ax2[0].plot(times-w,u[i],lw=2.0,label=labs[i],c=cols[i])\n",
    "    else:\n",
    "        ax2t1.plot(times-w,u[i],lw=2.0,label=labs[i],c=cols[i])\n",
    "\n",
    "u = odeint(bloom_switch,inits,times).T\n",
    "\n",
    "for (tseries,lab,c) in zip(u[0:],labs[0:],cols[0:]):\n",
    "    ax1[1].plot(times-w,tseries,lw=2.0,label=lab,c=c)\n",
    "\n",
    "for i in r_[[1,2,3,4,5]]:\n",
    "    if i in [1,2,5]:\n",
    "        ax2[1].plot(times-w,u[i],lw=2.0,label=labs[i],c=cols[i])\n",
    "    else:\n",
    "        ax2t2.plot(times-w,u[i],lw=2.0,label=labs[i],c=cols[i])\n",
    "\n",
    "la = ax1[0].legend()\n",
    "la.draw_frame(False)\n",
    "la = ax2t2.legend()\n",
    "la.draw_frame(False)\n"
   ]
  },
  {
   "cell_type": "code",
   "execution_count": 26,
   "metadata": {},
   "outputs": [
    {
     "ename": "NameError",
     "evalue": "name 'ax2' is not defined",
     "output_type": "error",
     "traceback": [
      "\u001b[0;31m---------------------------------------------------------------------------\u001b[0m",
      "\u001b[0;31mNameError\u001b[0m                                 Traceback (most recent call last)",
      "\u001b[0;32m<ipython-input-26-f23766b9a583>\u001b[0m in \u001b[0;36m<module>\u001b[0;34m\u001b[0m\n\u001b[0;32m----> 1\u001b[0;31m \u001b[0max2\u001b[0m\u001b[0;34m[\u001b[0m\u001b[0;36m2\u001b[0m\u001b[0;34m]\u001b[0m\u001b[0;34m.\u001b[0m\u001b[0mplot\u001b[0m\u001b[0;34m(\u001b[0m\u001b[0mT4\u001b[0m\u001b[0;34m,\u001b[0m\u001b[0mD4\u001b[0m\u001b[0;34m,\u001b[0m\u001b[0;34m'-o'\u001b[0m\u001b[0;34m,\u001b[0m\u001b[0mlabel\u001b[0m\u001b[0;34m=\u001b[0m\u001b[0mlabs\u001b[0m\u001b[0;34m[\u001b[0m\u001b[0;36m1\u001b[0m\u001b[0;34m]\u001b[0m\u001b[0;34m,\u001b[0m\u001b[0mc\u001b[0m\u001b[0;34m=\u001b[0m\u001b[0mcols\u001b[0m\u001b[0;34m[\u001b[0m\u001b[0;36m1\u001b[0m\u001b[0;34m]\u001b[0m\u001b[0;34m)\u001b[0m\u001b[0;34m\u001b[0m\u001b[0;34m\u001b[0m\u001b[0m\n\u001b[0m\u001b[1;32m      2\u001b[0m \u001b[0max2\u001b[0m\u001b[0;34m[\u001b[0m\u001b[0;36m2\u001b[0m\u001b[0;34m]\u001b[0m\u001b[0;34m.\u001b[0m\u001b[0mplot\u001b[0m\u001b[0;34m(\u001b[0m\u001b[0mT4\u001b[0m\u001b[0;34m,\u001b[0m\u001b[0mM4\u001b[0m\u001b[0;34m,\u001b[0m\u001b[0;34m'-o'\u001b[0m\u001b[0;34m,\u001b[0m\u001b[0mlabel\u001b[0m\u001b[0;34m=\u001b[0m\u001b[0mlabs\u001b[0m\u001b[0;34m[\u001b[0m\u001b[0;36m2\u001b[0m\u001b[0;34m]\u001b[0m\u001b[0;34m,\u001b[0m\u001b[0mc\u001b[0m\u001b[0;34m=\u001b[0m\u001b[0mcols\u001b[0m\u001b[0;34m[\u001b[0m\u001b[0;36m2\u001b[0m\u001b[0;34m]\u001b[0m\u001b[0;34m)\u001b[0m\u001b[0;34m\u001b[0m\u001b[0;34m\u001b[0m\u001b[0m\n\u001b[1;32m      3\u001b[0m \u001b[0max2\u001b[0m\u001b[0;34m[\u001b[0m\u001b[0;36m2\u001b[0m\u001b[0;34m]\u001b[0m\u001b[0;34m.\u001b[0m\u001b[0mplot\u001b[0m\u001b[0;34m(\u001b[0m\u001b[0mT4\u001b[0m\u001b[0;34m,\u001b[0m\u001b[0mZ4\u001b[0m\u001b[0;34m,\u001b[0m\u001b[0;34m'-o'\u001b[0m\u001b[0;34m,\u001b[0m\u001b[0mlabel\u001b[0m\u001b[0;34m=\u001b[0m\u001b[0mlabs\u001b[0m\u001b[0;34m[\u001b[0m\u001b[0;36m5\u001b[0m\u001b[0;34m]\u001b[0m\u001b[0;34m,\u001b[0m\u001b[0mc\u001b[0m\u001b[0;34m=\u001b[0m\u001b[0mcols\u001b[0m\u001b[0;34m[\u001b[0m\u001b[0;36m5\u001b[0m\u001b[0;34m]\u001b[0m\u001b[0;34m)\u001b[0m\u001b[0;34m\u001b[0m\u001b[0;34m\u001b[0m\u001b[0m\n\u001b[1;32m      4\u001b[0m \u001b[0max2\u001b[0m\u001b[0;34m[\u001b[0m\u001b[0;36m3\u001b[0m\u001b[0;34m]\u001b[0m\u001b[0;34m.\u001b[0m\u001b[0mplot\u001b[0m\u001b[0;34m(\u001b[0m\u001b[0mT5\u001b[0m\u001b[0;34m,\u001b[0m\u001b[0mD5\u001b[0m\u001b[0;34m,\u001b[0m\u001b[0;34m'-o'\u001b[0m\u001b[0;34m,\u001b[0m\u001b[0mlabel\u001b[0m\u001b[0;34m=\u001b[0m\u001b[0mlabs\u001b[0m\u001b[0;34m[\u001b[0m\u001b[0;36m1\u001b[0m\u001b[0;34m]\u001b[0m\u001b[0;34m,\u001b[0m\u001b[0mc\u001b[0m\u001b[0;34m=\u001b[0m\u001b[0mcols\u001b[0m\u001b[0;34m[\u001b[0m\u001b[0;36m1\u001b[0m\u001b[0;34m]\u001b[0m\u001b[0;34m)\u001b[0m\u001b[0;34m\u001b[0m\u001b[0;34m\u001b[0m\u001b[0m\n\u001b[1;32m      5\u001b[0m \u001b[0max2\u001b[0m\u001b[0;34m[\u001b[0m\u001b[0;36m3\u001b[0m\u001b[0;34m]\u001b[0m\u001b[0;34m.\u001b[0m\u001b[0mplot\u001b[0m\u001b[0;34m(\u001b[0m\u001b[0mT5\u001b[0m\u001b[0;34m,\u001b[0m\u001b[0mM5\u001b[0m\u001b[0;34m,\u001b[0m\u001b[0;34m'-o'\u001b[0m\u001b[0;34m,\u001b[0m\u001b[0mlabel\u001b[0m\u001b[0;34m=\u001b[0m\u001b[0mlabs\u001b[0m\u001b[0;34m[\u001b[0m\u001b[0;36m2\u001b[0m\u001b[0;34m]\u001b[0m\u001b[0;34m,\u001b[0m\u001b[0mc\u001b[0m\u001b[0;34m=\u001b[0m\u001b[0mcols\u001b[0m\u001b[0;34m[\u001b[0m\u001b[0;36m2\u001b[0m\u001b[0;34m]\u001b[0m\u001b[0;34m)\u001b[0m\u001b[0;34m\u001b[0m\u001b[0;34m\u001b[0m\u001b[0m\n",
      "\u001b[0;31mNameError\u001b[0m: name 'ax2' is not defined"
     ]
    }
   ],
   "source": [
    "ax2[2].plot(T4,D4,'-o',label=labs[1],c=cols[1])\n",
    "ax2[2].plot(T4,M4,'-o',label=labs[2],c=cols[2])\n",
    "ax2[2].plot(T4,Z4,'-o',label=labs[5],c=cols[5])\n",
    "ax2[3].plot(T5,D5,'-o',label=labs[1],c=cols[1])\n",
    "ax2[3].plot(T5,M5,'-o',label=labs[2],c=cols[2])\n",
    "ax2[3].plot(T5,Z5,'-o',label=labs[5],c=cols[5])\n",
    "\n",
    "ax2[0].set_xlim([amin(T4),amax(T4)+100])\n",
    "ax2[1].set_xlim([amin(T5),amax(T5)+100])\n",
    "#ax1.set_xlim([0,360])\n",
    "\n",
    "l1 = ax2[0].legend()\n",
    "l2 = ax2[3].legend()\n",
    "l1.draw_frame(False)\n",
    "l2.draw_frame(False)\n",
    "\n",
    "ax1[0].set_xlabel('Time (julian day)')\n",
    "ax1[0].set_ylabel(r'Biomass (mg L$^{-1}$)')\n",
    "ax1[1].set_xlabel('Time (julian day)')\n",
    "\n",
    "ax2[2].set_xlabel('Time (julian day)')\n",
    "ax2[0].set_ylabel(r'Biomass (mg L$^{-1}$)')\n",
    "ax2[3].set_xlabel('Time (julian day)')\n",
    "ax2[2].set_ylabel(r'Biomass (mg L$^{-1}$)')\n",
    "ax2t1.set_ylabel(r'Biomass (mg L$^{-1}$)')\n",
    "ax2t2.set_ylabel(r'Biomass (mg L$^{-1}$)')\n",
    "\n",
    "ax2[0].set_title(r'$Without$ seasonal switching')\n",
    "ax2[1].set_title(r'$With$ seasonal switching')\n",
    "ax2[2].set_title('Lake Taihu 2004')\n",
    "ax2[3].set_title('Lake Taihu 2005')\n",
    "\n",
    "ax1[0].semilogy()\n",
    "ax1[1].semilogy()\n",
    "\n",
    "ax2[0].text(0.07,0.9,'a',ha='center',va='center',color='k',transform=ax2[0].transAxes)\n",
    "ax2[1].text(0.07,0.9,'b',ha='center',va='center',color='k',transform=ax2[1].transAxes)\n",
    "ax2[2].text(0.07,0.9,'c',ha='center',va='center',color='k',transform=ax2[2].transAxes)\n",
    "ax2[3].text(0.07,0.9,'d',ha='center',va='center',color='k',transform=ax2[3].transAxes)\n",
    "\n",
    "f2.savefig('bloom_succession_virus_grazer')\n",
    "\n",
    "show()"
   ]
  },
  {
   "cell_type": "code",
   "execution_count": null,
   "metadata": {},
   "outputs": [],
   "source": []
  },
  {
   "cell_type": "code",
   "execution_count": null,
   "metadata": {},
   "outputs": [],
   "source": []
  },
  {
   "cell_type": "code",
   "execution_count": null,
   "metadata": {},
   "outputs": [],
   "source": []
  }
 ],
 "metadata": {
  "kernelspec": {
   "display_name": "Python 3",
   "language": "python",
   "name": "python3"
  },
  "language_info": {
   "codemirror_mode": {
    "name": "ipython",
    "version": 3
   },
   "file_extension": ".py",
   "mimetype": "text/x-python",
   "name": "python",
   "nbconvert_exporter": "python",
   "pygments_lexer": "ipython3",
   "version": "3.7.4"
  }
 },
 "nbformat": 4,
 "nbformat_minor": 2
}
