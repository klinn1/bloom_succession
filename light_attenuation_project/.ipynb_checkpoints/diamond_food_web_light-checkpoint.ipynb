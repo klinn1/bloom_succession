{
 "cells": [
  {
   "cell_type": "code",
   "execution_count": 1,
   "metadata": {},
   "outputs": [],
   "source": [
    "from scipy.integrate import *\n",
    "from pandas import *\n",
    "from numpy import *\n",
    "from pylab import *\n",
    "from scipy import *\n",
    "import math\n",
    "from scipy.interpolate import InterpolatedUnivariateSpline"
   ]
  },
  {
   "cell_type": "code",
   "execution_count": 2,
   "metadata": {},
   "outputs": [],
   "source": [
    "# parameters\n",
    "\n",
    "mu1 = 0.5 # growth rate for p1\n",
    "mu2 = 0.1 # growth rate for p2\n",
    "\n",
    "phi1 = 0.3 # interaction strength for p1\n",
    "phi2 = 0.001 # interaction strength for p2\n",
    "\n",
    "eps1 = 0.5 # transfer efficiency for p1 to grazer\n",
    "eps2 = 0.5 # transfer efficiency for p2 to grazer\n",
    "\n",
    "alpha_r = 0.0001 #slope growth-resource curve\n",
    "alpha_i = 0.0001 #slope growth-irradiance curve\n",
    "alpha_g = 0.0001 ##slope growth-grazer saturation curve\n",
    "\n",
    "delta_p1 = 0.1 # p1 mortality\n",
    "delta_p2 = 0.1 # p2 mortality\n",
    "delta_g = 0.1 # grazer mortality\n",
    "delta_c = 0.8 # DOC transfer dissolve rate\n",
    "\n",
    "S_R = 50"
   ]
  },
  {
   "cell_type": "code",
   "execution_count": 15,
   "metadata": {},
   "outputs": [
    {
     "name": "stdout",
     "output_type": "stream",
     "text": [
      "[500.  50.  50.  50.]\n",
      "50\n"
     ]
    }
   ],
   "source": [
    "# time change (discrete time)\n",
    "T = 360.0 \n",
    "t = np.linspace(0, T, 50) #time array\n",
    "\n",
    "# array  to store  the  solution\n",
    "R = np.zeros(len(t))\n",
    "P1 = np.zeros(len(t))\n",
    "P2 = np.zeros(len(t))\n",
    "G = np.zeros(len(t))\n",
    "\n",
    "\n",
    "# initial vales\n",
    "R[0] = 500\n",
    "P1[0] = 50\n",
    "P2[0] = 50\n",
    "G[0] = 50\n",
    "\n",
    "\n",
    "#create an array with your starting values for odeint\n",
    "y0 = np.array([R[0], P1[0], P2[0], G[0]])\n",
    "print(y0)\n",
    "\n",
    "print(len(t))"
   ]
  },
  {
   "cell_type": "code",
   "execution_count": 16,
   "metadata": {},
   "outputs": [
    {
     "name": "stdout",
     "output_type": "stream",
     "text": [
      "50\n"
     ]
    }
   ],
   "source": [
    "zetas = np.linspace(0,100,50)\n",
    "k_w = 0.01 # natural light attenuation\n",
    "k_p = 0.01 # light attenuation due to producers\n",
    "print(len(zetas))"
   ]
  },
  {
   "cell_type": "code",
   "execution_count": 17,
   "metadata": {},
   "outputs": [
    {
     "name": "stderr",
     "output_type": "stream",
     "text": [
      "<ipython-input-17-3bab746c159e>:1: DeprecationWarning: scipy.sin is deprecated and will be removed in SciPy 2.0.0, use numpy.sin instead\n",
      "  I_naughts = (sin(((t)/T*2*math.pi-math.pi/2))+1)/2\n"
     ]
    },
    {
     "data": {
      "text/plain": [
       "[<matplotlib.lines.Line2D at 0x12c04a3a0>]"
      ]
     },
     "execution_count": 17,
     "metadata": {},
     "output_type": "execute_result"
    },
    {
     "data": {
      "image/png": "[encoded data removed]",
      "text/plain": [
       "<Figure size 432x288 with 1 Axes>"
      ]
     },
     "metadata": {
      "needs_background": "light"
     },
     "output_type": "display_data"
    }
   ],
   "source": [
    "I_naughts = (sin(((t)/T*2*math.pi-math.pi/2))+1)/2\n",
    "#alpha_knots = ones(int(T/delt))\n",
    "plt.plot(t,I_naughts)"
   ]
  },
  {
   "cell_type": "code",
   "execution_count": 18,
   "metadata": {},
   "outputs": [
    {
     "name": "stdout",
     "output_type": "stream",
     "text": [
      "(50,)\n",
      "(50,)\n",
      "(50, 50)\n",
      "[  0.           2.04081633   4.08163265   6.12244898   8.16326531\n",
      "  10.20408163  12.24489796  14.28571429  16.32653061  18.36734694\n",
      "  20.40816327  22.44897959  24.48979592  26.53061224  28.57142857\n",
      "  30.6122449   32.65306122  34.69387755  36.73469388  38.7755102\n",
      "  40.81632653  42.85714286  44.89795918  46.93877551  48.97959184\n",
      "  51.02040816  53.06122449  55.10204082  57.14285714  59.18367347\n",
      "  61.2244898   63.26530612  65.30612245  67.34693878  69.3877551\n",
      "  71.42857143  73.46938776  75.51020408  77.55102041  79.59183673\n",
      "  81.63265306  83.67346939  85.71428571  87.75510204  89.79591837\n",
      "  91.83673469  93.87755102  95.91836735  97.95918367 100.        ]\n"
     ]
    }
   ],
   "source": [
    "I = []\n",
    "for I_naught in I_naughts:\n",
    "    Is = I_naught * np.exp((-k_w*zetas)-k_p*(P1[0]+P2[0]))\n",
    "    I.append(Is)\n",
    "I = np.array(I)\n",
    "I = I.T\n",
    "\n",
    "print(zetas.shape)\n",
    "print(I_naughts.shape)\n",
    "print(I.shape)\n",
    "\n",
    "#print(I_naughts)\n",
    "print(zetas)"
   ]
  },
  {
   "cell_type": "code",
   "execution_count": 19,
   "metadata": {},
   "outputs": [],
   "source": [
    "I_naughts_interp = InterpolatedUnivariateSpline(t, I_naughts)"
   ]
  },
  {
   "cell_type": "code",
   "execution_count": 20,
   "metadata": {},
   "outputs": [
    {
     "data": {
      "text/plain": [
       "[<matplotlib.lines.Line2D at 0x12bfef3a0>]"
      ]
     },
     "execution_count": 20,
     "metadata": {},
     "output_type": "execute_result"
    },
    {
     "data": {
      "image/png": "[encoded data removed]",
      "text/plain": [
       "<Figure size 432x288 with 1 Axes>"
      ]
     },
     "metadata": {
      "needs_background": "light"
     },
     "output_type": "display_data"
    }
   ],
   "source": [
    "plt.plot(t, I_naughts)\n",
    "plt.plot(t, I_naughts_interp(t), 'r')"
   ]
  },
  {
   "cell_type": "code",
   "execution_count": 21,
   "metadata": {},
   "outputs": [
    {
     "name": "stdout",
     "output_type": "stream",
     "text": [
      "(50,)\n",
      "(50, 50)\n",
      "(50,)\n"
     ]
    }
   ],
   "source": [
    "print(R.shape)\n",
    "print(I.shape)\n",
    "print(I_naughts.shape)"
   ]
  },
  {
   "cell_type": "code",
   "execution_count": 22,
   "metadata": {},
   "outputs": [
    {
     "data": {
      "text/plain": [
       "<matplotlib.colorbar.Colorbar at 0x12c11e7c0>"
      ]
     },
     "execution_count": 22,
     "metadata": {},
     "output_type": "execute_result"
    },
    {
     "data": {
      "image/png": "[encoded data removed]",
      "text/plain": [
       "<Figure size 432x288 with 2 Axes>"
      ]
     },
     "metadata": {
      "needs_background": "light"
     },
     "output_type": "display_data"
    }
   ],
   "source": [
    "plt.contourf(t,zetas,I,cmap = 'plasma')\n",
    "plt.gca().invert_yaxis()\n",
    "plt.xlabel('Time (Days)', color = 'k')\n",
    "plt.ylabel('Depth (Meters)', color = 'k')\n",
    "plt.title('Light Intensity')\n",
    "plt.colorbar()"
   ]
  },
  {
   "cell_type": "code",
   "execution_count": 28,
   "metadata": {},
   "outputs": [],
   "source": [
    "def nbl_model(y, t, zeta, S_R, mu1, mu2, phi1, phi2, eps1, eps2, alpha_r, alpha_i, alpha_g, delta_p1, delta_p2, delta_g, delta_c):\n",
    "    R, P1, P2, G = y[0], y[1], y[2], y[3]\n",
    "    I_naught = I_naughts_interp(t)\n",
    "    if I_naught < 0:\n",
    "        I_naught = 0.\n",
    "    I = I_naughts * np.exp((-k_w*zeta))\n",
    "    dRdt = S_R - mu1*P1*np.minimum((R/(R+(mu1/alpha_r))),(I/(I+(mu1/alpha_i)))) - mu2*P2*np.minimum((R/(R+(mu2/alpha_r))),(I/(I+(mu2/alpha_i)))) \n",
    "    dP1dt = mu1*P1*np.minimum((R/(R+(mu1/alpha_r))),(I/(I+(mu1/alpha_i)))) - ((phi1*P1*G)/(G+alpha_g)) - delta_p1*P1\n",
    "    dP2dt = mu2*P2*np.minimum((R/(R+(mu2/alpha_r))),(I/(I+(mu2/alpha_i)))) - ((phi2*P2*G)/(G+alpha_g)) - delta_p2*P2\n",
    "    dGdt = ((eps1*phi1*P1*G)/(G+alpha_g)) + ((eps2*phi2*P2*G)/(G+alpha_g)) - delta_g*G\n",
    "    print(dRdt.shape, dP1dt.shape, dP2dt.shape)\n",
    "    return np.array([dRdt, dP1dt, dP2dt, dGdt])\n"
   ]
  },
  {
   "cell_type": "code",
   "execution_count": 29,
   "metadata": {},
   "outputs": [
    {
     "data": {
      "text/plain": [
       "array([2, 5, 1])"
      ]
     },
     "execution_count": 29,
     "metadata": {},
     "output_type": "execute_result"
    }
   ],
   "source": [
    "a = 5\n",
    "b = [2, 8, 1]\n",
    "np.minimum(a, b)\n",
    "\n",
    "#np.minimum((R/(R+(mu1/alpha_r))),(I/(I+(mu1/alpha_i))))"
   ]
  },
  {
   "cell_type": "code",
   "execution_count": 30,
   "metadata": {},
   "outputs": [
    {
     "name": "stdout",
     "output_type": "stream",
     "text": [
      "(50,)\n",
      "(50, 50)\n",
      "(50,)\n"
     ]
    }
   ],
   "source": [
    "print(R.shape)\n",
    "print(I.shape)\n",
    "print(I_naughts.shape)\n",
    "# print(mu1)\n",
    "# print(alpha_r)\n",
    "# print(alpha_i)\n"
   ]
  },
  {
   "cell_type": "code",
   "execution_count": 31,
   "metadata": {},
   "outputs": [
    {
     "name": "stdout",
     "output_type": "stream",
     "text": [
      "(50,) (50,) (50,)\n"
     ]
    },
    {
     "ename": "TypeError",
     "evalue": "Cannot cast array data from dtype('O') to dtype('float64') according to the rule 'safe'",
     "output_type": "error",
     "traceback": [
      "\u001b[0;31m---------------------------------------------------------------------------\u001b[0m",
      "\u001b[0;31mTypeError\u001b[0m                                 Traceback (most recent call last)",
      "\u001b[0;32m<ipython-input-31-69bbbaa1f44c>\u001b[0m in \u001b[0;36m<module>\u001b[0;34m\u001b[0m\n\u001b[1;32m      2\u001b[0m \u001b[0mtim\u001b[0m \u001b[0;34m=\u001b[0m \u001b[0;34m[\u001b[0m\u001b[0;34m]\u001b[0m\u001b[0;34m\u001b[0m\u001b[0;34m\u001b[0m\u001b[0m\n\u001b[1;32m      3\u001b[0m \u001b[0;32mfor\u001b[0m \u001b[0mzeta\u001b[0m \u001b[0;32min\u001b[0m \u001b[0mzetas\u001b[0m\u001b[0;34m:\u001b[0m\u001b[0;34m\u001b[0m\u001b[0;34m\u001b[0m\u001b[0m\n\u001b[0;32m----> 4\u001b[0;31m     \u001b[0minteg_sivz\u001b[0m \u001b[0;34m=\u001b[0m \u001b[0modeint\u001b[0m\u001b[0;34m(\u001b[0m\u001b[0mnbl_model\u001b[0m\u001b[0;34m,\u001b[0m \u001b[0my0\u001b[0m\u001b[0;34m,\u001b[0m \u001b[0mt\u001b[0m\u001b[0;34m,\u001b[0m \u001b[0margs\u001b[0m\u001b[0;34m=\u001b[0m\u001b[0;34m(\u001b[0m\u001b[0mzeta\u001b[0m\u001b[0;34m,\u001b[0m \u001b[0mS_R\u001b[0m\u001b[0;34m,\u001b[0m \u001b[0mmu1\u001b[0m\u001b[0;34m,\u001b[0m \u001b[0mmu2\u001b[0m\u001b[0;34m,\u001b[0m \u001b[0mphi1\u001b[0m\u001b[0;34m,\u001b[0m \u001b[0mphi2\u001b[0m\u001b[0;34m,\u001b[0m \u001b[0meps1\u001b[0m\u001b[0;34m,\u001b[0m \u001b[0meps2\u001b[0m\u001b[0;34m,\u001b[0m \u001b[0malpha_r\u001b[0m\u001b[0;34m,\u001b[0m \u001b[0malpha_i\u001b[0m\u001b[0;34m,\u001b[0m \u001b[0malpha_g\u001b[0m\u001b[0;34m,\u001b[0m \u001b[0mdelta_p1\u001b[0m\u001b[0;34m,\u001b[0m \u001b[0mdelta_p2\u001b[0m\u001b[0;34m,\u001b[0m \u001b[0mdelta_g\u001b[0m\u001b[0;34m,\u001b[0m \u001b[0mdelta_c\u001b[0m\u001b[0;34m)\u001b[0m\u001b[0;34m)\u001b[0m\u001b[0;34m\u001b[0m\u001b[0;34m\u001b[0m\u001b[0m\n\u001b[0m\u001b[1;32m      5\u001b[0m     \u001b[0mtim\u001b[0m\u001b[0;34m.\u001b[0m\u001b[0mappend\u001b[0m\u001b[0;34m(\u001b[0m\u001b[0minteg_sivz\u001b[0m\u001b[0;34m)\u001b[0m\u001b[0;34m\u001b[0m\u001b[0;34m\u001b[0m\u001b[0m\n\u001b[1;32m      6\u001b[0m \u001b[0mprint\u001b[0m\u001b[0;34m(\u001b[0m\u001b[0mtim\u001b[0m\u001b[0;34m)\u001b[0m\u001b[0;34m\u001b[0m\u001b[0;34m\u001b[0m\u001b[0m\n",
      "\u001b[0;32m/usr/local/lib/python3.8/site-packages/scipy/integrate/odepack.py\u001b[0m in \u001b[0;36modeint\u001b[0;34m(func, y0, t, args, Dfun, col_deriv, full_output, ml, mu, rtol, atol, tcrit, h0, hmax, hmin, ixpr, mxstep, mxhnil, mxordn, mxords, printmessg, tfirst)\u001b[0m\n\u001b[1;32m    240\u001b[0m     \u001b[0mt\u001b[0m \u001b[0;34m=\u001b[0m \u001b[0mcopy\u001b[0m\u001b[0;34m(\u001b[0m\u001b[0mt\u001b[0m\u001b[0;34m)\u001b[0m\u001b[0;34m\u001b[0m\u001b[0;34m\u001b[0m\u001b[0m\n\u001b[1;32m    241\u001b[0m     \u001b[0my0\u001b[0m \u001b[0;34m=\u001b[0m \u001b[0mcopy\u001b[0m\u001b[0;34m(\u001b[0m\u001b[0my0\u001b[0m\u001b[0;34m)\u001b[0m\u001b[0;34m\u001b[0m\u001b[0;34m\u001b[0m\u001b[0m\n\u001b[0;32m--> 242\u001b[0;31m     output = _odepack.odeint(func, y0, t, args, Dfun, col_deriv, ml, mu,\n\u001b[0m\u001b[1;32m    243\u001b[0m                              \u001b[0mfull_output\u001b[0m\u001b[0;34m,\u001b[0m \u001b[0mrtol\u001b[0m\u001b[0;34m,\u001b[0m \u001b[0matol\u001b[0m\u001b[0;34m,\u001b[0m \u001b[0mtcrit\u001b[0m\u001b[0;34m,\u001b[0m \u001b[0mh0\u001b[0m\u001b[0;34m,\u001b[0m \u001b[0mhmax\u001b[0m\u001b[0;34m,\u001b[0m \u001b[0mhmin\u001b[0m\u001b[0;34m,\u001b[0m\u001b[0;34m\u001b[0m\u001b[0;34m\u001b[0m\u001b[0m\n\u001b[1;32m    244\u001b[0m                              \u001b[0mixpr\u001b[0m\u001b[0;34m,\u001b[0m \u001b[0mmxstep\u001b[0m\u001b[0;34m,\u001b[0m \u001b[0mmxhnil\u001b[0m\u001b[0;34m,\u001b[0m \u001b[0mmxordn\u001b[0m\u001b[0;34m,\u001b[0m \u001b[0mmxords\u001b[0m\u001b[0;34m,\u001b[0m\u001b[0;34m\u001b[0m\u001b[0;34m\u001b[0m\u001b[0m\n",
      "\u001b[0;31mTypeError\u001b[0m: Cannot cast array data from dtype('O') to dtype('float64') according to the rule 'safe'"
     ]
    }
   ],
   "source": [
    "delta = 0.12\n",
    "tim = []\n",
    "for zeta in zetas:\n",
    "    integ_sivz = odeint(nbl_model, y0, t, args=(zeta, S_R, mu1, mu2, phi1, phi2, eps1, eps2, alpha_r, alpha_i, alpha_g, delta_p1, delta_p2, delta_g, delta_c))\n",
    "    tim.append(integ_sivz)\n",
    "print(tim)"
   ]
  },
  {
   "cell_type": "code",
   "execution_count": 27,
   "metadata": {},
   "outputs": [
    {
     "ename": "NameError",
     "evalue": "name 'sols' is not defined",
     "output_type": "error",
     "traceback": [
      "\u001b[0;31m---------------------------------------------------------------------------\u001b[0m",
      "\u001b[0;31mNameError\u001b[0m                                 Traceback (most recent call last)",
      "\u001b[0;32m<ipython-input-27-a8b62042e496>\u001b[0m in \u001b[0;36m<module>\u001b[0;34m\u001b[0m\n\u001b[0;32m----> 1\u001b[0;31m \u001b[0mplt\u001b[0m\u001b[0;34m.\u001b[0m\u001b[0mcontourf\u001b[0m\u001b[0;34m(\u001b[0m\u001b[0mt\u001b[0m\u001b[0;34m,\u001b[0m\u001b[0mzetas\u001b[0m\u001b[0;34m,\u001b[0m\u001b[0msols\u001b[0m\u001b[0;34m[\u001b[0m\u001b[0;34m:\u001b[0m\u001b[0;34m,\u001b[0m\u001b[0;34m:\u001b[0m\u001b[0;34m,\u001b[0m\u001b[0;36m0\u001b[0m\u001b[0;34m]\u001b[0m\u001b[0;34m,\u001b[0m\u001b[0mcmap\u001b[0m \u001b[0;34m=\u001b[0m \u001b[0;34m'plasma'\u001b[0m\u001b[0;34m)\u001b[0m\u001b[0;34m\u001b[0m\u001b[0;34m\u001b[0m\u001b[0m\n\u001b[0m\u001b[1;32m      2\u001b[0m \u001b[0mplt\u001b[0m\u001b[0;34m.\u001b[0m\u001b[0mgca\u001b[0m\u001b[0;34m(\u001b[0m\u001b[0;34m)\u001b[0m\u001b[0;34m.\u001b[0m\u001b[0minvert_yaxis\u001b[0m\u001b[0;34m(\u001b[0m\u001b[0;34m)\u001b[0m\u001b[0;34m\u001b[0m\u001b[0;34m\u001b[0m\u001b[0m\n\u001b[1;32m      3\u001b[0m \u001b[0mplt\u001b[0m\u001b[0;34m.\u001b[0m\u001b[0mxlabel\u001b[0m\u001b[0;34m(\u001b[0m\u001b[0;34m'Time (Days)'\u001b[0m\u001b[0;34m,\u001b[0m \u001b[0mcolor\u001b[0m \u001b[0;34m=\u001b[0m \u001b[0;34m'k'\u001b[0m\u001b[0;34m)\u001b[0m\u001b[0;34m\u001b[0m\u001b[0;34m\u001b[0m\u001b[0m\n\u001b[1;32m      4\u001b[0m \u001b[0mplt\u001b[0m\u001b[0;34m.\u001b[0m\u001b[0mylabel\u001b[0m\u001b[0;34m(\u001b[0m\u001b[0;34m'Depth (Meters)'\u001b[0m\u001b[0;34m,\u001b[0m \u001b[0mcolor\u001b[0m \u001b[0;34m=\u001b[0m \u001b[0;34m'k'\u001b[0m\u001b[0;34m)\u001b[0m\u001b[0;34m\u001b[0m\u001b[0;34m\u001b[0m\u001b[0m\n\u001b[1;32m      5\u001b[0m \u001b[0mplt\u001b[0m\u001b[0;34m.\u001b[0m\u001b[0mtitle\u001b[0m\u001b[0;34m(\u001b[0m\u001b[0;34m'Nutrients'\u001b[0m\u001b[0;34m)\u001b[0m\u001b[0;34m\u001b[0m\u001b[0;34m\u001b[0m\u001b[0m\n",
      "\u001b[0;31mNameError\u001b[0m: name 'sols' is not defined"
     ]
    }
   ],
   "source": [
    "plt.contourf(t,zetas,sols[:,:,0],cmap = 'plasma')\n",
    "plt.gca().invert_yaxis()\n",
    "plt.xlabel('Time (Days)', color = 'k')\n",
    "plt.ylabel('Depth (Meters)', color = 'k')\n",
    "plt.title('Nutrients')\n",
    "plt.colorbar()"
   ]
  },
  {
   "cell_type": "code",
   "execution_count": 838,
   "metadata": {},
   "outputs": [
    {
     "data": {
      "text/plain": [
       "<matplotlib.colorbar.Colorbar at 0xc1dbd1810>"
      ]
     },
     "execution_count": 838,
     "metadata": {},
     "output_type": "execute_result"
    },
    {
     "data": {
      "image/png": "[encoded data removed]",
      "text/plain": [
       "<Figure size 432x288 with 2 Axes>"
      ]
     },
     "metadata": {
      "needs_background": "light"
     },
     "output_type": "display_data"
    }
   ],
   "source": [
    "plt.contourf(t,zetas,sols[:,:,1],cmap = 'plasma')\n",
    "plt.gca().invert_yaxis()\n",
    "plt.xlabel('Time (Days)', color = 'k')\n",
    "plt.ylabel('Depth (Meters)', color = 'k')\n",
    "plt.title('Biomass of Producer 1')\n",
    "plt.colorbar()"
   ]
  },
  {
   "cell_type": "code",
   "execution_count": 839,
   "metadata": {},
   "outputs": [
    {
     "data": {
      "text/plain": [
       "<matplotlib.colorbar.Colorbar at 0xc67406ed0>"
      ]
     },
     "execution_count": 839,
     "metadata": {},
     "output_type": "execute_result"
    },
    {
     "data": {
      "image/png": "[encoded data removed]",
      "text/plain": [
       "<Figure size 432x288 with 2 Axes>"
      ]
     },
     "metadata": {
      "needs_background": "light"
     },
     "output_type": "display_data"
    }
   ],
   "source": [
    "plt.contourf(t,zetas,sols[:,:,2],cmap = 'plasma')\n",
    "plt.gca().invert_yaxis()\n",
    "plt.xlabel('Time (Days)', color = 'k')\n",
    "plt.ylabel('Depth (Meters)', color = 'k')\n",
    "plt.title('Biomass of Producer 2')\n",
    "plt.colorbar()"
   ]
  },
  {
   "cell_type": "code",
   "execution_count": 840,
   "metadata": {},
   "outputs": [
    {
     "data": {
      "text/plain": [
       "<matplotlib.colorbar.Colorbar at 0xc7b378510>"
      ]
     },
     "execution_count": 840,
     "metadata": {},
     "output_type": "execute_result"
    },
    {
     "data": {
      "image/png": "[encoded data removed]",
      "text/plain": [
       "<Figure size 432x288 with 2 Axes>"
      ]
     },
     "metadata": {
      "needs_background": "light"
     },
     "output_type": "display_data"
    }
   ],
   "source": [
    "plt.contourf(t,zetas,sols[:,:,3],cmap = 'plasma')\n",
    "plt.gca().invert_yaxis()\n",
    "plt.xlabel('Time (Days)', color = 'k')\n",
    "plt.ylabel('Depth (Meters)', color = 'k')\n",
    "plt.title('Biomass of Grazer')\n",
    "plt.colorbar()"
   ]
  },
  {
   "cell_type": "code",
   "execution_count": null,
   "metadata": {},
   "outputs": [],
   "source": []
  },
  {
   "cell_type": "code",
   "execution_count": null,
   "metadata": {},
   "outputs": [],
   "source": []
  }
 ],
 "metadata": {
  "kernelspec": {
   "display_name": "Python 3",
   "language": "python",
   "name": "python3"
  },
  "language_info": {
   "codemirror_mode": {
    "name": "ipython",
    "version": 3
   },
   "file_extension": ".py",
   "mimetype": "text/x-python",
   "name": "python",
   "nbconvert_exporter": "python",
   "pygments_lexer": "ipython3",
   "version": "3.8.5"
  }
 },
 "nbformat": 4,
 "nbformat_minor": 4
}
