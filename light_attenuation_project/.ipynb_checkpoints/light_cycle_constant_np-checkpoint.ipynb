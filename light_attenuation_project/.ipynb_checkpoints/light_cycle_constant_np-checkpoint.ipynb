{
 "cells": [
  {
   "cell_type": "code",
   "execution_count": 1,
   "metadata": {},
   "outputs": [],
   "source": [
    "from scipy.integrate import *\n",
    "from pandas import *\n",
    "from numpy import *\n",
    "from pylab import *\n",
    "from scipy import *\n",
    "import math\n",
    "from scipy.interpolate import InterpolatedUnivariateSpline"
   ]
  },
  {
   "cell_type": "code",
   "execution_count": 2,
   "metadata": {},
   "outputs": [
    {
     "name": "stdout",
     "output_type": "stream",
     "text": [
      "(100.0, 1.0)\n"
     ]
    }
   ],
   "source": [
    "# time  step\n",
    "dt = 0.04\n",
    "\n",
    "# time change (discrete time)\n",
    "T = 360.0\n",
    "delt = 1.0/240.0\n",
    "t = np.linspace(0, T, int(T/delt)) #time array\n",
    "#t = np.linspace(0,T,int(T/dt))\n",
    "#print(t)\n",
    "\n",
    "# array  to store  the  solution\n",
    "N = np.zeros(len(t))\n",
    "P = np.zeros(len(t))\n",
    "N[0] = 100\n",
    "P[0] = 1\n",
    "y0 = N[0], P[0] #create an array with your starting values for odeint\n",
    "print(y0)"
   ]
  },
  {
   "cell_type": "code",
   "execution_count": 3,
   "metadata": {},
   "outputs": [],
   "source": [
    "zetas = np.linspace(0,50,10)\n",
    "k = 0.04\n",
    "#alpha_knot = 2\n",
    "alpha_naughts = np.empty(int(T/delt))\n",
    "alpha_naughts.fill(2)\n",
    "#print(zetas)"
   ]
  },
  {
   "cell_type": "code",
   "execution_count": 4,
   "metadata": {
    "scrolled": true
   },
   "outputs": [
    {
     "name": "stdout",
     "output_type": "stream",
     "text": [
      "(86400,)\n",
      "(10,)\n",
      "(10, 86400)\n"
     ]
    }
   ],
   "source": [
    "#alphas = alpha_knot * np.exp(-k*zetas)\n",
    "#alphas = array(alphas)\n",
    "#print(alphas)\n",
    "#print(zetas)\n",
    "\n",
    "\n",
    "alphas = []\n",
    "for alpha_naught in alpha_naughts:\n",
    "    alpha = alpha_naught * np.exp(-k*zetas)\n",
    "    alphas.append(alpha)\n",
    "alphas = array(alphas)\n",
    "alphas = alphas.T\n",
    "\n",
    "print(t.shape)\n",
    "print(zetas.shape)\n",
    "print(alphas.shape)"
   ]
  },
  {
   "cell_type": "code",
   "execution_count": 5,
   "metadata": {},
   "outputs": [
    {
     "data": {
      "image/png": "[encoded data removed]",
      "text/plain": [
       "<Figure size 432x288 with 2 Axes>"
      ]
     },
     "metadata": {
      "needs_background": "light"
     },
     "output_type": "display_data"
    }
   ],
   "source": [
    "plt.contourf(t,zetas,alphas,cmap = 'plasma')\n",
    "plt.gca().invert_yaxis()\n",
    "plt.xlabel('Time (Days)', color = 'k')\n",
    "plt.ylabel('Depth (Meters)', color = 'k')\n",
    "plt.title('Light Intensity')\n",
    "plt.colorbar()\n",
    "plt.savefig('constant_light_cycle')"
   ]
  },
  {
   "cell_type": "code",
   "execution_count": 6,
   "metadata": {},
   "outputs": [
    {
     "name": "stdout",
     "output_type": "stream",
     "text": [
      "(10, 86400)\n"
     ]
    }
   ],
   "source": [
    "type(alphas)\n",
    "print(alphas.shape)"
   ]
  },
  {
   "cell_type": "code",
   "execution_count": 7,
   "metadata": {},
   "outputs": [],
   "source": [
    "def np_model(y, t, alpha):\n",
    "    N,P = y[0],y[1] #puts N and P into an array\n",
    "    dNdt = -alpha*N/(N+1000)*P + 0.01*P #equation 1\n",
    "    dPdt = alpha *N/(N+1000)*P - 0.01*P #equation 2\n",
    "    func = dNdt, dPdt\n",
    "    # print(func)\n",
    "    return func\n",
    "    # return dNdt, dPdt \n",
    "    \n",
    "def nbl_model(y, t, zeta, delta):\n",
    "    N, P = y[0], y[1]\n",
    "    alpha_naught = alpha_naughts_interp(t)\n",
    "    if alpha_naught < 0:\n",
    "        alpha_naught = 0.\n",
    "    alpha = alpha_naught * np.exp(-k*zeta)\n",
    "    dNdt = -alpha*N/(N+1000)*P + delta*P\n",
    "    dPdt = alpha*N/(N+1000)*P - delta*P\n",
    "    return np.array([dNdt, dPdt])"
   ]
  },
  {
   "cell_type": "code",
   "execution_count": 8,
   "metadata": {},
   "outputs": [],
   "source": [
    "alpha_naughts_interp = InterpolatedUnivariateSpline(t, alpha_naughts)"
   ]
  },
  {
   "cell_type": "code",
   "execution_count": 9,
   "metadata": {},
   "outputs": [
    {
     "name": "stdout",
     "output_type": "stream",
     "text": [
      "[[[100.           1.        ]\n",
      "  [ 99.99928383   1.00071617]\n",
      "  [ 99.99856715   1.00143285]\n",
      "  ...\n",
      "  [  5.02512563  95.97487437]\n",
      "  [  5.02512563  95.97487437]\n",
      "  [  5.02512563  95.97487437]]\n",
      "\n",
      " [[100.           1.        ]\n",
      "  [ 99.99943488   1.00056512]\n",
      "  [ 99.99886945   1.00113055]\n",
      "  ...\n",
      "  [  6.28347994  94.71652006]\n",
      "  [  6.28347994  94.71652006]\n",
      "  [  6.28347994  94.71652006]]\n",
      "\n",
      " [[100.           1.        ]\n",
      "  [ 99.99955582   1.00044418]\n",
      "  [ 99.99911145   1.00088855]\n",
      "  ...\n",
      "  [  7.85940606  93.14059394]\n",
      "  [  7.85940606  93.14059394]\n",
      "  [  7.85940606  93.14059394]]\n",
      "\n",
      " ...\n",
      "\n",
      " [[100.           1.        ]\n",
      "  [ 99.99988176   1.00011824]\n",
      "  [ 99.9997635    1.0002365 ]\n",
      "  ...\n",
      "  [ 24.38285207  76.61714793]\n",
      "  [ 24.38283672  76.61716328]\n",
      "  [ 24.38282137  76.61717863]]\n",
      "\n",
      " [[100.           1.        ]\n",
      "  [ 99.99991362   1.00008638]\n",
      "  [ 99.99982724   1.00017276]\n",
      "  ...\n",
      "  [ 32.45485705  68.54514295]\n",
      "  [ 32.45467834  68.54532166]\n",
      "  [ 32.45449964  68.54550036]]\n",
      "\n",
      " [[100.           1.        ]\n",
      "  [ 99.99993914   1.00006086]\n",
      "  [ 99.99987827   1.00012173]\n",
      "  ...\n",
      "  [ 51.73183614  49.26816386]\n",
      "  [ 51.73115593  49.26884407]\n",
      "  [ 51.73047574  49.26952426]]]\n"
     ]
    }
   ],
   "source": [
    "#tim = []\n",
    "#for alpha in alphas:\n",
    "    #integ_sivz = odeint(nbl_model, y0, t, args=(alpha,)) #odeint(model I wrote, intial values \n",
    "        #array from above, time array from intial settings, args is arguments (can have >1))\n",
    "    #tim.append(integ_sivz) #appended odeint into a list\n",
    "#sols = array(tim) #changed list into an array\n",
    "#print(sols)\n",
    "\n",
    "\n",
    "delta = 0.01\n",
    "tim = []\n",
    "for zeta in zetas:\n",
    "    integ_sivz = odeint(nbl_model, y0, t, args=(zeta, delta))\n",
    "    tim.append(integ_sivz)\n",
    "sols = array(tim)\n",
    "print(sols)"
   ]
  },
  {
   "cell_type": "code",
   "execution_count": 11,
   "metadata": {},
   "outputs": [
    {
     "data": {
      "image/png": "[encoded data removed]",
      "text/plain": [
       "<Figure size 432x288 with 2 Axes>"
      ]
     },
     "metadata": {
      "needs_background": "light"
     },
     "output_type": "display_data"
    }
   ],
   "source": [
    "plt.contourf(t,zetas,sols[:,:,0],cmap = 'plasma')\n",
    "plt.gca().invert_yaxis()\n",
    "plt.xlabel('Time (Days)', color = 'k')\n",
    "plt.ylabel('Depth (Meters)', color = 'k')\n",
    "plt.title('Nutrients')\n",
    "plt.colorbar()\n",
    "plt.savefig('constant_light_cycle_nutrients')"
   ]
  },
  {
   "cell_type": "code",
   "execution_count": 12,
   "metadata": {},
   "outputs": [
    {
     "data": {
      "image/png": "[encoded data removed]",
      "text/plain": [
       "<Figure size 432x288 with 2 Axes>"
      ]
     },
     "metadata": {
      "needs_background": "light"
     },
     "output_type": "display_data"
    }
   ],
   "source": [
    "plt.contourf(t,zetas,sols[:,:,1],cmap = 'plasma')\n",
    "plt.gca().invert_yaxis()\n",
    "plt.xlabel('Time (Days)', color = 'k')\n",
    "plt.ylabel('Depth (Meters)', color = 'k')\n",
    "plt.title('Biomass')\n",
    "plt.colorbar()\n",
    "plt.savefig('constant_light_cycle_biomass')"
   ]
  },
  {
   "cell_type": "code",
   "execution_count": 59,
   "metadata": {},
   "outputs": [],
   "source": [
    "#pcolormesh\n",
    "#meshgrid"
   ]
  },
  {
   "cell_type": "code",
   "execution_count": 20,
   "metadata": {},
   "outputs": [],
   "source": [
    "#change surface irradiance so that during winter the biomass is fully restored to nutrients\n",
    "    #... 0.01 and make light at surface (alpha_knot)  time depdent.. via sinasoid\n",
    "#light intensity vs depth per time.\n",
    "#run ode int to choose appropriate cross section of light intensity\n",
    "#make 0.1 in equations into delta paramter"
   ]
  },
  {
   "cell_type": "code",
   "execution_count": null,
   "metadata": {},
   "outputs": [],
   "source": []
  }
 ],
 "metadata": {
  "kernelspec": {
   "display_name": "Python 3",
   "language": "python",
   "name": "python3"
  },
  "language_info": {
   "codemirror_mode": {
    "name": "ipython",
    "version": 3
   },
   "file_extension": ".py",
   "mimetype": "text/x-python",
   "name": "python",
   "nbconvert_exporter": "python",
   "pygments_lexer": "ipython3",
   "version": "3.7.4"
  }
 },
 "nbformat": 4,
 "nbformat_minor": 2
}
