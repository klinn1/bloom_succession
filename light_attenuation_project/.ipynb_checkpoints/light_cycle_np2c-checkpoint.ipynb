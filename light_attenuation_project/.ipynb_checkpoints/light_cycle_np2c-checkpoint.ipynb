{
 "cells": [
  {
   "cell_type": "code",
   "execution_count": 190,
   "metadata": {},
   "outputs": [],
   "source": [
    "from scipy.integrate import *\n",
    "from pandas import *\n",
    "from numpy import *\n",
    "from pylab import *\n",
    "from scipy import *\n",
    "import math\n",
    "from scipy.interpolate import InterpolatedUnivariateSpline"
   ]
  },
  {
   "cell_type": "code",
   "execution_count": 191,
   "metadata": {},
   "outputs": [],
   "source": [
    "# parameters\n",
    "\n",
    "mu1 = 1 # growth rate for p1\n",
    "mu2 = 1 # growth rate for p2\n",
    "\n",
    "phi1 = 0.01 # interaction strength for p1\n",
    "phi2 = 0.01 # interaction strength for p2\n",
    "\n",
    "eps1 = 0.5 # transfer efficiency for p1 to grazer\n",
    "eps2 = 0.5 # transfer efficiency for p2 to grazer\n",
    "\n",
    "alpha_n = 0.1 #slope growth-resource curve\n",
    "alpha_i = 0.1 #slope growth-irradiance curve\n",
    "alpha_g = 0.1 ##slope growth-grazer saturation curve\n",
    "\n",
    "delta_p1 = 0.12 # p1 mortality\n",
    "delta_p2 = 0.12 # p2 mortality\n",
    "delta_g = 0.1 # grazer mortality\n",
    "\n",
    "S_R = 500"
   ]
  },
  {
   "cell_type": "code",
   "execution_count": 202,
   "metadata": {},
   "outputs": [
    {
     "name": "stdout",
     "output_type": "stream",
     "text": [
      "[500. 100. 100.]\n"
     ]
    }
   ],
   "source": [
    "# time change (discrete time)\n",
    "T = 360.0 \n",
    "delt = 1.0/240.0\n",
    "t = np.linspace(0, T, int(T/delt)) #time array\n",
    "#t = np.linspace(0,T,int(T/dt))\n",
    "#print(t)\n",
    "\n",
    "# array  to store  the  solution\n",
    "N = np.zeros(len(t))\n",
    "P1 = np.zeros(len(t))\n",
    "P2 = np.zeros(len(t))\n",
    "C = np.zeros(len(t))\n",
    "\n",
    "N[0] = 500\n",
    "P1[0] = 100\n",
    "P2[0] = 100\n",
    "C[0] = 100\n",
    "\n",
    "y0 = np.array([N[0], P1[0],C[0]]) #create an array with your starting values for odeint\n",
    "print(y0)"
   ]
  },
  {
   "cell_type": "code",
   "execution_count": 203,
   "metadata": {},
   "outputs": [
    {
     "name": "stdout",
     "output_type": "stream",
     "text": [
      "50\n"
     ]
    }
   ],
   "source": [
    "zetas = np.linspace(0,100,50)\n",
    "k = 0.01\n",
    "print(len(zetas))"
   ]
  },
  {
   "cell_type": "code",
   "execution_count": 204,
   "metadata": {},
   "outputs": [
    {
     "name": "stderr",
     "output_type": "stream",
     "text": [
      "<ipython-input-204-3bab746c159e>:1: DeprecationWarning: scipy.sin is deprecated and will be removed in SciPy 2.0.0, use numpy.sin instead\n",
      "  I_naughts = (sin(((t)/T*2*math.pi-math.pi/2))+1)/2\n"
     ]
    },
    {
     "data": {
      "text/plain": [
       "[<matplotlib.lines.Line2D at 0x13c0bb040>]"
      ]
     },
     "execution_count": 204,
     "metadata": {},
     "output_type": "execute_result"
    },
    {
     "data": {
      "image/png": "[encoded data removed]",
      "text/plain": [
       "<Figure size 432x288 with 1 Axes>"
      ]
     },
     "metadata": {
      "needs_background": "light"
     },
     "output_type": "display_data"
    }
   ],
   "source": [
    "I_naughts = (sin(((t)/T*2*math.pi-math.pi/2))+1)/2\n",
    "#alpha_knots = ones(int(T/delt))\n",
    "plt.plot(t,I_naughts)"
   ]
  },
  {
   "cell_type": "code",
   "execution_count": 205,
   "metadata": {},
   "outputs": [
    {
     "name": "stdout",
     "output_type": "stream",
     "text": [
      "(50,)\n",
      "(86400,)\n",
      "(50, 86400)\n"
     ]
    },
    {
     "name": "stderr",
     "output_type": "stream",
     "text": [
      "<ipython-input-205-13790813245e>:5: DeprecationWarning: scipy.array is deprecated and will be removed in SciPy 2.0.0, use numpy.array instead\n",
      "  light_att = array(Is)\n"
     ]
    }
   ],
   "source": [
    "Is = []\n",
    "for I_naught in I_naughts:\n",
    "    I = I_naught * np.exp(-k*zetas)\n",
    "    Is.append(I)\n",
    "light_att = array(Is)\n",
    "lights = light_att.T\n",
    "\n",
    "print(zetas.shape)\n",
    "print(alpha_naughts.shape)\n",
    "print(lights.shape)"
   ]
  },
  {
   "cell_type": "code",
   "execution_count": 206,
   "metadata": {},
   "outputs": [
    {
     "name": "stdout",
     "output_type": "stream",
     "text": [
      "(50, 86400)\n"
     ]
    }
   ],
   "source": [
    "print(lights.shape)"
   ]
  },
  {
   "cell_type": "code",
   "execution_count": 207,
   "metadata": {},
   "outputs": [
    {
     "data": {
      "text/plain": [
       "<matplotlib.colorbar.Colorbar at 0x13c144d60>"
      ]
     },
     "execution_count": 207,
     "metadata": {},
     "output_type": "execute_result"
    },
    {
     "data": {
      "image/png": "[encoded data removed]",
      "text/plain": [
       "<Figure size 432x288 with 2 Axes>"
      ]
     },
     "metadata": {
      "needs_background": "light"
     },
     "output_type": "display_data"
    }
   ],
   "source": [
    "plt.contourf(t,zetas,lights,cmap = 'plasma')\n",
    "plt.gca().invert_yaxis()\n",
    "plt.xlabel('Time (Days)', color = 'k')\n",
    "plt.ylabel('Depth (Meters)', color = 'k')\n",
    "plt.title('Light Intensity')\n",
    "plt.colorbar()"
   ]
  },
  {
   "cell_type": "code",
   "execution_count": 208,
   "metadata": {},
   "outputs": [],
   "source": [
    "def nbl_model(y, t, zeta, delta_p1, delta_p2, delta_g, phi1, phi2, eps1, eps2, mu1, mu2, alpha_n, alpha_i,S_R):\n",
    "    N, P1, C = y[0], y[1], y[2]\n",
    "    I = I_naught * np.exp(-k*zeta)\n",
    "    dNdt = -mu1*I*N/(N+800)*P1 + delta_p1*P1 \n",
    "    dP1dt = mu1*I*N/(N+800)*P1 - delta_p1*P1 - phi1*P1*C\n",
    "    dCdt = eps1*phi1*P1*C  - delta_g*C\n",
    "    return np.array([dNdt, dP1dt, dCdt])\n",
    "\n",
    "#np.minimum((N/(N+(mu1/alpha_n))),(I/I+(mu2/alpha_i)))"
   ]
  },
  {
   "cell_type": "code",
   "execution_count": 209,
   "metadata": {},
   "outputs": [
    {
     "name": "stdout",
     "output_type": "stream",
     "text": [
      "[[[ 5.00000000e+02  1.00000000e+02  1.00000000e+02]\n",
      "  [ 5.00049884e+02  9.95340704e+01  1.00166321e+02]\n",
      "  [ 5.00099536e+02  9.90696264e+01  1.00331946e+02]\n",
      "  ...\n",
      "  [ 5.09591892e+02 -9.82808365e-20 -5.91829262e-11]\n",
      "  [ 5.09591892e+02 -9.82482930e-20 -5.91656211e-11]\n",
      "  [ 5.09591892e+02 -9.82157494e-20 -5.91483161e-11]]\n",
      "\n",
      " [[ 5.00000000e+02  1.00000000e+02  1.00000000e+02]\n",
      "  [ 5.00049884e+02  9.95340704e+01  1.00166321e+02]\n",
      "  [ 5.00099536e+02  9.90696264e+01  1.00331946e+02]\n",
      "  ...\n",
      "  [ 5.09591892e+02 -9.82808365e-20 -5.91829262e-11]\n",
      "  [ 5.09591892e+02 -9.82482930e-20 -5.91656211e-11]\n",
      "  [ 5.09591892e+02 -9.82157494e-20 -5.91483161e-11]]\n",
      "\n",
      " [[ 5.00000000e+02  1.00000000e+02  1.00000000e+02]\n",
      "  [ 5.00049884e+02  9.95340704e+01  1.00166321e+02]\n",
      "  [ 5.00099536e+02  9.90696264e+01  1.00331946e+02]\n",
      "  ...\n",
      "  [ 5.09591892e+02 -9.82808365e-20 -5.91829262e-11]\n",
      "  [ 5.09591892e+02 -9.82482930e-20 -5.91656211e-11]\n",
      "  [ 5.09591892e+02 -9.82157494e-20 -5.91483161e-11]]\n",
      "\n",
      " ...\n",
      "\n",
      " [[ 5.00000000e+02  1.00000000e+02  1.00000000e+02]\n",
      "  [ 5.00049884e+02  9.95340704e+01  1.00166321e+02]\n",
      "  [ 5.00099536e+02  9.90696264e+01  1.00331946e+02]\n",
      "  ...\n",
      "  [ 5.09591892e+02 -9.82808365e-20 -5.91829262e-11]\n",
      "  [ 5.09591892e+02 -9.82482930e-20 -5.91656211e-11]\n",
      "  [ 5.09591892e+02 -9.82157494e-20 -5.91483161e-11]]\n",
      "\n",
      " [[ 5.00000000e+02  1.00000000e+02  1.00000000e+02]\n",
      "  [ 5.00049884e+02  9.95340704e+01  1.00166321e+02]\n",
      "  [ 5.00099536e+02  9.90696264e+01  1.00331946e+02]\n",
      "  ...\n",
      "  [ 5.09591892e+02 -9.82808365e-20 -5.91829262e-11]\n",
      "  [ 5.09591892e+02 -9.82482930e-20 -5.91656211e-11]\n",
      "  [ 5.09591892e+02 -9.82157494e-20 -5.91483161e-11]]\n",
      "\n",
      " [[ 5.00000000e+02  1.00000000e+02  1.00000000e+02]\n",
      "  [ 5.00049884e+02  9.95340704e+01  1.00166321e+02]\n",
      "  [ 5.00099536e+02  9.90696264e+01  1.00331946e+02]\n",
      "  ...\n",
      "  [ 5.09591892e+02 -9.82808365e-20 -5.91829262e-11]\n",
      "  [ 5.09591892e+02 -9.82482930e-20 -5.91656211e-11]\n",
      "  [ 5.09591892e+02 -9.82157494e-20 -5.91483161e-11]]]\n"
     ]
    },
    {
     "name": "stderr",
     "output_type": "stream",
     "text": [
      "<ipython-input-209-5d91baead28e>:6: DeprecationWarning: scipy.array is deprecated and will be removed in SciPy 2.0.0, use numpy.array instead\n",
      "  sols = array(tim)\n"
     ]
    }
   ],
   "source": [
    "delta = 0.12\n",
    "tim = []\n",
    "for zeta in zetas:\n",
    "    integ_sivz = odeint(nbl_model, y0, t, args=(zeta, delta_p1, delta_p2, delta_g, phi1, phi2, eps1, eps2, mu1, mu2, alpha_n, alpha_i,S_R))\n",
    "    tim.append(integ_sivz)\n",
    "sols = array(tim)\n",
    "print(sols)"
   ]
  },
  {
   "cell_type": "code",
   "execution_count": 210,
   "metadata": {},
   "outputs": [
    {
     "data": {
      "text/plain": [
       "<matplotlib.colorbar.Colorbar at 0x13c1f6160>"
      ]
     },
     "execution_count": 210,
     "metadata": {},
     "output_type": "execute_result"
    },
    {
     "data": {
      "image/png": "[encoded data removed]",
      "text/plain": [
       "<Figure size 432x288 with 2 Axes>"
      ]
     },
     "metadata": {
      "needs_background": "light"
     },
     "output_type": "display_data"
    }
   ],
   "source": [
    "plt.contourf(t,zetas,sols[:,:,0],cmap = 'plasma')\n",
    "plt.gca().invert_yaxis()\n",
    "plt.xlabel('Time (Days)', color = 'k')\n",
    "plt.ylabel('Depth (Meters)', color = 'k')\n",
    "plt.title('Nutrients')\n",
    "plt.colorbar()"
   ]
  },
  {
   "cell_type": "code",
   "execution_count": 143,
   "metadata": {},
   "outputs": [
    {
     "data": {
      "text/plain": [
       "<matplotlib.colorbar.Colorbar at 0x13ad99280>"
      ]
     },
     "execution_count": 143,
     "metadata": {},
     "output_type": "execute_result"
    },
    {
     "data": {
      "image/png": "[encoded data removed]",
      "text/plain": [
       "<Figure size 432x288 with 2 Axes>"
      ]
     },
     "metadata": {
      "needs_background": "light"
     },
     "output_type": "display_data"
    }
   ],
   "source": [
    "plt.contourf(t,zetas,sols[:,:,1],cmap = 'plasma')\n",
    "plt.gca().invert_yaxis()\n",
    "plt.xlabel('Time (Days)', color = 'k')\n",
    "plt.ylabel('Depth (Meters)', color = 'k')\n",
    "plt.title('Biomass of Producer 1')\n",
    "plt.colorbar()"
   ]
  },
  {
   "cell_type": "code",
   "execution_count": 138,
   "metadata": {},
   "outputs": [
    {
     "data": {
      "text/plain": [
       "<matplotlib.colorbar.Colorbar at 0x13b512760>"
      ]
     },
     "execution_count": 138,
     "metadata": {},
     "output_type": "execute_result"
    },
    {
     "data": {
      "image/png": "[encoded data removed]",
      "text/plain": [
       "<Figure size 432x288 with 2 Axes>"
      ]
     },
     "metadata": {
      "needs_background": "light"
     },
     "output_type": "display_data"
    }
   ],
   "source": [
    "plt.contourf(t,zetas,sols[:,:,2],cmap = 'plasma')\n",
    "plt.gca().invert_yaxis()\n",
    "plt.xlabel('Time (Days)', color = 'k')\n",
    "plt.ylabel('Depth (Meters)', color = 'k')\n",
    "plt.title('Biomass of Producer 2')\n",
    "plt.colorbar()"
   ]
  },
  {
   "cell_type": "code",
   "execution_count": 139,
   "metadata": {},
   "outputs": [
    {
     "data": {
      "text/plain": [
       "<matplotlib.colorbar.Colorbar at 0x13b5da310>"
      ]
     },
     "execution_count": 139,
     "metadata": {},
     "output_type": "execute_result"
    },
    {
     "data": {
      "image/png": "[encoded data removed]",
      "text/plain": [
       "<Figure size 432x288 with 2 Axes>"
      ]
     },
     "metadata": {
      "needs_background": "light"
     },
     "output_type": "display_data"
    }
   ],
   "source": [
    "plt.contourf(t,zetas,sols[:,:,3],cmap = 'plasma')\n",
    "plt.gca().invert_yaxis()\n",
    "plt.xlabel('Time (Days)', color = 'k')\n",
    "plt.ylabel('Depth (Meters)', color = 'k')\n",
    "plt.title('Biomass of Consumer')\n",
    "plt.colorbar()"
   ]
  },
  {
   "cell_type": "code",
   "execution_count": null,
   "metadata": {},
   "outputs": [],
   "source": []
  },
  {
   "cell_type": "code",
   "execution_count": null,
   "metadata": {},
   "outputs": [],
   "source": []
  }
 ],
 "metadata": {
  "kernelspec": {
   "display_name": "Python 3",
   "language": "python",
   "name": "python3"
  },
  "language_info": {
   "codemirror_mode": {
    "name": "ipython",
    "version": 3
   },
   "file_extension": ".py",
   "mimetype": "text/x-python",
   "name": "python",
   "nbconvert_exporter": "python",
   "pygments_lexer": "ipython3",
   "version": "3.8.5"
  }
 },
 "nbformat": 4,
 "nbformat_minor": 4
}
