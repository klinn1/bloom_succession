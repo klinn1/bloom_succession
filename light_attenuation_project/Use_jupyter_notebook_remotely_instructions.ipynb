{
 "cells": [
  {
   "cell_type": "code",
   "execution_count": null,
   "metadata": {},
   "outputs": [],
   "source": [
    "jupyter notebook --no-browser --port=8889\n",
    "\n",
    "# you should leave the this open"
   ]
  },
  {
   "cell_type": "code",
   "execution_count": null,
   "metadata": {},
   "outputs": [],
   "source": [
    "ssh -N -f -L localhost:8888:localhost:8889 username@your_remote_host_name\n",
    "\n",
    "# make sure to change `username` to your real username in remote host\n",
    "# change `your_remote_host_name` to your address of your working station\n",
    "# Example: ssh -N -f -L localhost:8888:localhost:8889 laura@cs.rutgers.edu"
   ]
  },
  {
   "cell_type": "code",
   "execution_count": null,
   "metadata": {},
   "outputs": [],
   "source": [
    "localhost:8888\n",
    "# you will see your notebooks in your given directory"
   ]
  }
 ],
 "metadata": {
  "kernelspec": {
   "display_name": "Python 3",
   "language": "python",
   "name": "python3"
  },
  "language_info": {
   "codemirror_mode": {
    "name": "ipython",
    "version": 3
   },
   "file_extension": ".py",
   "mimetype": "text/x-python",
   "name": "python",
   "nbconvert_exporter": "python",
   "pygments_lexer": "ipython3",
   "version": "3.8.2"
  }
 },
 "nbformat": 4,
 "nbformat_minor": 4
}
